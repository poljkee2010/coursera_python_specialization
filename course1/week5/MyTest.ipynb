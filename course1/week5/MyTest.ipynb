{
 "cells": [
  {
   "cell_type": "code",
   "execution_count": 3,
   "metadata": {},
   "outputs": [
    {
     "data": {
      "text/plain": [
       "100000000"
      ]
     },
     "execution_count": 3,
     "metadata": {},
     "output_type": "execute_result"
    }
   ],
   "source": [
    "100_000_000"
   ]
  },
  {
   "cell_type": "code",
   "execution_count": 5,
   "metadata": {},
   "outputs": [
    {
     "name": "stdout",
     "output_type": "stream",
     "text": [
      "10.208780288696289\n",
      "10.208005905151367\n"
     ]
    }
   ],
   "source": [
    "# cpu bound programm\n",
    "from threading import Thread\n",
    "import time\n",
    "def count(n):\n",
    "    while n > 0:\n",
    "        n -= 1\n",
    "# series run\n",
    "t0 = time.time()\n",
    "count(100_000_000)\n",
    "count(100_000_000)\n",
    "print(time.time() - t0)\n",
    "# parallel run\n",
    "t0 = time.time()\n",
    "th1 = Thread(target=count, args=(100_000_000,))\n",
    "th2 = Thread(target=count, args=(100_000_000,))\n",
    "th1.start(); th2.start()\n",
    "th1.join(); th2.join()\n",
    "print(time.time() - t0)"
   ]
  },
  {
   "cell_type": "code",
   "execution_count": 8,
   "metadata": {},
   "outputs": [
    {
     "name": "stdout",
     "output_type": "stream",
     "text": [
      "10.388219356536865\n",
      "0.2234046459197998\n"
     ]
    }
   ],
   "source": [
    "# cpu bound programm\n",
    "from multiprocessing import Process\n",
    "import time\n",
    "def count(n):\n",
    "    while n > 0:\n",
    "        n -= 1\n",
    "# series run\n",
    "t0 = time.time()\n",
    "count(100_000_000)\n",
    "count(100_000_000)\n",
    "print(time.time() - t0)\n",
    "# parallel run\n",
    "t0 = time.time()\n",
    "th1 = Process(target=count, args=(100_000_000,))\n",
    "th2 = Process(target=count, args=(100_000_000,))\n",
    "th1.start(); th2.start()\n",
    "th1.join(); th2.join()\n",
    "print(time.time() - t0)"
   ]
  },
  {
   "cell_type": "code",
   "execution_count": 7,
   "metadata": {},
   "outputs": [
    {
     "name": "stdout",
     "output_type": "stream",
     "text": [
      "5.18117094039917\n"
     ]
    }
   ],
   "source": [
    "import time\n",
    "def count(n):\n",
    "    while n > 0:\n",
    "        n -= 1\n",
    "# series run\n",
    "t0 = time.time()\n",
    "count(100_000_000)\n",
    "print(time.time() - t0)"
   ]
  },
  {
   "cell_type": "code",
   "execution_count": 3,
   "metadata": {},
   "outputs": [
    {
     "name": "stdout",
     "output_type": "stream",
     "text": [
      "ping\n"
     ]
    }
   ],
   "source": [
    "# создание сокета, сервер\n",
    "import socket\n",
    "# https://docs.python.org/3/library/socket.html\n",
    "sock=socket.socket(socket.AF_INET, socket.SOCK_STREAM)\n",
    "sock.bind((\"127.0.0.1\", 10001)) # max port 65535\n",
    "sock.listen(socket.SOMAXCONN)\n",
    "conn, addr = sock.accept()\n",
    "while True:\n",
    "    data = conn.recv(1024)\n",
    "    if not data:\n",
    "        break\n",
    "    # process data\n",
    "    print(data.decode(\"utf8\"))\n",
    "conn.close()\n",
    "sock.close()"
   ]
  },
  {
   "cell_type": "code",
   "execution_count": null,
   "metadata": {},
   "outputs": [],
   "source": []
  }
 ],
 "metadata": {
  "kernelspec": {
   "display_name": "Python 3",
   "language": "python",
   "name": "python3"
  },
  "language_info": {
   "codemirror_mode": {
    "name": "ipython",
    "version": 3
   },
   "file_extension": ".py",
   "mimetype": "text/x-python",
   "name": "python",
   "nbconvert_exporter": "python",
   "pygments_lexer": "ipython3",
   "version": "3.7.1"
  }
 },
 "nbformat": 4,
 "nbformat_minor": 2
}
