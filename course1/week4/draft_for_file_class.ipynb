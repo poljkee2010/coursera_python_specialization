{
 "cells": [
  {
   "cell_type": "markdown",
   "metadata": {},
   "source": [
    "# <center>Задание по программированию: Файл с магическими методами"
   ]
  },
  {
   "cell_type": "code",
   "execution_count": 3,
   "metadata": {},
   "outputs": [],
   "source": [
    "import tempfile\n",
    "import os"
   ]
  },
  {
   "cell_type": "code",
   "execution_count": null,
   "metadata": {},
   "outputs": [],
   "source": [
    "class File():\n",
    "    \n",
    "    def __init__(self, path):\n",
    "        self.path = path\n",
    "        \n",
    "    \n",
    "    def write(self, text):\n",
    "        with open(self.path, 'w') as file:\n",
    "            file.write(text)\n",
    "            \n",
    "    def __add__(self, obj):\n",
    "        with open(os.path.join(tempfile.gettempdir, \"new_obj.txt\"), 'w') as new_obj, \\\n",
    "        open(self.path) as first, open(obj.path) as second: \n",
    "            result = first.read() + second.read()\n",
    "            new_obj.write(result)\n",
    "            return result\n",
    "        \n",
    "    def __iter_(self):\n",
    "        with open(self.path) as file:\n",
    "            self.text = file.readlines()\n",
    "            self.current = 0\n",
    "        return self\n",
    "    \n",
    "    def __next__(self):\n",
    "        self.current += 1\n",
    "        if self.current >= len(self.text):\n",
    "            raise StopIteration\n",
    "        return self.text[self.current]\n",
    "    \n",
    "    def __str__(self):\n",
    "        return self.path\n",
    "        \n",
    "            "
   ]
  }
 ],
 "metadata": {
  "kernelspec": {
   "display_name": "Python 3",
   "language": "python",
   "name": "python3"
  },
  "language_info": {
   "codemirror_mode": {
    "name": "ipython",
    "version": 3
   },
   "file_extension": ".py",
   "mimetype": "text/x-python",
   "name": "python",
   "nbconvert_exporter": "python",
   "pygments_lexer": "ipython3",
   "version": "3.7.1"
  }
 },
 "nbformat": 4,
 "nbformat_minor": 2
}
