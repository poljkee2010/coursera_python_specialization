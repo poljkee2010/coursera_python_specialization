{
 "cells": [
  {
   "cell_type": "code",
   "execution_count": 5,
   "metadata": {},
   "outputs": [],
   "source": [
    "import csv\n",
    "import os"
   ]
  },
  {
   "cell_type": "code",
   "execution_count": 2,
   "metadata": {},
   "outputs": [
    {
     "name": "stdout",
     "output_type": "stream",
     "text": [
      "['car', 'Nissan xTtrail', '4', 'f1.jpeg', '', '2.5', '']\n",
      "['truck', 'Man', '', 'f2.png', '8x3x2.5', '20', '']\n",
      "['truck', 'Man', '', 'f2.png', '', '20', '']\n",
      "['car', 'Mazda 6', '4', 'f3.jpeg', '', '2.5', '']\n",
      "['', '', '', '']\n",
      "['spec_machine', 'Hitachi', '', 'f4', '', '1.2', 'Р›РµРіРєР°СЏ С‚РµС…РЅРёРєР° РґР»СЏ СѓР±РѕСЂРєРё СЃРЅРµРіР°']\n",
      "[]\n"
     ]
    }
   ],
   "source": [
    "with open(\"data\\coursera_week3_cars.csv\") as csv_fd:\n",
    "    reader = csv.reader(csv_fd, delimiter=';')\n",
    "    next(reader)  # пропускаем заголовок\n",
    "    for row in reader:\n",
    "        print(row)\n"
   ]
  },
  {
   "cell_type": "code",
   "execution_count": 10,
   "metadata": {},
   "outputs": [
    {
     "data": {
      "text/plain": [
       "'.jpeg'"
      ]
     },
     "execution_count": 10,
     "metadata": {},
     "output_type": "execute_result"
    }
   ],
   "source": [
    "os.path.splitext(\"123.jpeg\")[-1]"
   ]
  },
  {
   "cell_type": "code",
   "execution_count": 21,
   "metadata": {},
   "outputs": [
    {
     "data": {
      "text/plain": [
       "[0.0, 0.0, 0.0]"
      ]
     },
     "execution_count": 21,
     "metadata": {},
     "output_type": "execute_result"
    }
   ],
   "source": [
    "body_whl = '1x'\n",
    "try:\n",
    "    whl = [float(size.strip()) for size in body_whl.split('x')]\n",
    "except ValueError:\n",
    "    whl = [0., 0., 0.]\n",
    "whl"
   ]
  },
  {
   "cell_type": "code",
   "execution_count": 1,
   "metadata": {},
   "outputs": [],
   "source": [
    "from course1.week3.cars import *"
   ]
  },
  {
   "cell_type": "code",
   "execution_count": 2,
   "metadata": {},
   "outputs": [],
   "source": [
    "def get_car_list(csv_filename):\n",
    "    car_list = []\n",
    "    with open(csv_filename) as csv_fd:\n",
    "        reader = csv.reader(csv_fd, delimiter=';')\n",
    "        next(reader)  # пропускаем заголовок\n",
    "        for row in reader:\n",
    "            if len(row) != 7:\n",
    "                continue\n",
    "            if row[0] == \"car\":\n",
    "                car = Car(row[0], row[1], row[3], row[5], row[2])\n",
    "            if row[0] == \"truck\":\n",
    "                car = Truck(row[0], row[1], row[3], row[5], row[4])\n",
    "            if row[0] == \"spec_machine\":\n",
    "                car = SpecMachine(row[0], row[1], row[3], row[5], row[6])\n",
    "            car_list.append(car)\n",
    "    return car_list"
   ]
  },
  {
   "cell_type": "code",
   "execution_count": 3,
   "metadata": {},
   "outputs": [],
   "source": [
    "car_list = get_car_list(\"data\\coursera_week3_cars.csv\")"
   ]
  },
  {
   "cell_type": "code",
   "execution_count": 4,
   "metadata": {},
   "outputs": [
    {
     "data": {
      "text/plain": [
       "[carf1.jpeg, truckf2.png, truckf2.png, carf3.jpeg, spec_machinef4]"
      ]
     },
     "execution_count": 4,
     "metadata": {},
     "output_type": "execute_result"
    }
   ],
   "source": [
    "car_list"
   ]
  },
  {
   "cell_type": "code",
   "execution_count": null,
   "metadata": {},
   "outputs": [],
   "source": []
  }
 ],
 "metadata": {
  "kernelspec": {
   "display_name": "Python 3",
   "language": "python",
   "name": "python3"
  },
  "language_info": {
   "codemirror_mode": {
    "name": "ipython",
    "version": 3
   },
   "file_extension": ".py",
   "mimetype": "text/x-python",
   "name": "python",
   "nbconvert_exporter": "python",
   "pygments_lexer": "ipython3",
   "version": "3.7.1"
  }
 },
 "nbformat": 4,
 "nbformat_minor": 1
}
