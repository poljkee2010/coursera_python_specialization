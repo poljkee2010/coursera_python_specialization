{
 "cells": [
  {
   "cell_type": "code",
   "execution_count": 1,
   "metadata": {},
   "outputs": [],
   "source": [
    "from bs4 import BeautifulSoup\n",
    "import re\n",
    "import os"
   ]
  },
  {
   "cell_type": "code",
   "execution_count": 483,
   "metadata": {},
   "outputs": [],
   "source": [
    "import numpy as np"
   ]
  },
  {
   "cell_type": "code",
   "execution_count": 2,
   "metadata": {},
   "outputs": [],
   "source": [
    "def build_tree(start, end, path):\n",
    "    link_re = re.compile(r\"(?<=/wiki/)[\\w()]+\")  # Искать ссылки можно как угодно, не обязательно через re\n",
    "    files = dict.fromkeys(os.listdir(path))  # Словарь вида {\"filename1\": None, \"filename2\": None, ...}\n",
    "    # TODO Проставить всем ключам в files правильного родителя в значение, начиная от start\n",
    "    return files"
   ]
  },
  {
   "cell_type": "code",
   "execution_count": 30,
   "metadata": {},
   "outputs": [],
   "source": [
    "path = \"wiki\""
   ]
  },
  {
   "cell_type": "code",
   "execution_count": 4,
   "metadata": {},
   "outputs": [],
   "source": [
    "# dict.fromkeys(os.listdir(path))"
   ]
  },
  {
   "cell_type": "code",
   "execution_count": 380,
   "metadata": {},
   "outputs": [],
   "source": [
    "with open(os.path.join(path, \"Stone_Age\"), encoding=\"utf-8\") as data:\n",
    "    soup = BeautifulSoup(data, \"lxml\")\n",
    "\n",
    "body = soup.find(id=\"bodyContent\")"
   ]
  },
  {
   "cell_type": "code",
   "execution_count": 381,
   "metadata": {},
   "outputs": [],
   "source": [
    "# print(body.prettify())"
   ]
  },
  {
   "cell_type": "code",
   "execution_count": 382,
   "metadata": {},
   "outputs": [
    {
     "data": {
      "text/plain": [
       "15"
      ]
     },
     "execution_count": 382,
     "metadata": {},
     "output_type": "execute_result"
    }
   ],
   "source": [
    "len(body)"
   ]
  },
  {
   "cell_type": "code",
   "execution_count": 383,
   "metadata": {},
   "outputs": [
    {
     "data": {
      "text/plain": [
       "'260'"
      ]
     },
     "execution_count": 383,
     "metadata": {},
     "output_type": "execute_result"
    }
   ],
   "source": [
    "body.find_all(name=\"img\")[0][\"width\"]"
   ]
  },
  {
   "cell_type": "code",
   "execution_count": 384,
   "metadata": {},
   "outputs": [],
   "source": [
    "imgwidth_more_eq200 = [item for item in body.find_all(\"img\") if float(item[\"width\"]) >= 200]"
   ]
  },
  {
   "cell_type": "code",
   "execution_count": 385,
   "metadata": {},
   "outputs": [
    {
     "data": {
      "text/plain": [
       "13"
      ]
     },
     "execution_count": 385,
     "metadata": {},
     "output_type": "execute_result"
    }
   ],
   "source": [
    "len(imgwidth_more_eq200)"
   ]
  },
  {
   "cell_type": "code",
   "execution_count": 386,
   "metadata": {},
   "outputs": [
    {
     "data": {
      "text/plain": [
       "'Contents'"
      ]
     },
     "execution_count": 386,
     "metadata": {},
     "output_type": "execute_result"
    }
   ],
   "source": [
    "body.h2.text"
   ]
  },
  {
   "cell_type": "code",
   "execution_count": 387,
   "metadata": {},
   "outputs": [
    {
     "data": {
      "text/plain": [
       "['Contents',\n",
       " 'End of the Stone Age',\n",
       " 'Concept of the Stone Age',\n",
       " 'Three-stage system',\n",
       " 'Chronology',\n",
       " 'Three-age chronology',\n",
       " 'Epipaleolithic/Mesolithic',\n",
       " 'Early Stone Age (ESA)',\n",
       " 'Tools',\n",
       " 'External links']"
      ]
     },
     "execution_count": 387,
     "metadata": {},
     "output_type": "execute_result"
    }
   ],
   "source": [
    "[item.text for item in body.find_all(name=re.compile(r\"h[1-6]\")) if item.text[0] in [\"E\", \"T\", \"C\"]]"
   ]
  },
  {
   "cell_type": "code",
   "execution_count": 554,
   "metadata": {},
   "outputs": [
    {
     "data": {
      "text/plain": [
       "['Contents',\n",
       " 'End of the Stone Age',\n",
       " 'Concept of the Stone Age',\n",
       " 'Three-stage system',\n",
       " 'Chronology',\n",
       " 'Three-age chronology',\n",
       " 'Tools',\n",
       " 'External links']"
      ]
     },
     "execution_count": 554,
     "metadata": {},
     "output_type": "execute_result"
    }
   ],
   "source": [
    "[item.text for item in body.find_all(name=re.compile(r\"h[1-6]\"), text=re.compile(r\"[ETC][\\w\\W]+\"))]"
   ]
  },
  {
   "cell_type": "code",
   "execution_count": 505,
   "metadata": {},
   "outputs": [],
   "source": [
    "data1 = \"\"\"<p><span><a></a></span> <a></a> <a href=\"/wiki/North_Africa\" title=\"North Africa\">North Africa</a> </p>\"\"\"\n",
    "# data1 = \"<p><a><span></span></a>, <a></a>, <a></a></p>\""
   ]
  },
  {
   "cell_type": "code",
   "execution_count": 506,
   "metadata": {},
   "outputs": [],
   "source": [
    "body1 = BeautifulSoup(data1, \"lxml\")"
   ]
  },
  {
   "cell_type": "code",
   "execution_count": 507,
   "metadata": {},
   "outputs": [
    {
     "name": "stdout",
     "output_type": "stream",
     "text": [
      "<html>\n",
      " <body>\n",
      "  <p>\n",
      "   <span>\n",
      "    <a>\n",
      "    </a>\n",
      "   </span>\n",
      "   <a>\n",
      "   </a>\n",
      "   <a href=\"/wiki/North_Africa\" title=\"North Africa\">\n",
      "    North Africa\n",
      "   </a>\n",
      "  </p>\n",
      " </body>\n",
      "</html>\n"
     ]
    }
   ],
   "source": [
    "print(body1.prettify())"
   ]
  },
  {
   "cell_type": "code",
   "execution_count": 508,
   "metadata": {},
   "outputs": [],
   "source": [
    "first = body1.find(\"a\")"
   ]
  },
  {
   "cell_type": "code",
   "execution_count": null,
   "metadata": {},
   "outputs": [],
   "source": []
  },
  {
   "cell_type": "code",
   "execution_count": 509,
   "metadata": {},
   "outputs": [
    {
     "data": {
      "text/plain": [
       "[]"
      ]
     },
     "execution_count": 509,
     "metadata": {},
     "output_type": "execute_result"
    }
   ],
   "source": [
    "first.find_next_siblings()"
   ]
  },
  {
   "cell_type": "code",
   "execution_count": 510,
   "metadata": {},
   "outputs": [],
   "source": [
    "second = first.find_next()"
   ]
  },
  {
   "cell_type": "code",
   "execution_count": 511,
   "metadata": {},
   "outputs": [
    {
     "data": {
      "text/plain": [
       "[<a href=\"/wiki/North_Africa\" title=\"North Africa\">North Africa</a>]"
      ]
     },
     "execution_count": 511,
     "metadata": {},
     "output_type": "execute_result"
    }
   ],
   "source": [
    "second.find_next_siblings()"
   ]
  },
  {
   "cell_type": "code",
   "execution_count": 512,
   "metadata": {},
   "outputs": [
    {
     "data": {
      "text/plain": [
       "[<a></a>, <a href=\"/wiki/North_Africa\" title=\"North Africa\">North Africa</a>]"
      ]
     },
     "execution_count": 512,
     "metadata": {},
     "output_type": "execute_result"
    }
   ],
   "source": [
    "first.find_all_next()"
   ]
  },
  {
   "cell_type": "code",
   "execution_count": 502,
   "metadata": {},
   "outputs": [
    {
     "data": {
      "text/plain": [
       "[1, 2, 1]"
      ]
     },
     "execution_count": 502,
     "metadata": {},
     "output_type": "execute_result"
    }
   ],
   "source": [
    "[1+len(a_item.find_next_siblings()) for a_item in body1.find_all(\"a\")]"
   ]
  },
  {
   "cell_type": "code",
   "execution_count": 514,
   "metadata": {},
   "outputs": [
    {
     "data": {
      "text/plain": [
       "[[], [<a href=\"/wiki/North_Africa\" title=\"North Africa\">North Africa</a>], []]"
      ]
     },
     "execution_count": 514,
     "metadata": {},
     "output_type": "execute_result"
    }
   ],
   "source": [
    "[a_item.find_next_siblings(name=\"a\") for a_item in body1.find_all(\"a\")]"
   ]
  },
  {
   "cell_type": "code",
   "execution_count": 513,
   "metadata": {},
   "outputs": [
    {
     "data": {
      "text/plain": [
       "[<a></a>,\n",
       " <a></a>,\n",
       " <a href=\"/wiki/North_Africa\" title=\"North Africa\">North Africa</a>]"
      ]
     },
     "execution_count": 513,
     "metadata": {},
     "output_type": "execute_result"
    }
   ],
   "source": [
    "body1.find_all(\"a\")"
   ]
  },
  {
   "cell_type": "code",
   "execution_count": 504,
   "metadata": {},
   "outputs": [
    {
     "data": {
      "text/plain": [
       "'a'"
      ]
     },
     "execution_count": 504,
     "metadata": {},
     "output_type": "execute_result"
    }
   ],
   "source": [
    "body1.find_all(\"a\")[1].find_next_siblings()[0].name"
   ]
  },
  {
   "cell_type": "code",
   "execution_count": null,
   "metadata": {},
   "outputs": [],
   "source": []
  },
  {
   "cell_type": "code",
   "execution_count": 481,
   "metadata": {},
   "outputs": [
    {
     "data": {
      "text/plain": [
       "16"
      ]
     },
     "execution_count": 481,
     "metadata": {},
     "output_type": "execute_result"
    }
   ],
   "source": [
    "max([1+len(a_item.find_next_siblings(\"a\")) for a_item in body.find_all(\"a\")])"
   ]
  },
  {
   "cell_type": "code",
   "execution_count": 485,
   "metadata": {},
   "outputs": [
    {
     "data": {
      "text/plain": [
       "189"
      ]
     },
     "execution_count": 485,
     "metadata": {},
     "output_type": "execute_result"
    }
   ],
   "source": [
    "ind = np.argmax([1+len(a_item.find_next_siblings(\"a\")) for a_item in body.find_all(\"a\")])\n",
    "ind"
   ]
  },
  {
   "cell_type": "code",
   "execution_count": 515,
   "metadata": {},
   "outputs": [
    {
     "data": {
      "text/plain": [
       "[<a href=\"/wiki/North_Africa\" title=\"North Africa\">North Africa</a>,\n",
       " <a href=\"/wiki/Eurasia\" title=\"Eurasia\">Eurasia</a>,\n",
       " <a href=\"/wiki/Metallurgy\" title=\"Metallurgy\">metallurgy</a>,\n",
       " <a href=\"/wiki/5th_millennium_BC\" title=\"5th millennium BC\">5th</a>,\n",
       " <a href=\"/wiki/6th_millennium_BC\" title=\"6th millennium BC\">6th</a>,\n",
       " <a href=\"/wiki/Millennium\" title=\"Millennium\">millennium</a>,\n",
       " <a href=\"/wiki/Majdanpek\" title=\"Majdanpek\">Majdanpek</a>,\n",
       " <a class=\"new\" href=\"/w/index.php?title=Yarmovac&amp;action=edit&amp;redlink=1\" title=\"Yarmovac (page does not exist)\">Yarmovac</a>,\n",
       " <a href=\"/wiki/Plo%C4%8Dnik\" title=\"Pločnik\">Pločnik</a>,\n",
       " <a href=\"/wiki/Prokuplje#Archaeological_findings\" title=\"Prokuplje\">a copper axe from 5500 BCE</a>,\n",
       " <a class=\"mw-redirect\" href=\"/wiki/Vinca_culture\" title=\"Vinca culture\">Vinca culture</a>,\n",
       " <sup class=\"reference\" id=\"cite_ref-11\"><a href=\"#cite_note-11\">[11]</a></sup>,\n",
       " <a class=\"mw-redirect\" href=\"/wiki/Rudna_Glava\" title=\"Rudna Glava\">Rudna Glava</a>,\n",
       " <a href=\"/wiki/Serbia\" title=\"Serbia\">Serbia</a>,\n",
       " <a class=\"mw-redirect\" href=\"/wiki/%C3%96tzi_the_Iceman\" title=\"Ötzi the Iceman\">Ötzi the Iceman</a>,\n",
       " <a href=\"/wiki/Mummy\" title=\"Mummy\">mummy</a>]"
      ]
     },
     "execution_count": 515,
     "metadata": {},
     "output_type": "execute_result"
    }
   ],
   "source": [
    "[a_item.find_next_siblings() for a_item in body.find_all(\"a\")][ind]"
   ]
  },
  {
   "cell_type": "code",
   "execution_count": 516,
   "metadata": {},
   "outputs": [],
   "source": [
    "raw_item_a = [a_item.find_next_siblings() for a_item in body.find_all(\"a\")][ind]"
   ]
  },
  {
   "cell_type": "code",
   "execution_count": 533,
   "metadata": {},
   "outputs": [],
   "source": [
    "raw_items_a = [a_item.find_next_siblings() for a_item in body.find_all(\"a\")]\n",
    "length_list = []\n",
    "for raw_item in raw_items_a:\n",
    "    a_list = [item.name for item in raw_item]\n",
    "    local_length_list = [len(token)+1 for token in (\"\".join([item if item==\"a\" else \" \" for item in a_list])).split(\" \")]\n",
    "    length_list.extend(local_length_list)"
   ]
  },
  {
   "cell_type": "code",
   "execution_count": 535,
   "metadata": {},
   "outputs": [
    {
     "data": {
      "text/plain": [
       "12"
      ]
     },
     "execution_count": 535,
     "metadata": {},
     "output_type": "execute_result"
    }
   ],
   "source": [
    "max(length_list)"
   ]
  },
  {
   "cell_type": "code",
   "execution_count": null,
   "metadata": {},
   "outputs": [],
   "source": []
  },
  {
   "cell_type": "code",
   "execution_count": 518,
   "metadata": {},
   "outputs": [
    {
     "data": {
      "text/plain": [
       "['a',\n",
       " 'a',\n",
       " 'a',\n",
       " 'a',\n",
       " 'a',\n",
       " 'a',\n",
       " 'a',\n",
       " 'a',\n",
       " 'a',\n",
       " 'a',\n",
       " 'a',\n",
       " 'sup',\n",
       " 'a',\n",
       " 'a',\n",
       " 'a',\n",
       " 'a']"
      ]
     },
     "execution_count": 518,
     "metadata": {},
     "output_type": "execute_result"
    }
   ],
   "source": [
    "a_list = [item.name for item in raw_item_a]\n",
    "a_list"
   ]
  },
  {
   "cell_type": "code",
   "execution_count": 528,
   "metadata": {},
   "outputs": [
    {
     "data": {
      "text/plain": [
       "[11, 4]"
      ]
     },
     "execution_count": 528,
     "metadata": {},
     "output_type": "execute_result"
    }
   ],
   "source": [
    "[len(token) for token in (\"\".join([item if item==\"a\" else \" \" for item in a_list])).split(\" \")]"
   ]
  },
  {
   "cell_type": "code",
   "execution_count": null,
   "metadata": {},
   "outputs": [],
   "source": [
    "[ for n, item in enumerate([11, 15, 25])]"
   ]
  },
  {
   "cell_type": "code",
   "execution_count": 522,
   "metadata": {},
   "outputs": [],
   "source": [
    "test = [0, 11, 15, 25, 35]"
   ]
  },
  {
   "cell_type": "code",
   "execution_count": 524,
   "metadata": {},
   "outputs": [
    {
     "data": {
      "text/plain": [
       "[11, 15, 25, 35]"
      ]
     },
     "execution_count": 524,
     "metadata": {},
     "output_type": "execute_result"
    }
   ],
   "source": [
    "test[1:]"
   ]
  },
  {
   "cell_type": "code",
   "execution_count": 476,
   "metadata": {},
   "outputs": [
    {
     "data": {
      "text/plain": [
       "<dl>\n",
       "<dd><i><a href=\"/wiki/Homo\" title=\"Homo\">Homo</a></i></dd>\n",
       "<dd><a href=\"/wiki/Control_of_fire_by_early_humans\" title=\"Control of fire by early humans\">Control of fire</a></dd>\n",
       "<dd><a href=\"/wiki/Stone_tool\" title=\"Stone tool\">Stone tools</a></dd>\n",
       "</dl>"
      ]
     },
     "execution_count": 476,
     "metadata": {},
     "output_type": "execute_result"
    }
   ],
   "source": [
    "[(a_item.find_next_siblings()) for a_item in body.find_all(\"a\", href=re.compile(r\"(?<=/wiki/)[\\w()]+\"))][7][1]"
   ]
  },
  {
   "cell_type": "code",
   "execution_count": null,
   "metadata": {},
   "outputs": [],
   "source": []
  },
  {
   "cell_type": "code",
   "execution_count": null,
   "metadata": {},
   "outputs": [],
   "source": []
  },
  {
   "cell_type": "code",
   "execution_count": 202,
   "metadata": {},
   "outputs": [
    {
     "data": {
      "text/plain": [
       "<generator object PageElement.parents at 0x000001536B2E4CF0>"
      ]
     },
     "execution_count": 202,
     "metadata": {},
     "output_type": "execute_result"
    }
   ],
   "source": [
    "body1.parent"
   ]
  },
  {
   "cell_type": "code",
   "execution_count": 197,
   "metadata": {},
   "outputs": [
    {
     "data": {
      "text/plain": [
       "<p><span><a></a></span> <a></a> <a></a></p>"
      ]
     },
     "execution_count": 197,
     "metadata": {},
     "output_type": "execute_result"
    }
   ],
   "source": [
    "body1.body.next"
   ]
  },
  {
   "cell_type": "markdown",
   "metadata": {},
   "source": [
    "**списки вложенные и не вложенные**"
   ]
  },
  {
   "cell_type": "code",
   "execution_count": 285,
   "metadata": {},
   "outputs": [],
   "source": [
    "data3 = \"<ol><li></li></ol>, <ul><li><ol><li></li></ol></li></ul>\"\n",
    "body3 = BeautifulSoup(data3, \"lxml\")"
   ]
  },
  {
   "cell_type": "code",
   "execution_count": 287,
   "metadata": {},
   "outputs": [
    {
     "name": "stdout",
     "output_type": "stream",
     "text": [
      "<html>\n",
      " <body>\n",
      "  <ol>\n",
      "   <li>\n",
      "   </li>\n",
      "  </ol>\n",
      "  ,\n",
      "  <ul>\n",
      "   <li>\n",
      "    <ol>\n",
      "     <li>\n",
      "     </li>\n",
      "    </ol>\n",
      "   </li>\n",
      "  </ul>\n",
      " </body>\n",
      "</html>\n"
     ]
    }
   ],
   "source": [
    "print(body3.prettify())"
   ]
  },
  {
   "cell_type": "code",
   "execution_count": 306,
   "metadata": {},
   "outputs": [
    {
     "data": {
      "text/plain": [
       "[<ol><li></li></ol>, <ul><li><ol><li></li></ol></li></ul>, <ol><li></li></ol>]"
      ]
     },
     "execution_count": 306,
     "metadata": {},
     "output_type": "execute_result"
    }
   ],
   "source": [
    "lsts = body3.find_all([\"ul\", \"ol\"])\n",
    "lsts"
   ]
  },
  {
   "cell_type": "code",
   "execution_count": 327,
   "metadata": {},
   "outputs": [
    {
     "data": {
      "text/plain": [
       "[<li><ol><li></li></ol></li>,\n",
       " <ul><li><ol><li></li></ol></li></ul>,\n",
       " <body><ol><li></li></ol>, <ul><li><ol><li></li></ol></li></ul></body>,\n",
       " <html><body><ol><li></li></ol>, <ul><li><ol><li></li></ol></li></ul></body></html>,\n",
       " <html><body><ol><li></li></ol>, <ul><li><ol><li></li></ol></li></ul></body></html>]"
      ]
     },
     "execution_count": 327,
     "metadata": {},
     "output_type": "execute_result"
    }
   ],
   "source": [
    "lsts_0 = lsts[2]\n",
    "pp = lsts_0.find_parents()\n",
    "pp"
   ]
  },
  {
   "cell_type": "code",
   "execution_count": 340,
   "metadata": {},
   "outputs": [
    {
     "data": {
      "text/plain": [
       "<html><body><ol><li></li></ol>, <ul><li><ol><li></li></ol></li></ul></body></html>"
      ]
     },
     "execution_count": 340,
     "metadata": {},
     "output_type": "execute_result"
    }
   ],
   "source": [
    "lll.find_parents()"
   ]
  },
  {
   "cell_type": "code",
   "execution_count": 317,
   "metadata": {},
   "outputs": [
    {
     "data": {
      "text/plain": [
       "'ol'"
      ]
     },
     "execution_count": 317,
     "metadata": {},
     "output_type": "execute_result"
    }
   ],
   "source": [
    "lsts_0.name"
   ]
  },
  {
   "cell_type": "code",
   "execution_count": 328,
   "metadata": {},
   "outputs": [
    {
     "data": {
      "text/plain": [
       "['li', 'ul', 'body', 'html', '[document]']"
      ]
     },
     "execution_count": 328,
     "metadata": {},
     "output_type": "execute_result"
    }
   ],
   "source": [
    "[item.name for item in pp] "
   ]
  },
  {
   "cell_type": "code",
   "execution_count": 336,
   "metadata": {},
   "outputs": [
    {
     "data": {
      "text/plain": [
       "True"
      ]
     },
     "execution_count": 336,
     "metadata": {},
     "output_type": "execute_result"
    }
   ],
   "source": [
    "\"ul\" in [item.name for item in pp] "
   ]
  },
  {
   "cell_type": "code",
   "execution_count": 346,
   "metadata": {},
   "outputs": [
    {
     "data": {
      "text/plain": [
       "[True, True, False]"
      ]
     },
     "execution_count": 346,
     "metadata": {},
     "output_type": "execute_result"
    }
   ],
   "source": [
    "ul_ol_lists = body3.find_all([\"ul\", \"ol\"])\n",
    "lists = [set([\"ul\", \"ol\"]).isdisjoint({item.name for item in lst.find_parents()}) for lst in ul_ol_lists]\n",
    "lists"
   ]
  },
  {
   "cell_type": "code",
   "execution_count": 348,
   "metadata": {},
   "outputs": [
    {
     "data": {
      "text/plain": [
       "2"
      ]
     },
     "execution_count": 348,
     "metadata": {},
     "output_type": "execute_result"
    }
   ],
   "source": [
    "import numpy as np\n",
    "np.sum(lists)"
   ]
  },
  {
   "cell_type": "code",
   "execution_count": 349,
   "metadata": {},
   "outputs": [
    {
     "data": {
      "text/plain": [
       "2"
      ]
     },
     "execution_count": 349,
     "metadata": {},
     "output_type": "execute_result"
    }
   ],
   "source": [
    "lists.count(True)"
   ]
  },
  {
   "cell_type": "code",
   "execution_count": 128,
   "metadata": {},
   "outputs": [],
   "source": [
    "# print(body.prettify())"
   ]
  },
  {
   "cell_type": "code",
   "execution_count": 26,
   "metadata": {},
   "outputs": [
    {
     "data": {
      "text/plain": [
       "'/wiki/Serbia'"
      ]
     },
     "execution_count": 26,
     "metadata": {},
     "output_type": "execute_result"
    }
   ],
   "source": [
    "soup.p.a[\"href\"]"
   ]
  },
  {
   "cell_type": "code",
   "execution_count": 27,
   "metadata": {},
   "outputs": [],
   "source": [
    "link_re = re.compile(r\"(?<=/wiki/)[\\w()]+\")"
   ]
  },
  {
   "cell_type": "code",
   "execution_count": 91,
   "metadata": {},
   "outputs": [
    {
     "data": {
      "text/plain": [
       "[<a href=\"/wiki/Serbia\" title=\"Serbia\">Serbia</a>]"
      ]
     },
     "execution_count": 91,
     "metadata": {},
     "output_type": "execute_result"
    }
   ],
   "source": [
    "body.p.find_all(href=link_re)"
   ]
  },
  {
   "cell_type": "code",
   "execution_count": 97,
   "metadata": {},
   "outputs": [
    {
     "data": {
      "text/plain": [
       "[<a href=\"/wiki/Serbia\" title=\"Serbia\">Serbia</a>]"
      ]
     },
     "execution_count": 97,
     "metadata": {},
     "output_type": "execute_result"
    }
   ],
   "source": [
    "body.p.find_all(href=link_re)"
   ]
  },
  {
   "cell_type": "code",
   "execution_count": 57,
   "metadata": {},
   "outputs": [
    {
     "data": {
      "text/plain": [
       "['td', 'tr', 'table', 'div', 'div', 'div', 'div', 'body', 'html', '[document]']"
      ]
     },
     "execution_count": 57,
     "metadata": {},
     "output_type": "execute_result"
    }
   ],
   "source": [
    "[tag.name for tag in body.p.parents]"
   ]
  },
  {
   "cell_type": "code",
   "execution_count": 61,
   "metadata": {},
   "outputs": [
    {
     "name": "stdout",
     "output_type": "stream",
     "text": [
      "<span class=\"flagicon\">\n",
      " <img alt=\"\" class=\"thumbborder\" data-file-height=\"900\" data-file-width=\"1350\" height=\"15\" src=\"//upload.wikimedia.org/wikipedia/commons/thumb/f/ff/Flag_of_Serbia.svg/23px-Flag_of_Serbia.svg.png\" srcset=\"//upload.wikimedia.org/wikipedia/commons/thumb/f/ff/Flag_of_Serbia.svg/35px-Flag_of_Serbia.svg.png 1.5x, //upload.wikimedia.org/wikipedia/commons/thumb/f/ff/Flag_of_Serbia.svg/45px-Flag_of_Serbia.svg.png 2x\" width=\"23\"/>\n",
      "</span>\n",
      "\n"
     ]
    }
   ],
   "source": [
    "print(body.p.next.next.prettify())"
   ]
  },
  {
   "cell_type": "code",
   "execution_count": 67,
   "metadata": {},
   "outputs": [
    {
     "data": {
      "text/plain": [
       "'\\n'"
      ]
     },
     "execution_count": 67,
     "metadata": {},
     "output_type": "execute_result"
    }
   ],
   "source": [
    "body.p.next_sibling"
   ]
  },
  {
   "cell_type": "code",
   "execution_count": 78,
   "metadata": {},
   "outputs": [
    {
     "data": {
      "text/plain": [
       "1"
      ]
     },
     "execution_count": 78,
     "metadata": {},
     "output_type": "execute_result"
    }
   ],
   "source": [
    "len(body.p.contents)"
   ]
  },
  {
   "cell_type": "code",
   "execution_count": 90,
   "metadata": {},
   "outputs": [],
   "source": [
    "# body.find_next_siblings"
   ]
  },
  {
   "cell_type": "code",
   "execution_count": null,
   "metadata": {},
   "outputs": [],
   "source": []
  },
  {
   "cell_type": "code",
   "execution_count": null,
   "metadata": {},
   "outputs": [],
   "source": []
  },
  {
   "cell_type": "code",
   "execution_count": null,
   "metadata": {},
   "outputs": [],
   "source": []
  },
  {
   "cell_type": "code",
   "execution_count": null,
   "metadata": {},
   "outputs": [],
   "source": []
  },
  {
   "cell_type": "code",
   "execution_count": null,
   "metadata": {},
   "outputs": [],
   "source": []
  },
  {
   "cell_type": "code",
   "execution_count": null,
   "metadata": {},
   "outputs": [],
   "source": []
  },
  {
   "cell_type": "code",
   "execution_count": null,
   "metadata": {},
   "outputs": [],
   "source": []
  },
  {
   "cell_type": "code",
   "execution_count": null,
   "metadata": {},
   "outputs": [],
   "source": []
  },
  {
   "cell_type": "code",
   "execution_count": 98,
   "metadata": {},
   "outputs": [],
   "source": [
    "# os.listdir(path)"
   ]
  },
  {
   "cell_type": "code",
   "execution_count": 101,
   "metadata": {},
   "outputs": [
    {
     "data": {
      "text/plain": [
       "[('Новости Воронежской обл.',\n",
       "  ['Воронежскую область отключают от\\xa0аналогового телевещания',\n",
       "   'Воронеж признали самым выгодным городом России для\\xa0жизни',\n",
       "   'Экологи назвали одну из\\xa0причин фекальной вони в\\xa0Воронеже',\n",
       "   'Средний доход в\\xa0области превысил 27 тысяч рублей',\n",
       "   'Воронежские спасатели предупредили об\\xa0опасном пухе',\n",
       "   'Неизвестный с\\xa0пистолетом отнял деньги у\\xa0кассира АЗС на трассе']),\n",
       " ('Политика',\n",
       "  ['Песков рассказал, почему важны личные встречи Трампа и Путина',\n",
       "   'Опального политика КНДР увидели на публике вместе с Ким Чен Ыном',\n",
       "   'Песков: Кремль хотел бы увидеть Калви среди участников ПМЭФ',\n",
       "   'Американские санкции бьют по европейским компаниям']),\n",
       " ('Экономика',\n",
       "  ['Рубль начал отыгрываться после падения',\n",
       "   '«Ведомости»: гражданский дивизион ОАК оценивается в 100 млрд рублей',\n",
       "   'Росстат выяснил, в каких сферах больше всего безработных',\n",
       "   'Цена нефти Brent упала ниже $61']),\n",
       " ('Общество',\n",
       "  ['82-летняя жительница Китая установила рекорд на самолете',\n",
       "   'Главный раввин Москвы объяснил большое число евреев среди богачей',\n",
       "   'Француз превратил запчасти в насекомых (фото)',\n",
       "   'Опрос: почти 20% россиян считают, что за последний год их зарплаты снизились']),\n",
       " ('События',\n",
       "  ['ГУМ и Красную площадь эвакуировали из-за сообщения о бомбе',\n",
       "   'Семерых приморцев осудили за шантаж совладельцев «проблемных» квартир',\n",
       "   'Девушка убитого в Подмосковье спецназовца пыталась его спасти',\n",
       "   'Максакова сообщила Бастрыкину имя убийцы своего мужа']),\n",
       " ('Справки',\n",
       "  ['Зачем отменяют роуминг? Отразится ли это решение на тарифах?',\n",
       "   'Обострение ситуации в Косове. Главное',\n",
       "   'Ядерной сделке конец? США готовятся к войне? Объясняем, что происходит вокруг Ирана',\n",
       "   'Авария SU1492\\xa0— что случилось с\\xa0«Суперджетом»?']),\n",
       " ('Фоторепортажи',\n",
       "  ['Крабский труд: глобальное потепление грозит сгубить бразильских ловцов',\n",
       "   '30 лет назад прошел первый конкурс «Мисс СССР»',\n",
       "   'Инаугурация Владимира Зеленского',\n",
       "   'Нотр-Дам спустя месяц после пожара',\n",
       "   '«Наводить мосты»',\n",
       "   'Скончался Сергей Доренко',\n",
       "   'В Москве прошел Парад Победы',\n",
       "   'Самые известные снимки Великой Отечественной войны',\n",
       "   'При аварийной посадке в аэропорту Шереметьево сгорел самолет',\n",
       "   'Обострение ситуации в Каракасе']),\n",
       " ('Здоровье', []),\n",
       " ('Hi-Tech', []),\n",
       " ('Кино', []),\n",
       " ('Авто', []),\n",
       " ('Недвижимость', []),\n",
       " ('Дети', []),\n",
       " ('Леди', []),\n",
       " ('Все о ремонте', [])]"
      ]
     },
     "execution_count": 101,
     "metadata": {},
     "output_type": "execute_result"
    }
   ],
   "source": [
    "import requests \n",
    "result = requests.get(\"https://news.mail.ru/\") \n",
    "soup = BeautifulSoup(result.content, \"lxml\") \n",
    "soup\n",
    "[\n",
    "(\n",
    "section.string, \n",
    "    [ header.string for header in section.find_parents()[4].find_all( class_=['newsitem__title-inner','link__text', 'collections__title', 'photo__title'] ) ] ) for section in soup(class_=\"hdr__inner\")\n",
    "]"
   ]
  },
  {
   "cell_type": "code",
   "execution_count": null,
   "metadata": {},
   "outputs": [],
   "source": []
  }
 ],
 "metadata": {
  "kernelspec": {
   "display_name": "Python 3",
   "language": "python",
   "name": "python3"
  },
  "language_info": {
   "codemirror_mode": {
    "name": "ipython",
    "version": 3
   },
   "file_extension": ".py",
   "mimetype": "text/x-python",
   "name": "python",
   "nbconvert_exporter": "python",
   "pygments_lexer": "ipython3",
   "version": "3.7.3"
  }
 },
 "nbformat": 4,
 "nbformat_minor": 2
}
