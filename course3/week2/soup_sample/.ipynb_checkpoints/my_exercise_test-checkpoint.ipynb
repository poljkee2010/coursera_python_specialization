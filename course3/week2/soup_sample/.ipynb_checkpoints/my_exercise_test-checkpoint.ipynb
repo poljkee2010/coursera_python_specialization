{
 "cells": [
  {
   "cell_type": "code",
   "execution_count": 1,
   "metadata": {},
   "outputs": [],
   "source": [
    "from bs4 import BeautifulSoup\n",
    "import re\n",
    "import os"
   ]
  },
  {
   "cell_type": "code",
   "execution_count": 2,
   "metadata": {},
   "outputs": [],
   "source": [
    "def build_tree(start, end, path):\n",
    "    link_re = re.compile(r\"(?<=/wiki/)[\\w()]+\")  # Искать ссылки можно как угодно, не обязательно через re\n",
    "    files = dict.fromkeys(os.listdir(path))  # Словарь вида {\"filename1\": None, \"filename2\": None, ...}\n",
    "    # TODO Проставить всем ключам в files правильного родителя в значение, начиная от start\n",
    "    return files"
   ]
  },
  {
   "cell_type": "code",
   "execution_count": 30,
   "metadata": {},
   "outputs": [],
   "source": [
    "path = \"wiki\""
   ]
  },
  {
   "cell_type": "code",
   "execution_count": 4,
   "metadata": {},
   "outputs": [],
   "source": [
    "# dict.fromkeys(os.listdir(path))"
   ]
  },
  {
   "cell_type": "code",
   "execution_count": 23,
   "metadata": {},
   "outputs": [],
   "source": [
    "with open(os.path.join(path, os.listdir(path)[3]), encoding=\"utf-8\") as data:\n",
    "    soup = BeautifulSoup(data, \"lxml\")\n",
    "\n",
    "body = soup.find(id=\"bodyContent\")"
   ]
  },
  {
   "cell_type": "code",
   "execution_count": 38,
   "metadata": {},
   "outputs": [],
   "source": [
    "# print(body.prettify())"
   ]
  },
  {
   "cell_type": "code",
   "execution_count": 24,
   "metadata": {},
   "outputs": [
    {
     "data": {
      "text/plain": [
       "15"
      ]
     },
     "execution_count": 24,
     "metadata": {},
     "output_type": "execute_result"
    }
   ],
   "source": [
    "len(body)"
   ]
  },
  {
   "cell_type": "code",
   "execution_count": 118,
   "metadata": {},
   "outputs": [
    {
     "data": {
      "text/plain": [
       "'245'"
      ]
     },
     "execution_count": 118,
     "metadata": {},
     "output_type": "execute_result"
    }
   ],
   "source": [
    "body.find_all(name=\"img\")[0][\"width\"]"
   ]
  },
  {
   "cell_type": "code",
   "execution_count": 110,
   "metadata": {},
   "outputs": [],
   "source": [
    "imgwidth_more_eq200 = [item for item in body.find_all(\"img\") if float(item[\"width\"]) >= 200]"
   ]
  },
  {
   "cell_type": "code",
   "execution_count": 111,
   "metadata": {},
   "outputs": [
    {
     "data": {
      "text/plain": [
       "2"
      ]
     },
     "execution_count": 111,
     "metadata": {},
     "output_type": "execute_result"
    }
   ],
   "source": [
    "len(imgwidth_more_eq200)"
   ]
  },
  {
   "cell_type": "code",
   "execution_count": 125,
   "metadata": {},
   "outputs": [
    {
     "data": {
      "text/plain": [
       "'Contents'"
      ]
     },
     "execution_count": 125,
     "metadata": {},
     "output_type": "execute_result"
    }
   ],
   "source": [
    "body.h2.text"
   ]
  },
  {
   "cell_type": "code",
   "execution_count": 127,
   "metadata": {},
   "outputs": [
    {
     "data": {
      "text/plain": [
       "['Contents', 'External links[edit]']"
      ]
     },
     "execution_count": 127,
     "metadata": {},
     "output_type": "execute_result"
    }
   ],
   "source": [
    "[item.text for item in body.find_all(name=re.compile(r\"h[1-6]\")) if item.text[0] in [\"E\", \"T\", \"C\"]]"
   ]
  },
  {
   "cell_type": "code",
   "execution_count": 258,
   "metadata": {},
   "outputs": [],
   "source": [
    "# data1 = \"<p><span><a></a></span> <a></a> <a></a></p>\"\n",
    "data1 = \"<p><a><span></span></a>, <a></a>, <a></a></p>\""
   ]
  },
  {
   "cell_type": "code",
   "execution_count": 259,
   "metadata": {},
   "outputs": [],
   "source": [
    "body1 = BeautifulSoup(data1, \"lxml\")"
   ]
  },
  {
   "cell_type": "code",
   "execution_count": 260,
   "metadata": {},
   "outputs": [
    {
     "name": "stdout",
     "output_type": "stream",
     "text": [
      "<html>\n",
      " <body>\n",
      "  <p>\n",
      "   <a>\n",
      "    <span>\n",
      "    </span>\n",
      "   </a>\n",
      "   ,\n",
      "   <a>\n",
      "   </a>\n",
      "   ,\n",
      "   <a>\n",
      "   </a>\n",
      "  </p>\n",
      " </body>\n",
      "</html>\n"
     ]
    }
   ],
   "source": [
    "print(body1.prettify())"
   ]
  },
  {
   "cell_type": "code",
   "execution_count": 261,
   "metadata": {},
   "outputs": [],
   "source": [
    "first = body1.find(\"a\")"
   ]
  },
  {
   "cell_type": "code",
   "execution_count": 262,
   "metadata": {},
   "outputs": [
    {
     "data": {
      "text/plain": [
       "[<a></a>, <a></a>]"
      ]
     },
     "execution_count": 262,
     "metadata": {},
     "output_type": "execute_result"
    }
   ],
   "source": [
    "first.find_next_siblings()"
   ]
  },
  {
   "cell_type": "code",
   "execution_count": 263,
   "metadata": {},
   "outputs": [],
   "source": [
    "second = first.find_next()"
   ]
  },
  {
   "cell_type": "code",
   "execution_count": 264,
   "metadata": {},
   "outputs": [
    {
     "data": {
      "text/plain": [
       "[]"
      ]
     },
     "execution_count": 264,
     "metadata": {},
     "output_type": "execute_result"
    }
   ],
   "source": [
    "second.find_next_siblings()"
   ]
  },
  {
   "cell_type": "code",
   "execution_count": 265,
   "metadata": {},
   "outputs": [
    {
     "data": {
      "text/plain": [
       "[<span></span>, <a></a>, <a></a>]"
      ]
     },
     "execution_count": 265,
     "metadata": {},
     "output_type": "execute_result"
    }
   ],
   "source": [
    "first.find_all_next()"
   ]
  },
  {
   "cell_type": "code",
   "execution_count": 284,
   "metadata": {},
   "outputs": [
    {
     "data": {
      "text/plain": [
       "[3, 2, 1]"
      ]
     },
     "execution_count": 284,
     "metadata": {},
     "output_type": "execute_result"
    }
   ],
   "source": [
    "[1 + len(a_item.find_next_siblings()) for a_item in body1.find_all(\"a\")]"
   ]
  },
  {
   "cell_type": "code",
   "execution_count": 283,
   "metadata": {},
   "outputs": [
    {
     "data": {
      "text/plain": [
       "3"
      ]
     },
     "execution_count": 283,
     "metadata": {},
     "output_type": "execute_result"
    }
   ],
   "source": [
    "max([1 + len(a_item.find_next_siblings()) for a_item in body1.find_all(\"a\")])"
   ]
  },
  {
   "cell_type": "code",
   "execution_count": 202,
   "metadata": {},
   "outputs": [
    {
     "data": {
      "text/plain": [
       "<generator object PageElement.parents at 0x000001536B2E4CF0>"
      ]
     },
     "execution_count": 202,
     "metadata": {},
     "output_type": "execute_result"
    }
   ],
   "source": [
    "body1.parent"
   ]
  },
  {
   "cell_type": "code",
   "execution_count": 197,
   "metadata": {},
   "outputs": [
    {
     "data": {
      "text/plain": [
       "<p><span><a></a></span> <a></a> <a></a></p>"
      ]
     },
     "execution_count": 197,
     "metadata": {},
     "output_type": "execute_result"
    }
   ],
   "source": [
    "body1.body.next"
   ]
  },
  {
   "cell_type": "code",
   "execution_count": null,
   "metadata": {},
   "outputs": [],
   "source": []
  },
  {
   "cell_type": "code",
   "execution_count": null,
   "metadata": {},
   "outputs": [],
   "source": []
  },
  {
   "cell_type": "code",
   "execution_count": null,
   "metadata": {},
   "outputs": [],
   "source": []
  },
  {
   "cell_type": "code",
   "execution_count": 128,
   "metadata": {},
   "outputs": [],
   "source": [
    "# print(body.prettify())"
   ]
  },
  {
   "cell_type": "code",
   "execution_count": 26,
   "metadata": {},
   "outputs": [
    {
     "data": {
      "text/plain": [
       "'/wiki/Serbia'"
      ]
     },
     "execution_count": 26,
     "metadata": {},
     "output_type": "execute_result"
    }
   ],
   "source": [
    "soup.p.a[\"href\"]"
   ]
  },
  {
   "cell_type": "code",
   "execution_count": 27,
   "metadata": {},
   "outputs": [],
   "source": [
    "link_re = re.compile(r\"(?<=/wiki/)[\\w()]+\")"
   ]
  },
  {
   "cell_type": "code",
   "execution_count": 91,
   "metadata": {},
   "outputs": [
    {
     "data": {
      "text/plain": [
       "[<a href=\"/wiki/Serbia\" title=\"Serbia\">Serbia</a>]"
      ]
     },
     "execution_count": 91,
     "metadata": {},
     "output_type": "execute_result"
    }
   ],
   "source": [
    "body.p.find_all(href=link_re)"
   ]
  },
  {
   "cell_type": "code",
   "execution_count": 97,
   "metadata": {},
   "outputs": [
    {
     "data": {
      "text/plain": [
       "[<a href=\"/wiki/Serbia\" title=\"Serbia\">Serbia</a>]"
      ]
     },
     "execution_count": 97,
     "metadata": {},
     "output_type": "execute_result"
    }
   ],
   "source": [
    "body.p.find_all(href=link_re)"
   ]
  },
  {
   "cell_type": "code",
   "execution_count": 57,
   "metadata": {},
   "outputs": [
    {
     "data": {
      "text/plain": [
       "['td', 'tr', 'table', 'div', 'div', 'div', 'div', 'body', 'html', '[document]']"
      ]
     },
     "execution_count": 57,
     "metadata": {},
     "output_type": "execute_result"
    }
   ],
   "source": [
    "[tag.name for tag in body.p.parents]"
   ]
  },
  {
   "cell_type": "code",
   "execution_count": 61,
   "metadata": {},
   "outputs": [
    {
     "name": "stdout",
     "output_type": "stream",
     "text": [
      "<span class=\"flagicon\">\n",
      " <img alt=\"\" class=\"thumbborder\" data-file-height=\"900\" data-file-width=\"1350\" height=\"15\" src=\"//upload.wikimedia.org/wikipedia/commons/thumb/f/ff/Flag_of_Serbia.svg/23px-Flag_of_Serbia.svg.png\" srcset=\"//upload.wikimedia.org/wikipedia/commons/thumb/f/ff/Flag_of_Serbia.svg/35px-Flag_of_Serbia.svg.png 1.5x, //upload.wikimedia.org/wikipedia/commons/thumb/f/ff/Flag_of_Serbia.svg/45px-Flag_of_Serbia.svg.png 2x\" width=\"23\"/>\n",
      "</span>\n",
      "\n"
     ]
    }
   ],
   "source": [
    "print(body.p.next.next.prettify())"
   ]
  },
  {
   "cell_type": "code",
   "execution_count": 67,
   "metadata": {},
   "outputs": [
    {
     "data": {
      "text/plain": [
       "'\\n'"
      ]
     },
     "execution_count": 67,
     "metadata": {},
     "output_type": "execute_result"
    }
   ],
   "source": [
    "body.p.next_sibling"
   ]
  },
  {
   "cell_type": "code",
   "execution_count": 78,
   "metadata": {},
   "outputs": [
    {
     "data": {
      "text/plain": [
       "1"
      ]
     },
     "execution_count": 78,
     "metadata": {},
     "output_type": "execute_result"
    }
   ],
   "source": [
    "len(body.p.contents)"
   ]
  },
  {
   "cell_type": "code",
   "execution_count": 90,
   "metadata": {},
   "outputs": [],
   "source": [
    "# body.find_next_siblings"
   ]
  },
  {
   "cell_type": "code",
   "execution_count": null,
   "metadata": {},
   "outputs": [],
   "source": []
  },
  {
   "cell_type": "code",
   "execution_count": 98,
   "metadata": {},
   "outputs": [],
   "source": [
    "# os.listdir(path)"
   ]
  },
  {
   "cell_type": "code",
   "execution_count": 101,
   "metadata": {},
   "outputs": [
    {
     "data": {
      "text/plain": [
       "[('Новости Воронежской обл.',\n",
       "  ['Воронежскую область отключают от\\xa0аналогового телевещания',\n",
       "   'Воронеж признали самым выгодным городом России для\\xa0жизни',\n",
       "   'Экологи назвали одну из\\xa0причин фекальной вони в\\xa0Воронеже',\n",
       "   'Средний доход в\\xa0области превысил 27 тысяч рублей',\n",
       "   'Воронежские спасатели предупредили об\\xa0опасном пухе',\n",
       "   'Неизвестный с\\xa0пистолетом отнял деньги у\\xa0кассира АЗС на трассе']),\n",
       " ('Политика',\n",
       "  ['Песков рассказал, почему важны личные встречи Трампа и Путина',\n",
       "   'Опального политика КНДР увидели на публике вместе с Ким Чен Ыном',\n",
       "   'Песков: Кремль хотел бы увидеть Калви среди участников ПМЭФ',\n",
       "   'Американские санкции бьют по европейским компаниям']),\n",
       " ('Экономика',\n",
       "  ['Рубль начал отыгрываться после падения',\n",
       "   '«Ведомости»: гражданский дивизион ОАК оценивается в 100 млрд рублей',\n",
       "   'Росстат выяснил, в каких сферах больше всего безработных',\n",
       "   'Цена нефти Brent упала ниже $61']),\n",
       " ('Общество',\n",
       "  ['82-летняя жительница Китая установила рекорд на самолете',\n",
       "   'Главный раввин Москвы объяснил большое число евреев среди богачей',\n",
       "   'Француз превратил запчасти в насекомых (фото)',\n",
       "   'Опрос: почти 20% россиян считают, что за последний год их зарплаты снизились']),\n",
       " ('События',\n",
       "  ['ГУМ и Красную площадь эвакуировали из-за сообщения о бомбе',\n",
       "   'Семерых приморцев осудили за шантаж совладельцев «проблемных» квартир',\n",
       "   'Девушка убитого в Подмосковье спецназовца пыталась его спасти',\n",
       "   'Максакова сообщила Бастрыкину имя убийцы своего мужа']),\n",
       " ('Справки',\n",
       "  ['Зачем отменяют роуминг? Отразится ли это решение на тарифах?',\n",
       "   'Обострение ситуации в Косове. Главное',\n",
       "   'Ядерной сделке конец? США готовятся к войне? Объясняем, что происходит вокруг Ирана',\n",
       "   'Авария SU1492\\xa0— что случилось с\\xa0«Суперджетом»?']),\n",
       " ('Фоторепортажи',\n",
       "  ['Крабский труд: глобальное потепление грозит сгубить бразильских ловцов',\n",
       "   '30 лет назад прошел первый конкурс «Мисс СССР»',\n",
       "   'Инаугурация Владимира Зеленского',\n",
       "   'Нотр-Дам спустя месяц после пожара',\n",
       "   '«Наводить мосты»',\n",
       "   'Скончался Сергей Доренко',\n",
       "   'В Москве прошел Парад Победы',\n",
       "   'Самые известные снимки Великой Отечественной войны',\n",
       "   'При аварийной посадке в аэропорту Шереметьево сгорел самолет',\n",
       "   'Обострение ситуации в Каракасе']),\n",
       " ('Здоровье', []),\n",
       " ('Hi-Tech', []),\n",
       " ('Кино', []),\n",
       " ('Авто', []),\n",
       " ('Недвижимость', []),\n",
       " ('Дети', []),\n",
       " ('Леди', []),\n",
       " ('Все о ремонте', [])]"
      ]
     },
     "execution_count": 101,
     "metadata": {},
     "output_type": "execute_result"
    }
   ],
   "source": [
    "import requests \n",
    "result = requests.get(\"https://news.mail.ru/\") \n",
    "soup = BeautifulSoup(result.content, \"lxml\") \n",
    "soup\n",
    "[\n",
    "(\n",
    "section.string, \n",
    "    [ header.string for header in section.find_parents()[4].find_all( class_=['newsitem__title-inner','link__text', 'collections__title', 'photo__title'] ) ] ) for section in soup(class_=\"hdr__inner\")\n",
    "]"
   ]
  },
  {
   "cell_type": "code",
   "execution_count": null,
   "metadata": {},
   "outputs": [],
   "source": []
  }
 ],
 "metadata": {
  "kernelspec": {
   "display_name": "Python 3",
   "language": "python",
   "name": "python3"
  },
  "language_info": {
   "codemirror_mode": {
    "name": "ipython",
    "version": 3
   },
   "file_extension": ".py",
   "mimetype": "text/x-python",
   "name": "python",
   "nbconvert_exporter": "python",
   "pygments_lexer": "ipython3",
   "version": "3.7.3"
  }
 },
 "nbformat": 4,
 "nbformat_minor": 2
}
