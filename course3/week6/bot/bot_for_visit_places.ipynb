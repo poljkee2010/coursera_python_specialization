{
 "cells": [
  {
   "cell_type": "markdown",
   "metadata": {},
   "source": [
    "# <center>Бот, который сохраняет места для будущего посещения"
   ]
  },
  {
   "cell_type": "code",
   "execution_count": 1,
   "metadata": {},
   "outputs": [],
   "source": [
    "import telebot\n",
    "token = \"780799099:AAGGjJfeKRiXX7D34_ZrW19n_zxOFcZbs70\""
   ]
  },
  {
   "cell_type": "code",
   "execution_count": 2,
   "metadata": {},
   "outputs": [],
   "source": [
    "START, NAME, ADDRESS, PHOTO, LOCATION = range(5)"
   ]
  },
  {
   "cell_type": "code",
   "execution_count": 3,
   "metadata": {},
   "outputs": [],
   "source": [
    "from collections import defaultdict\n",
    "USER_STATE = defaultdict(lambda: START)\n",
    "\n",
    "def get_state(message):\n",
    "    return USER_STATE[message.chat.id]\n",
    "\n",
    "def update_state(message, state):\n",
    "    USER_STATE[message.chat.id] = state"
   ]
  },
  {
   "cell_type": "code",
   "execution_count": 23,
   "metadata": {},
   "outputs": [],
   "source": [
    "PLACES = defaultdict(lambda: defaultdict(lambda: {}))\n",
    "place_id = [0]\n",
    "\n",
    "def get_places(user_id):\n",
    "    return PLACES[user_id]  # TODO\n",
    "\n",
    "def update_place(user_id, place_id, key, value):\n",
    "    PLACES[user_id][place_id][key] = value\n",
    "    \n",
    "def update_photo_place(user_id, place_id, key, value):\n",
    "    PLACES[user_id][place_id][key] = value  # TODO store the photo\n",
    "    \n",
    "def update_location_place(user_id, place_id, key, value):\n",
    "    PLACES[user_id][place_id][key] = value  # TODO store the location\n",
    "    \n",
    "def update_place_id(place_id):\n",
    "    place_id.append(place_id[-1] + 1)"
   ]
  },
  {
   "cell_type": "code",
   "execution_count": 25,
   "metadata": {},
   "outputs": [],
   "source": [
    "bot = telebot.TeleBot(token)\n",
    "\n",
    "@bot.message_handler(commands=[\"add\"])\n",
    "def handle_add(message):\n",
    "    update_place_id(place_id)\n",
    "    \n",
    "    bot.send_message(message.chat.id, text=\"Напиши название\")\n",
    "    update_state(message, NAME)\n",
    "\n",
    "@bot.message_handler(func=lambda message: get_state(message) == NAME)\n",
    "def handle_name(message):    \n",
    "    # название\n",
    "    update_place(message.chat.id, place_id[-1], \"name\", message.text)\n",
    "    bot.send_message(message.chat.id, text=\"Укажи адрес\")\n",
    "    update_state(message, ADDRESS)\n",
    "\n",
    "@bot.message_handler(func=lambda message: get_state(message) == ADDRESS)\n",
    "def handle_name(message):    \n",
    "    # адрес\n",
    "    update_place(message.chat.id, place_id[-1], \"address\", message.text)\n",
    "    bot.send_message(message.chat.id, text=\"Загрузи фото\")\n",
    "    update_state(message, PHOTO)\n",
    "    \n",
    "@bot.message_handler(func=lambda message: get_state(message) == PHOTO)\n",
    "def handle_name(message):   \n",
    "    # фото\n",
    "    update_photo_place(message.chat.id, place_id[-1], \"photo\", message.text)\n",
    "    bot.send_message(message.chat.id, text=\"Загрузи локацию\")\n",
    "    update_state(message, LOCATION)\n",
    "    \n",
    "@bot.message_handler(func=lambda message: get_state(message) == LOCATION)\n",
    "def handle_name(message):\n",
    "    # локация\n",
    "    update_location_place(message.chat.id, place_id[-1], \"location\", message.text)\n",
    "    bot.send_message(message.chat.id, text=\"Место сохранено :)\")\n",
    "    update_state(message, START)\n",
    "\n",
    "@bot.message_handler(commands=[\"list\"])\n",
    "def handle_list(message):\n",
    "    # последние 10 добавленных мест\n",
    "    places = PLACES[message.chat.id]\n",
    "    places_all = sorted(list(places.items()), key=lambda x: x[0], reverse=True)\n",
    "    places_last10 = places_all[:10]\n",
    "    if places_last10 != []:\n",
    "        text = f\"{places_last10}\"\n",
    "    else:\n",
    "        text = \"\"\"\n",
    "Список ваших мест пуст. \n",
    "Вы их можете начать добавлять с помощью команды /add\n",
    "\"\"\"\n",
    "    bot.send_message(message.chat.id, text=text)\n",
    "\n",
    "@bot.message_handler(commands=[\"reset\"])\n",
    "def handle_reset(message):\n",
    "    PLACES[message.chat.id] = defaultdict(lambda: {})\n",
    "    \n",
    "@bot.message_handler(commands=[\"start\"])\n",
    "def handle_list(message):\n",
    "    text = \"\"\"\n",
    "Привет! Я Бот, который поможет тебе сохранить места для будущего посещения. \n",
    "Воспользуйся командой /help, чтобы узнать все доступные команды.\n",
    "\"\"\"\n",
    "    bot.send_message(message.chat.id, text=text)\n",
    "    \n",
    "@bot.message_handler(commands=[\"help\"])\n",
    "def handle_list(message):\n",
    "    text = \"\"\"\n",
    "/add – добавление нового места\n",
    "/list – отображение добавленных мест\n",
    "/reset – удаление всех ваших добавленных локаций\n",
    "\"\"\"\n",
    "    bot.send_message(message.chat.id, text=text)\n",
    "\n",
    "bot.polling()"
   ]
  },
  {
   "cell_type": "code",
   "execution_count": 10,
   "metadata": {},
   "outputs": [
    {
     "data": {
      "text/plain": [
       "[0, 1, 2]"
      ]
     },
     "execution_count": 10,
     "metadata": {},
     "output_type": "execute_result"
    }
   ],
   "source": [
    "place_id"
   ]
  },
  {
   "cell_type": "code",
   "execution_count": null,
   "metadata": {},
   "outputs": [],
   "source": []
  }
 ],
 "metadata": {
  "kernelspec": {
   "display_name": "Python 3",
   "language": "python",
   "name": "python3"
  },
  "language_info": {
   "codemirror_mode": {
    "name": "ipython",
    "version": 3
   },
   "file_extension": ".py",
   "mimetype": "text/x-python",
   "name": "python",
   "nbconvert_exporter": "python",
   "pygments_lexer": "ipython3",
   "version": "3.7.3"
  }
 },
 "nbformat": 4,
 "nbformat_minor": 2
}
