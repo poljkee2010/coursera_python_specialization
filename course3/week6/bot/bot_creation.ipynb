{
 "cells": [
  {
   "cell_type": "markdown",
   "metadata": {},
   "source": [
    "# <center>Создание простого бота"
   ]
  },
  {
   "cell_type": "markdown",
   "metadata": {},
   "source": [
    "- создан в бот-чате с @BotFather\n",
    "- имя - DsherBot\n",
    "- username - dsher_bot\n",
    "#### ВНИМАНИЕ: библиотеку устанавливаем не `telebot` а `pyTelegramBotAPI`"
   ]
  },
  {
   "cell_type": "code",
   "execution_count": 1,
   "metadata": {},
   "outputs": [],
   "source": [
    "import telebot\n",
    "token = \"780799099:AAGGjJfeKRiXX7D34_ZrW19n_zxOFcZbs70\""
   ]
  },
  {
   "cell_type": "markdown",
   "metadata": {},
   "source": [
    "### 1) Обработка сообщений"
   ]
  },
  {
   "cell_type": "code",
   "execution_count": 7,
   "metadata": {},
   "outputs": [
    {
     "name": "stdout",
     "output_type": "stream",
     "text": [
      "привет\n",
      "доллар евро\n",
      "евро доллар\n"
     ]
    }
   ],
   "source": [
    "bot = telebot.TeleBot(token)\n",
    "\n",
    "currensies = [\"евро\", \"доллар\"]\n",
    "\n",
    "def check_currency(message):\n",
    "    for currency in currensies:\n",
    "        if currency in message.text.lower():\n",
    "            return True\n",
    "    return False\n",
    "\n",
    "def check_currency_value(text):\n",
    "    currency_values = {\"евро\": 73, \"доллар\": 66}\n",
    "    for currency, value in currency_values.items():\n",
    "        if currency in text.lower():\n",
    "            return currency, value\n",
    "    return None, None\n",
    "\n",
    "@bot.message_handler(commands=[\"rate\"])\n",
    "@bot.message_handler(func=check_currency)\n",
    "def handle_currency(message):\n",
    "    print(message.text)\n",
    "    currency, value = check_currency_value(message.text)\n",
    "    if currency:\n",
    "        bot.send_message(chat_id=message.chat.id, text=f\"Курс {currency} равен {value}\")\n",
    "    else:\n",
    "        bot.send_message(chat_id=message.chat.id, text=\"Узнай курс валют\")\n",
    "\n",
    "@bot.message_handler()\n",
    "def handle_message(message):\n",
    "    print(message.text)\n",
    "    bot.send_message(chat_id=message.chat.id, text=\"Узнай курс валют\")\n",
    "\n",
    "bot.polling()"
   ]
  },
  {
   "cell_type": "markdown",
   "metadata": {},
   "source": [
    "### 2) Обработка сообщений с разным типом контента"
   ]
  },
  {
   "cell_type": "code",
   "execution_count": 18,
   "metadata": {},
   "outputs": [
    {
     "name": "stdout",
     "output_type": "stream",
     "text": [
      "{'longitude': 39.290473, 'latitude': 51.675048}\n"
     ]
    }
   ],
   "source": [
    "bot = telebot.TeleBot(token)\n",
    "\n",
    "def closest_bank(location):\n",
    "    lat = location.latitude\n",
    "    lon = location.longitude\n",
    "    bank_adress = \"Красноармейская, 20\"\n",
    "    bank_lat, bank_lon = 55.800389, 37.543710\n",
    "    return bank_adress, bank_lat, bank_lon\n",
    "\n",
    "@bot.message_handler(content_types=[\"location\"])\n",
    "def handle_location(message):\n",
    "    print(message.location)\n",
    "    bank_adress, bank_lat, bank_lon = closest_bank(message.location)\n",
    "    with open(\"bank.jpg\", \"rb\") as image:\n",
    "        bot.send_photo(message.chat.id, image, caption=\"Ближайший банк {}\".format(bank_adress))\n",
    "    bot.send_location(message.chat.id, bank_lat, bank_lon)\n",
    "\n",
    "@bot.message_handler()\n",
    "def handle_message(message):\n",
    "    print(message.text)\n",
    "    bot.send_message(chat_id=message.chat.id, text=\"Узнай курс валют\")\n",
    "\n",
    "bot.polling()"
   ]
  },
  {
   "cell_type": "markdown",
   "metadata": {},
   "source": [
    "### 3) Меню"
   ]
  },
  {
   "cell_type": "code",
   "execution_count": 2,
   "metadata": {},
   "outputs": [],
   "source": [
    "from telebot import types"
   ]
  },
  {
   "cell_type": "code",
   "execution_count": null,
   "metadata": {},
   "outputs": [],
   "source": [
    "bot = telebot.TeleBot(token)\n",
    "@bot.message_handler(commands=[\"start\"])\n",
    "def handle_currency(message):\n",
    "    print(message.text)\n",
    "    bot.send_message(chat_id=message.chat.id, text=\"Это бот для проверки курса валют\")\n",
    "\n",
    "currensies = [\"евро\", \"доллар\"]\n",
    "\n",
    "def create_keyboard():\n",
    "    keyboard = types.InlineKeyboardMarkup(row_width=2)\n",
    "    buttons = [types.InlineKeyboardButton(text=curr, callback_data=curr) for curr in currensies]\n",
    "    keyboard.add(*buttons)\n",
    "    return keyboard\n",
    "\n",
    "@bot.callback_query_handler(func=lambda x: True)\n",
    "def callback_handler(callback_query):\n",
    "    message = callback_query.message\n",
    "    text = callback_query.data\n",
    "    currency, value = check_currency_value(text)\n",
    "    if currency:\n",
    "        bot.answer_callback_query(callback_query.id, text=f\"Курс {currency} равен {value}\")\n",
    "#         bot.send_message(chat_id=message.chat.id, text=f\"Курс {currency} равен {value}\")\n",
    "    else:\n",
    "        bot.send_message(chat_id=message.chat.id, text=\"Узнай курс валют\")\n",
    "    \n",
    "\n",
    "def check_currency(message):\n",
    "    for currency in currensies:\n",
    "        if currency in message.text.lower():\n",
    "            return True\n",
    "    return False\n",
    "\n",
    "def check_currency_value(text):\n",
    "    currency_values = {\"евро\": 73, \"доллар\": 66}\n",
    "    for currency, value in currency_values.items():\n",
    "        if currency in text.lower():\n",
    "            return currency, value\n",
    "    return None, None\n",
    "\n",
    "@bot.message_handler(commands=[\"rate\"])\n",
    "@bot.message_handler(func=check_currency)\n",
    "def handle_currency(message):\n",
    "    print(message.text)\n",
    "    currency, value = check_currency_value(message.text)\n",
    "    keyboard = create_keyboard()\n",
    "    if currency:\n",
    "        bot.send_message(chat_id=message.chat.id, text=f\"Курс {currency} равен {value}\", reply_markup=keyboard)\n",
    "    else:\n",
    "        bot.send_message(chat_id=message.chat.id, text=\"Узнай курс валют\", reply_markup=keyboard)\n",
    "\n",
    "@bot.message_handler()\n",
    "def handle_message(message):\n",
    "    print(message.text)\n",
    "    bot.send_message(chat_id=message.chat.id, text=\"Узнай курс валют\")\n",
    "\n",
    "bot.polling()"
   ]
  },
  {
   "cell_type": "code",
   "execution_count": null,
   "metadata": {},
   "outputs": [],
   "source": []
  }
 ],
 "metadata": {
  "kernelspec": {
   "display_name": "Python 3",
   "language": "python",
   "name": "python3"
  },
  "language_info": {
   "codemirror_mode": {
    "name": "ipython",
    "version": 3
   },
   "file_extension": ".py",
   "mimetype": "text/x-python",
   "name": "python",
   "nbconvert_exporter": "python",
   "pygments_lexer": "ipython3",
   "version": "3.7.3"
  }
 },
 "nbformat": 4,
 "nbformat_minor": 2
}
