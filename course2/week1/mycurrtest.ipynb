{
 "cells": [
  {
   "cell_type": "code",
   "execution_count": 4,
   "metadata": {},
   "outputs": [
    {
     "name": "stdout",
     "output_type": "stream",
     "text": [
      "- sort algorithm works in simple cases: Ok\n"
     ]
    }
   ],
   "source": [
    "print(\"- sort algorithm works in simple cases:\", end=\" \")\n",
    "print(\"Ok\")"
   ]
  },
  {
   "cell_type": "code",
   "execution_count": 5,
   "metadata": {},
   "outputs": [
    {
     "name": "stdout",
     "output_type": "stream",
     "text": [
      "qqqq\n",
      "wwww\n"
     ]
    }
   ],
   "source": [
    "print(\"qqqq\")\n",
    "print(\"wwww\")"
   ]
  },
  {
   "cell_type": "code",
   "execution_count": 1,
   "metadata": {},
   "outputs": [],
   "source": [
    "hour = 25"
   ]
  },
  {
   "cell_type": "code",
   "execution_count": 2,
   "metadata": {},
   "outputs": [
    {
     "ename": "AssertionError",
     "evalue": "Hours should be in range of 0..23",
     "traceback": [
      "\u001b[1;31m---------------------------------------------------------------------------\u001b[0m",
      "\u001b[1;31mAssertionError\u001b[0m                            Traceback (most recent call last)",
      "\u001b[1;32m<ipython-input-2-8359b44cf461>\u001b[0m in \u001b[0;36m<module>\u001b[1;34m\u001b[0m\n\u001b[1;32m----> 1\u001b[1;33m \u001b[1;32massert\u001b[0m \u001b[1;36m0\u001b[0m \u001b[1;33m<=\u001b[0m \u001b[0mhour\u001b[0m \u001b[1;33m<=\u001b[0m \u001b[1;36m23\u001b[0m\u001b[1;33m,\u001b[0m \u001b[1;34m\"Hours should be in range of 0..23\"\u001b[0m\u001b[1;33m\u001b[0m\u001b[1;33m\u001b[0m\u001b[0m\n\u001b[0m",
      "\u001b[1;31mAssertionError\u001b[0m: Hours should be in range of 0..23"
     ],
     "output_type": "error"
    }
   ],
   "source": [
    "assert 0 <= hour <= 23, \"Hours should be in range of 0..23\""
   ]
  },
  {
   "cell_type": "code",
   "execution_count": 3,
   "metadata": {},
   "outputs": [
    {
     "data": {
      "text/plain": [
       "True"
      ]
     },
     "execution_count": 3,
     "metadata": {},
     "output_type": "execute_result"
    }
   ],
   "source": [
    "__debug__"
   ]
  },
  {
   "cell_type": "code",
   "execution_count": 2,
   "metadata": {},
   "outputs": [],
   "source": [
    "# from PyContracts import contract\n",
    "from contracts import contract  # instead PyContracts"
   ]
  },
  {
   "cell_type": "code",
   "execution_count": 3,
   "metadata": {},
   "outputs": [],
   "source": [
    "@contract(a='int ,>0',\n",
    "          b='list[N],N>0',\n",
    "          returns='list[N]')\n",
    "def my_function(a, b):\n",
    "    pass"
   ]
  },
  {
   "cell_type": "code",
   "execution_count": 6,
   "metadata": {},
   "outputs": [
    {
     "ename": "ContractNotRespected",
     "evalue": "Breach for argument 'a' to my_function().\nCould not satisfy any of the 3 clauses in Int|np_scalar_int|np_scalar,array(int).\n ---- Clause #1:   Int\n | Expected type 'int', got <class 'float'>.\n | checking: Int   for value: Instance of <class 'float'>: 3.4   \n | Variables bound in inner context:\n | \n ---- Clause #2:   np_scalar_int\n | Could not satisfy any of the 4 clauses in np_int8|np_int16|np_int32|np_int64.\n |  ---- Clause #1:   np_int8\n |  | Expected type 'int8', got <class 'float'>.\n |  | checking: np_int8   for value: Instance of <class 'float'>: 3.4   \n |  | Variables bound in inner context:\n |  | \n |  ---- Clause #2:   np_int16\n |  | Expected type 'int16', got <class 'float'>.\n |  | checking: np_int16   for value: Instance of <class 'float'>: 3.4   \n |  | Variables bound in inner context:\n |  | \n |  ---- Clause #3:   np_int32\n |  | Expected type 'int32', got <class 'float'>.\n |  | checking: np_int32   for value: Instance of <class 'float'>: 3.4   \n |  | Variables bound in inner context:\n |  | \n |  ---- Clause #4:   np_int64\n |  | Expected type 'int64', got <class 'float'>.\n |  | checking: np_int64   for value: Instance of <class 'float'>: 3.4   \n |  | Variables bound in inner context:\n |  | \n |  ------- (end clauses) -------\n | checking: np_int8|np_int16|np_int32|np_int64      for value: Instance of <class 'float'>: 3.4   \n | checking: $(np_int8|np_int16|np_int32|np_int64)   for value: Instance of <class 'float'>: 3.4   \n | checking: np_scalar_int                           for value: Instance of <class 'float'>: 3.4   \n | Variables bound in inner context:\n | \n ---- Clause #3:   np_scalar,array(int)\n | Could not satisfy any of the 2 clauses in np_zeroshape_array|np_scalar_type.\n |  ---- Clause #1:   np_zeroshape_array\n |  | Not an array: <class 'float'> <class 'float'> \n |  | checking: callable()           for value: Instance of <class 'float'>: 3.4   \n |  | checking: np_zeroshape_array   for value: Instance of <class 'float'>: 3.4   \n |  | Variables bound in inner context:\n |  | \n |  ---- Clause #2:   np_scalar_type\n |  | Could not satisfy any of the 3 clauses in np_scalar_int|np_scalar_uint|np_scalar_float.\n |  |  ---- Clause #1:   np_scalar_int\n |  |  | Could not satisfy any of the 4 clauses in np_int8|np_int16|np_int32|np_int64.\n |  |  |  ---- Clause #1:   np_int8\n |  |  |  | Expected type 'int8', got <class 'float'>.\n |  |  |  | checking: np_int8   for value: Instance of <class 'float'>: 3.4   \n |  |  |  | Variables bound in inner context:\n |  |  |  | \n |  |  |  ---- Clause #2:   np_int16\n |  |  |  | Expected type 'int16', got <class 'float'>.\n |  |  |  | checking: np_int16   for value: Instance of <class 'float'>: 3.4   \n |  |  |  | Variables bound in inner context:\n |  |  |  | \n |  |  |  ---- Clause #3:   np_int32\n |  |  |  | Expected type 'int32', got <class 'float'>.\n |  |  |  | checking: np_int32   for value: Instance of <class 'float'>: 3.4   \n |  |  |  | Variables bound in inner context:\n |  |  |  | \n |  |  |  ---- Clause #4:   np_int64\n |  |  |  | Expected type 'int64', got <class 'float'>.\n |  |  |  | checking: np_int64   for value: Instance of <class 'float'>: 3.4   \n |  |  |  | Variables bound in inner context:\n |  |  |  | \n |  |  |  ------- (end clauses) -------\n |  |  | checking: np_int8|np_int16|np_int32|np_int64      for value: Instance of <class 'float'>: 3.4   \n |  |  | checking: $(np_int8|np_int16|np_int32|np_int64)   for value: Instance of <class 'float'>: 3.4   \n |  |  | checking: np_scalar_int                           for value: Instance of <class 'float'>: 3.4   \n |  |  | Variables bound in inner context:\n |  |  | \n |  |  ---- Clause #2:   np_scalar_uint\n |  |  | Could not satisfy any of the 4 clauses in np_uint8|np_uint16|np_uint32|np_uint64.\n |  |  |  ---- Clause #1:   np_uint8\n |  |  |  | Expected type 'uint8', got <class 'float'>.\n |  |  |  | checking: np_uint8   for value: Instance of <class 'float'>: 3.4   \n |  |  |  | Variables bound in inner context:\n |  |  |  | \n |  |  |  ---- Clause #2:   np_uint16\n |  |  |  | Expected type 'uint16', got <class 'float'>.\n |  |  |  | checking: np_uint16   for value: Instance of <class 'float'>: 3.4   \n |  |  |  | Variables bound in inner context:\n |  |  |  | \n |  |  |  ---- Clause #3:   np_uint32\n |  |  |  | Expected type 'uint32', got <class 'float'>.\n |  |  |  | checking: np_uint32   for value: Instance of <class 'float'>: 3.4   \n |  |  |  | Variables bound in inner context:\n |  |  |  | \n |  |  |  ---- Clause #4:   np_uint64\n |  |  |  | Expected type 'uint64', got <class 'float'>.\n |  |  |  | checking: np_uint64   for value: Instance of <class 'float'>: 3.4   \n |  |  |  | Variables bound in inner context:\n |  |  |  | \n |  |  |  ------- (end clauses) -------\n |  |  | checking: np_uint8|np_uint16|np_uint32|np_uint64      for value: Instance of <class 'float'>: 3.4   \n |  |  | checking: $(np_uint8|np_uint16|np_uint32|np_uint64)   for value: Instance of <class 'float'>: 3.4   \n |  |  | checking: np_scalar_uint                              for value: Instance of <class 'float'>: 3.4   \n |  |  | Variables bound in inner context:\n |  |  | \n |  |  ---- Clause #3:   np_scalar_float\n |  |  | Could not satisfy any of the 2 clauses in np_float32|np_float64.\n |  |  |  ---- Clause #1:   np_float32\n |  |  |  | Expected type 'float32', got <class 'float'>.\n |  |  |  | checking: np_float32   for value: Instance of <class 'float'>: 3.4   \n |  |  |  | Variables bound in inner context:\n |  |  |  | \n |  |  |  ---- Clause #2:   np_float64\n |  |  |  | Expected type 'float64', got <class 'float'>.\n |  |  |  | checking: np_float64   for value: Instance of <class 'float'>: 3.4   \n |  |  |  | Variables bound in inner context:\n |  |  |  | \n |  |  |  ------- (end clauses) -------\n |  |  | checking: np_float32|np_float64      for value: Instance of <class 'float'>: 3.4   \n |  |  | checking: $(np_float32|np_float64)   for value: Instance of <class 'float'>: 3.4   \n |  |  | checking: np_scalar_float            for value: Instance of <class 'float'>: 3.4   \n |  |  | Variables bound in inner context:\n |  |  | \n |  |  ------- (end clauses) -------\n |  | checking: np_scalar_int|np_scalar_uint|np_scalar_float      for value: Instance of <class 'float'>: 3.4   \n |  | checking: $(np_scalar_int|np_scalar_uint|np_scalar_float)   for value: Instance of <class 'float'>: 3.4   \n |  | checking: np_scalar_type                                    for value: Instance of <class 'float'>: 3.4   \n |  | Variables bound in inner context:\n |  | \n |  ------- (end clauses) -------\n | checking: np_zeroshape_array|np_scalar_type      for value: Instance of <class 'float'>: 3.4   \n | checking: $(np_zeroshape_array|np_scalar_type)   for value: Instance of <class 'float'>: 3.4   \n | checking: np_scalar                              for value: Instance of <class 'float'>: 3.4   \n | checking: np_scalar,array(int)                   for value: Instance of <class 'float'>: 3.4   \n | Variables bound in inner context:\n | \n ------- (end clauses) -------\nchecking: Int|np_scalar_int|np_scalar,array(int)      for value: Instance of <class 'float'>: 3.4   \nchecking: $(Int|np_scalar_int|np_scalar,array(int))   for value: Instance of <class 'float'>: 3.4   \nchecking: int                                         for value: Instance of <class 'float'>: 3.4   \nchecking: int,>0                                      for value: Instance of <class 'float'>: 3.4   \nVariables bound in inner context:\n",
     "traceback": [
      "\u001b[1;31m---------------------------------------------------------------------------\u001b[0m",
      "\u001b[1;31mContractNotRespected\u001b[0m                      Traceback (most recent call last)",
      "\u001b[1;32m<ipython-input-6-22cefef4dacb>\u001b[0m in \u001b[0;36m<module>\u001b[1;34m\u001b[0m\n\u001b[1;32m----> 1\u001b[1;33m \u001b[0mmy_function\u001b[0m\u001b[1;33m(\u001b[0m\u001b[0ma\u001b[0m\u001b[1;33m=\u001b[0m\u001b[1;36m3.4\u001b[0m\u001b[1;33m,\u001b[0m \u001b[0mb\u001b[0m\u001b[1;33m=\u001b[0m\u001b[1;33m[\u001b[0m\u001b[1;36m1\u001b[0m\u001b[1;33m,\u001b[0m \u001b[1;36m5\u001b[0m\u001b[1;33m,\u001b[0m \u001b[1;36m3\u001b[0m\u001b[1;33m]\u001b[0m\u001b[1;33m)\u001b[0m\u001b[1;33m\u001b[0m\u001b[1;33m\u001b[0m\u001b[0m\n\u001b[0m",
      "\u001b[1;32m<decorator-gen-126>\u001b[0m in \u001b[0;36mmy_function\u001b[1;34m(a, b)\u001b[0m\n",
      "\u001b[1;32m~\\YandexDisk\\PC\\education\\coursera_python_specialization\\venv\\lib\\site-packages\\contracts\\main.py\u001b[0m in \u001b[0;36mcontracts_checker\u001b[1;34m(unused, *args, **kwargs)\u001b[0m\n\u001b[0;32m    265\u001b[0m                            % (arg, get_nice_function_display()))\n\u001b[0;32m    266\u001b[0m                     \u001b[0me\u001b[0m\u001b[1;33m.\u001b[0m\u001b[0merror\u001b[0m \u001b[1;33m=\u001b[0m \u001b[0mmsg\u001b[0m \u001b[1;33m+\u001b[0m \u001b[0me\u001b[0m\u001b[1;33m.\u001b[0m\u001b[0merror\u001b[0m\u001b[1;33m\u001b[0m\u001b[1;33m\u001b[0m\u001b[0m\n\u001b[1;32m--> 267\u001b[1;33m                     \u001b[1;32mraise\u001b[0m \u001b[0me\u001b[0m\u001b[1;33m\u001b[0m\u001b[1;33m\u001b[0m\u001b[0m\n\u001b[0m\u001b[0;32m    268\u001b[0m \u001b[1;33m\u001b[0m\u001b[0m\n\u001b[0;32m    269\u001b[0m         \u001b[0mresult\u001b[0m \u001b[1;33m=\u001b[0m \u001b[0mfunction_\u001b[0m\u001b[1;33m(\u001b[0m\u001b[1;33m*\u001b[0m\u001b[0margs\u001b[0m\u001b[1;33m,\u001b[0m \u001b[1;33m**\u001b[0m\u001b[0mkwargs\u001b[0m\u001b[1;33m)\u001b[0m\u001b[1;33m\u001b[0m\u001b[1;33m\u001b[0m\u001b[0m\n",
      "\u001b[1;32m~\\YandexDisk\\PC\\education\\coursera_python_specialization\\venv\\lib\\site-packages\\contracts\\main.py\u001b[0m in \u001b[0;36mcontracts_checker\u001b[1;34m(unused, *args, **kwargs)\u001b[0m\n\u001b[0;32m    260\u001b[0m             \u001b[1;32mif\u001b[0m \u001b[0marg\u001b[0m \u001b[1;32min\u001b[0m \u001b[0maccepts_parsed\u001b[0m\u001b[1;33m:\u001b[0m\u001b[1;33m\u001b[0m\u001b[1;33m\u001b[0m\u001b[0m\n\u001b[0;32m    261\u001b[0m                 \u001b[1;32mtry\u001b[0m\u001b[1;33m:\u001b[0m\u001b[1;33m\u001b[0m\u001b[1;33m\u001b[0m\u001b[0m\n\u001b[1;32m--> 262\u001b[1;33m                     \u001b[0maccepts_parsed\u001b[0m\u001b[1;33m[\u001b[0m\u001b[0marg\u001b[0m\u001b[1;33m]\u001b[0m\u001b[1;33m.\u001b[0m\u001b[0m_check_contract\u001b[0m\u001b[1;33m(\u001b[0m\u001b[0mcontext\u001b[0m\u001b[1;33m,\u001b[0m \u001b[0mbound\u001b[0m\u001b[1;33m[\u001b[0m\u001b[0marg\u001b[0m\u001b[1;33m]\u001b[0m\u001b[1;33m,\u001b[0m \u001b[0msilent\u001b[0m\u001b[1;33m=\u001b[0m\u001b[1;32mFalse\u001b[0m\u001b[1;33m)\u001b[0m\u001b[1;33m\u001b[0m\u001b[1;33m\u001b[0m\u001b[0m\n\u001b[0m\u001b[0;32m    263\u001b[0m                 \u001b[1;32mexcept\u001b[0m \u001b[0mContractNotRespected\u001b[0m \u001b[1;32mas\u001b[0m \u001b[0me\u001b[0m\u001b[1;33m:\u001b[0m\u001b[1;33m\u001b[0m\u001b[1;33m\u001b[0m\u001b[0m\n\u001b[0;32m    264\u001b[0m                     msg = ('Breach for argument %r to %s.\\n'\n",
      "\u001b[1;32m~\\YandexDisk\\PC\\education\\coursera_python_specialization\\venv\\lib\\site-packages\\contracts\\interface.py\u001b[0m in \u001b[0;36m_check_contract\u001b[1;34m(self, context, value, silent)\u001b[0m\n\u001b[0;32m    449\u001b[0m         \u001b[0mvariables\u001b[0m \u001b[1;33m=\u001b[0m \u001b[0mcontext\u001b[0m\u001b[1;33m.\u001b[0m\u001b[0mcopy\u001b[0m\u001b[1;33m(\u001b[0m\u001b[1;33m)\u001b[0m\u001b[1;33m\u001b[0m\u001b[1;33m\u001b[0m\u001b[0m\n\u001b[0;32m    450\u001b[0m         \u001b[1;32mtry\u001b[0m\u001b[1;33m:\u001b[0m\u001b[1;33m\u001b[0m\u001b[1;33m\u001b[0m\u001b[0m\n\u001b[1;32m--> 451\u001b[1;33m             \u001b[0mself\u001b[0m\u001b[1;33m.\u001b[0m\u001b[0mcheck_contract\u001b[0m\u001b[1;33m(\u001b[0m\u001b[0mcontext\u001b[0m\u001b[1;33m,\u001b[0m \u001b[0mvalue\u001b[0m\u001b[1;33m,\u001b[0m \u001b[0msilent\u001b[0m\u001b[1;33m)\u001b[0m\u001b[1;33m\u001b[0m\u001b[1;33m\u001b[0m\u001b[0m\n\u001b[0m\u001b[0;32m    452\u001b[0m         \u001b[1;32mexcept\u001b[0m \u001b[0mContractNotRespected\u001b[0m \u001b[1;32mas\u001b[0m \u001b[0me\u001b[0m\u001b[1;33m:\u001b[0m\u001b[1;33m\u001b[0m\u001b[1;33m\u001b[0m\u001b[0m\n\u001b[0;32m    453\u001b[0m             \u001b[0me\u001b[0m\u001b[1;33m.\u001b[0m\u001b[0mstack\u001b[0m\u001b[1;33m.\u001b[0m\u001b[0mappend\u001b[0m\u001b[1;33m(\u001b[0m\u001b[1;33m(\u001b[0m\u001b[0mself\u001b[0m\u001b[1;33m,\u001b[0m \u001b[0mvariables\u001b[0m\u001b[1;33m,\u001b[0m \u001b[0mvalue\u001b[0m\u001b[1;33m)\u001b[0m\u001b[1;33m)\u001b[0m\u001b[1;33m\u001b[0m\u001b[1;33m\u001b[0m\u001b[0m\n",
      "\u001b[1;32m~\\YandexDisk\\PC\\education\\coursera_python_specialization\\venv\\lib\\site-packages\\contracts\\library\\compositions.py\u001b[0m in \u001b[0;36mcheck_contract\u001b[1;34m(self, context, value, silent)\u001b[0m\n\u001b[0;32m    121\u001b[0m     \u001b[1;32mdef\u001b[0m \u001b[0mcheck_contract\u001b[0m\u001b[1;33m(\u001b[0m\u001b[0mself\u001b[0m\u001b[1;33m,\u001b[0m \u001b[0mcontext\u001b[0m\u001b[1;33m,\u001b[0m \u001b[0mvalue\u001b[0m\u001b[1;33m,\u001b[0m \u001b[0msilent\u001b[0m\u001b[1;33m)\u001b[0m\u001b[1;33m:\u001b[0m\u001b[1;33m\u001b[0m\u001b[1;33m\u001b[0m\u001b[0m\n\u001b[0;32m    122\u001b[0m         \u001b[1;32mfor\u001b[0m \u001b[0mc\u001b[0m \u001b[1;32min\u001b[0m \u001b[0mself\u001b[0m\u001b[1;33m.\u001b[0m\u001b[0mclauses\u001b[0m\u001b[1;33m:\u001b[0m\u001b[1;33m\u001b[0m\u001b[1;33m\u001b[0m\u001b[0m\n\u001b[1;32m--> 123\u001b[1;33m             \u001b[0mc\u001b[0m\u001b[1;33m.\u001b[0m\u001b[0m_check_contract\u001b[0m\u001b[1;33m(\u001b[0m\u001b[0mcontext\u001b[0m\u001b[1;33m,\u001b[0m \u001b[0mvalue\u001b[0m\u001b[1;33m,\u001b[0m \u001b[0msilent\u001b[0m\u001b[1;33m)\u001b[0m\u001b[1;33m\u001b[0m\u001b[1;33m\u001b[0m\u001b[0m\n\u001b[0m\u001b[0;32m    124\u001b[0m \u001b[1;33m\u001b[0m\u001b[0m\n\u001b[0;32m    125\u001b[0m     \u001b[1;32mdef\u001b[0m \u001b[0m__repr__\u001b[0m\u001b[1;33m(\u001b[0m\u001b[0mself\u001b[0m\u001b[1;33m)\u001b[0m\u001b[1;33m:\u001b[0m\u001b[1;33m\u001b[0m\u001b[1;33m\u001b[0m\u001b[0m\n",
      "\u001b[1;32m~\\YandexDisk\\PC\\education\\coursera_python_specialization\\venv\\lib\\site-packages\\contracts\\interface.py\u001b[0m in \u001b[0;36m_check_contract\u001b[1;34m(self, context, value, silent)\u001b[0m\n\u001b[0;32m    449\u001b[0m         \u001b[0mvariables\u001b[0m \u001b[1;33m=\u001b[0m \u001b[0mcontext\u001b[0m\u001b[1;33m.\u001b[0m\u001b[0mcopy\u001b[0m\u001b[1;33m(\u001b[0m\u001b[1;33m)\u001b[0m\u001b[1;33m\u001b[0m\u001b[1;33m\u001b[0m\u001b[0m\n\u001b[0;32m    450\u001b[0m         \u001b[1;32mtry\u001b[0m\u001b[1;33m:\u001b[0m\u001b[1;33m\u001b[0m\u001b[1;33m\u001b[0m\u001b[0m\n\u001b[1;32m--> 451\u001b[1;33m             \u001b[0mself\u001b[0m\u001b[1;33m.\u001b[0m\u001b[0mcheck_contract\u001b[0m\u001b[1;33m(\u001b[0m\u001b[0mcontext\u001b[0m\u001b[1;33m,\u001b[0m \u001b[0mvalue\u001b[0m\u001b[1;33m,\u001b[0m \u001b[0msilent\u001b[0m\u001b[1;33m)\u001b[0m\u001b[1;33m\u001b[0m\u001b[1;33m\u001b[0m\u001b[0m\n\u001b[0m\u001b[0;32m    452\u001b[0m         \u001b[1;32mexcept\u001b[0m \u001b[0mContractNotRespected\u001b[0m \u001b[1;32mas\u001b[0m \u001b[0me\u001b[0m\u001b[1;33m:\u001b[0m\u001b[1;33m\u001b[0m\u001b[1;33m\u001b[0m\u001b[0m\n\u001b[0;32m    453\u001b[0m             \u001b[0me\u001b[0m\u001b[1;33m.\u001b[0m\u001b[0mstack\u001b[0m\u001b[1;33m.\u001b[0m\u001b[0mappend\u001b[0m\u001b[1;33m(\u001b[0m\u001b[1;33m(\u001b[0m\u001b[0mself\u001b[0m\u001b[1;33m,\u001b[0m \u001b[0mvariables\u001b[0m\u001b[1;33m,\u001b[0m \u001b[0mvalue\u001b[0m\u001b[1;33m)\u001b[0m\u001b[1;33m)\u001b[0m\u001b[1;33m\u001b[0m\u001b[1;33m\u001b[0m\u001b[0m\n",
      "\u001b[1;32m~\\YandexDisk\\PC\\education\\coursera_python_specialization\\venv\\lib\\site-packages\\contracts\\library\\extensions.py\u001b[0m in \u001b[0;36mcheck_contract\u001b[1;34m(self, context, value, silent)\u001b[0m\n\u001b[0;32m     46\u001b[0m                                  k, v in self.kwargs.items())\n\u001b[0;32m     47\u001b[0m \u001b[1;33m\u001b[0m\u001b[0m\n\u001b[1;32m---> 48\u001b[1;33m         \u001b[0mself\u001b[0m\u001b[1;33m.\u001b[0m\u001b[0mcontract\u001b[0m\u001b[1;33m.\u001b[0m\u001b[0m_check_contract\u001b[0m\u001b[1;33m(\u001b[0m\u001b[0mcontext\u001b[0m\u001b[1;33m,\u001b[0m \u001b[0mvalue\u001b[0m\u001b[1;33m,\u001b[0m \u001b[0msilent\u001b[0m\u001b[1;33m)\u001b[0m\u001b[1;33m\u001b[0m\u001b[1;33m\u001b[0m\u001b[0m\n\u001b[0m\u001b[0;32m     49\u001b[0m \u001b[1;33m\u001b[0m\u001b[0m\n\u001b[0;32m     50\u001b[0m     \u001b[1;33m@\u001b[0m\u001b[0mstaticmethod\u001b[0m\u001b[1;33m\u001b[0m\u001b[1;33m\u001b[0m\u001b[0m\n",
      "\u001b[1;32m~\\YandexDisk\\PC\\education\\coursera_python_specialization\\venv\\lib\\site-packages\\contracts\\interface.py\u001b[0m in \u001b[0;36m_check_contract\u001b[1;34m(self, context, value, silent)\u001b[0m\n\u001b[0;32m    449\u001b[0m         \u001b[0mvariables\u001b[0m \u001b[1;33m=\u001b[0m \u001b[0mcontext\u001b[0m\u001b[1;33m.\u001b[0m\u001b[0mcopy\u001b[0m\u001b[1;33m(\u001b[0m\u001b[1;33m)\u001b[0m\u001b[1;33m\u001b[0m\u001b[1;33m\u001b[0m\u001b[0m\n\u001b[0;32m    450\u001b[0m         \u001b[1;32mtry\u001b[0m\u001b[1;33m:\u001b[0m\u001b[1;33m\u001b[0m\u001b[1;33m\u001b[0m\u001b[0m\n\u001b[1;32m--> 451\u001b[1;33m             \u001b[0mself\u001b[0m\u001b[1;33m.\u001b[0m\u001b[0mcheck_contract\u001b[0m\u001b[1;33m(\u001b[0m\u001b[0mcontext\u001b[0m\u001b[1;33m,\u001b[0m \u001b[0mvalue\u001b[0m\u001b[1;33m,\u001b[0m \u001b[0msilent\u001b[0m\u001b[1;33m)\u001b[0m\u001b[1;33m\u001b[0m\u001b[1;33m\u001b[0m\u001b[0m\n\u001b[0m\u001b[0;32m    452\u001b[0m         \u001b[1;32mexcept\u001b[0m \u001b[0mContractNotRespected\u001b[0m \u001b[1;32mas\u001b[0m \u001b[0me\u001b[0m\u001b[1;33m:\u001b[0m\u001b[1;33m\u001b[0m\u001b[1;33m\u001b[0m\u001b[0m\n\u001b[0;32m    453\u001b[0m             \u001b[0me\u001b[0m\u001b[1;33m.\u001b[0m\u001b[0mstack\u001b[0m\u001b[1;33m.\u001b[0m\u001b[0mappend\u001b[0m\u001b[1;33m(\u001b[0m\u001b[1;33m(\u001b[0m\u001b[0mself\u001b[0m\u001b[1;33m,\u001b[0m \u001b[0mvariables\u001b[0m\u001b[1;33m,\u001b[0m \u001b[0mvalue\u001b[0m\u001b[1;33m)\u001b[0m\u001b[1;33m)\u001b[0m\u001b[1;33m\u001b[0m\u001b[1;33m\u001b[0m\u001b[0m\n",
      "\u001b[1;32m~\\YandexDisk\\PC\\education\\coursera_python_specialization\\venv\\lib\\site-packages\\contracts\\library\\separate_context.py\u001b[0m in \u001b[0;36mcheck_contract\u001b[1;34m(self, context, value, silent)\u001b[0m\n\u001b[0;32m     12\u001b[0m     \u001b[1;32mdef\u001b[0m \u001b[0mcheck_contract\u001b[0m\u001b[1;33m(\u001b[0m\u001b[0mself\u001b[0m\u001b[1;33m,\u001b[0m \u001b[0mcontext\u001b[0m\u001b[1;33m,\u001b[0m \u001b[0mvalue\u001b[0m\u001b[1;33m,\u001b[0m \u001b[0msilent\u001b[0m\u001b[1;33m)\u001b[0m\u001b[1;33m:\u001b[0m\u001b[1;33m\u001b[0m\u001b[1;33m\u001b[0m\u001b[0m\n\u001b[0;32m     13\u001b[0m         \u001b[0mcopy\u001b[0m \u001b[1;33m=\u001b[0m \u001b[0mcontext\u001b[0m\u001b[1;33m.\u001b[0m\u001b[0mcopy\u001b[0m\u001b[1;33m(\u001b[0m\u001b[1;33m)\u001b[0m\u001b[1;33m\u001b[0m\u001b[1;33m\u001b[0m\u001b[0m\n\u001b[1;32m---> 14\u001b[1;33m         \u001b[0mself\u001b[0m\u001b[1;33m.\u001b[0m\u001b[0mcontract\u001b[0m\u001b[1;33m.\u001b[0m\u001b[0m_check_contract\u001b[0m\u001b[1;33m(\u001b[0m\u001b[0mcopy\u001b[0m\u001b[1;33m,\u001b[0m \u001b[0mvalue\u001b[0m\u001b[1;33m,\u001b[0m \u001b[0msilent\u001b[0m\u001b[1;33m)\u001b[0m\u001b[1;33m\u001b[0m\u001b[1;33m\u001b[0m\u001b[0m\n\u001b[0m\u001b[0;32m     15\u001b[0m \u001b[1;33m\u001b[0m\u001b[0m\n\u001b[0;32m     16\u001b[0m     \u001b[1;32mdef\u001b[0m \u001b[0m__str__\u001b[0m\u001b[1;33m(\u001b[0m\u001b[0mself\u001b[0m\u001b[1;33m)\u001b[0m\u001b[1;33m:\u001b[0m\u001b[1;33m\u001b[0m\u001b[1;33m\u001b[0m\u001b[0m\n",
      "\u001b[1;32m~\\YandexDisk\\PC\\education\\coursera_python_specialization\\venv\\lib\\site-packages\\contracts\\interface.py\u001b[0m in \u001b[0;36m_check_contract\u001b[1;34m(self, context, value, silent)\u001b[0m\n\u001b[0;32m    449\u001b[0m         \u001b[0mvariables\u001b[0m \u001b[1;33m=\u001b[0m \u001b[0mcontext\u001b[0m\u001b[1;33m.\u001b[0m\u001b[0mcopy\u001b[0m\u001b[1;33m(\u001b[0m\u001b[1;33m)\u001b[0m\u001b[1;33m\u001b[0m\u001b[1;33m\u001b[0m\u001b[0m\n\u001b[0;32m    450\u001b[0m         \u001b[1;32mtry\u001b[0m\u001b[1;33m:\u001b[0m\u001b[1;33m\u001b[0m\u001b[1;33m\u001b[0m\u001b[0m\n\u001b[1;32m--> 451\u001b[1;33m             \u001b[0mself\u001b[0m\u001b[1;33m.\u001b[0m\u001b[0mcheck_contract\u001b[0m\u001b[1;33m(\u001b[0m\u001b[0mcontext\u001b[0m\u001b[1;33m,\u001b[0m \u001b[0mvalue\u001b[0m\u001b[1;33m,\u001b[0m \u001b[0msilent\u001b[0m\u001b[1;33m)\u001b[0m\u001b[1;33m\u001b[0m\u001b[1;33m\u001b[0m\u001b[0m\n\u001b[0m\u001b[0;32m    452\u001b[0m         \u001b[1;32mexcept\u001b[0m \u001b[0mContractNotRespected\u001b[0m \u001b[1;32mas\u001b[0m \u001b[0me\u001b[0m\u001b[1;33m:\u001b[0m\u001b[1;33m\u001b[0m\u001b[1;33m\u001b[0m\u001b[0m\n\u001b[0;32m    453\u001b[0m             \u001b[0me\u001b[0m\u001b[1;33m.\u001b[0m\u001b[0mstack\u001b[0m\u001b[1;33m.\u001b[0m\u001b[0mappend\u001b[0m\u001b[1;33m(\u001b[0m\u001b[1;33m(\u001b[0m\u001b[0mself\u001b[0m\u001b[1;33m,\u001b[0m \u001b[0mvariables\u001b[0m\u001b[1;33m,\u001b[0m \u001b[0mvalue\u001b[0m\u001b[1;33m)\u001b[0m\u001b[1;33m)\u001b[0m\u001b[1;33m\u001b[0m\u001b[1;33m\u001b[0m\u001b[0m\n",
      "\u001b[1;32m~\\YandexDisk\\PC\\education\\coursera_python_specialization\\venv\\lib\\site-packages\\contracts\\library\\compositions.py\u001b[0m in \u001b[0;36mcheck_contract\u001b[1;34m(self, context, value, silent)\u001b[0m\n\u001b[0;32m     60\u001b[0m \u001b[1;33m\u001b[0m\u001b[0m\n\u001b[0;32m     61\u001b[0m             \u001b[1;31m# otherwise need to do it again with detailed error messages\u001b[0m\u001b[1;33m\u001b[0m\u001b[1;33m\u001b[0m\u001b[1;33m\u001b[0m\u001b[0m\n\u001b[1;32m---> 62\u001b[1;33m             \u001b[0mself\u001b[0m\u001b[1;33m.\u001b[0m\u001b[0mget_error\u001b[0m\u001b[1;33m(\u001b[0m\u001b[0morig\u001b[0m\u001b[1;33m,\u001b[0m \u001b[0mvalue\u001b[0m\u001b[1;33m)\u001b[0m\u001b[1;33m\u001b[0m\u001b[1;33m\u001b[0m\u001b[0m\n\u001b[0m\u001b[0;32m     63\u001b[0m \u001b[1;33m\u001b[0m\u001b[0m\n\u001b[0;32m     64\u001b[0m     \u001b[1;32mdef\u001b[0m \u001b[0mget_error\u001b[0m\u001b[1;33m(\u001b[0m\u001b[0mself\u001b[0m\u001b[1;33m,\u001b[0m \u001b[0mcontext\u001b[0m\u001b[1;33m,\u001b[0m \u001b[0mvalue\u001b[0m\u001b[1;33m)\u001b[0m\u001b[1;33m:\u001b[0m\u001b[1;33m\u001b[0m\u001b[1;33m\u001b[0m\u001b[0m\n",
      "\u001b[1;32m~\\YandexDisk\\PC\\education\\coursera_python_specialization\\venv\\lib\\site-packages\\contracts\\library\\compositions.py\u001b[0m in \u001b[0;36mget_error\u001b[1;34m(self, context, value)\u001b[0m\n\u001b[0;32m     78\u001b[0m             \u001b[0mmsg\u001b[0m \u001b[1;33m=\u001b[0m \u001b[0mself\u001b[0m\u001b[1;33m.\u001b[0m\u001b[0m_format_exceptions\u001b[0m\u001b[1;33m(\u001b[0m\u001b[0mexceptions\u001b[0m\u001b[1;33m)\u001b[0m\u001b[1;33m\u001b[0m\u001b[1;33m\u001b[0m\u001b[0m\n\u001b[0;32m     79\u001b[0m             raise ContractNotRespected(contract=self, error=msg,\n\u001b[1;32m---> 80\u001b[1;33m                         value=value, context=context)\n\u001b[0m\u001b[0;32m     81\u001b[0m \u001b[1;33m\u001b[0m\u001b[0m\n\u001b[0;32m     82\u001b[0m \u001b[1;33m\u001b[0m\u001b[0m\n",
      "\u001b[1;31mContractNotRespected\u001b[0m: Breach for argument 'a' to my_function().\nCould not satisfy any of the 3 clauses in Int|np_scalar_int|np_scalar,array(int).\n ---- Clause #1:   Int\n | Expected type 'int', got <class 'float'>.\n | checking: Int   for value: Instance of <class 'float'>: 3.4   \n | Variables bound in inner context:\n | \n ---- Clause #2:   np_scalar_int\n | Could not satisfy any of the 4 clauses in np_int8|np_int16|np_int32|np_int64.\n |  ---- Clause #1:   np_int8\n |  | Expected type 'int8', got <class 'float'>.\n |  | checking: np_int8   for value: Instance of <class 'float'>: 3.4   \n |  | Variables bound in inner context:\n |  | \n |  ---- Clause #2:   np_int16\n |  | Expected type 'int16', got <class 'float'>.\n |  | checking: np_int16   for value: Instance of <class 'float'>: 3.4   \n |  | Variables bound in inner context:\n |  | \n |  ---- Clause #3:   np_int32\n |  | Expected type 'int32', got <class 'float'>.\n |  | checking: np_int32   for value: Instance of <class 'float'>: 3.4   \n |  | Variables bound in inner context:\n |  | \n |  ---- Clause #4:   np_int64\n |  | Expected type 'int64', got <class 'float'>.\n |  | checking: np_int64   for value: Instance of <class 'float'>: 3.4   \n |  | Variables bound in inner context:\n |  | \n |  ------- (end clauses) -------\n | checking: np_int8|np_int16|np_int32|np_int64      for value: Instance of <class 'float'>: 3.4   \n | checking: $(np_int8|np_int16|np_int32|np_int64)   for value: Instance of <class 'float'>: 3.4   \n | checking: np_scalar_int                           for value: Instance of <class 'float'>: 3.4   \n | Variables bound in inner context:\n | \n ---- Clause #3:   np_scalar,array(int)\n | Could not satisfy any of the 2 clauses in np_zeroshape_array|np_scalar_type.\n |  ---- Clause #1:   np_zeroshape_array\n |  | Not an array: <class 'float'> <class 'float'> \n |  | checking: callable()           for value: Instance of <class 'float'>: 3.4   \n |  | checking: np_zeroshape_array   for value: Instance of <class 'float'>: 3.4   \n |  | Variables bound in inner context:\n |  | \n |  ---- Clause #2:   np_scalar_type\n |  | Could not satisfy any of the 3 clauses in np_scalar_int|np_scalar_uint|np_scalar_float.\n |  |  ---- Clause #1:   np_scalar_int\n |  |  | Could not satisfy any of the 4 clauses in np_int8|np_int16|np_int32|np_int64.\n |  |  |  ---- Clause #1:   np_int8\n |  |  |  | Expected type 'int8', got <class 'float'>.\n |  |  |  | checking: np_int8   for value: Instance of <class 'float'>: 3.4   \n |  |  |  | Variables bound in inner context:\n |  |  |  | \n |  |  |  ---- Clause #2:   np_int16\n |  |  |  | Expected type 'int16', got <class 'float'>.\n |  |  |  | checking: np_int16   for value: Instance of <class 'float'>: 3.4   \n |  |  |  | Variables bound in inner context:\n |  |  |  | \n |  |  |  ---- Clause #3:   np_int32\n |  |  |  | Expected type 'int32', got <class 'float'>.\n |  |  |  | checking: np_int32   for value: Instance of <class 'float'>: 3.4   \n |  |  |  | Variables bound in inner context:\n |  |  |  | \n |  |  |  ---- Clause #4:   np_int64\n |  |  |  | Expected type 'int64', got <class 'float'>.\n |  |  |  | checking: np_int64   for value: Instance of <class 'float'>: 3.4   \n |  |  |  | Variables bound in inner context:\n |  |  |  | \n |  |  |  ------- (end clauses) -------\n |  |  | checking: np_int8|np_int16|np_int32|np_int64      for value: Instance of <class 'float'>: 3.4   \n |  |  | checking: $(np_int8|np_int16|np_int32|np_int64)   for value: Instance of <class 'float'>: 3.4   \n |  |  | checking: np_scalar_int                           for value: Instance of <class 'float'>: 3.4   \n |  |  | Variables bound in inner context:\n |  |  | \n |  |  ---- Clause #2:   np_scalar_uint\n |  |  | Could not satisfy any of the 4 clauses in np_uint8|np_uint16|np_uint32|np_uint64.\n |  |  |  ---- Clause #1:   np_uint8\n |  |  |  | Expected type 'uint8', got <class 'float'>.\n |  |  |  | checking: np_uint8   for value: Instance of <class 'float'>: 3.4   \n |  |  |  | Variables bound in inner context:\n |  |  |  | \n |  |  |  ---- Clause #2:   np_uint16\n |  |  |  | Expected type 'uint16', got <class 'float'>.\n |  |  |  | checking: np_uint16   for value: Instance of <class 'float'>: 3.4   \n |  |  |  | Variables bound in inner context:\n |  |  |  | \n |  |  |  ---- Clause #3:   np_uint32\n |  |  |  | Expected type 'uint32', got <class 'float'>.\n |  |  |  | checking: np_uint32   for value: Instance of <class 'float'>: 3.4   \n |  |  |  | Variables bound in inner context:\n |  |  |  | \n |  |  |  ---- Clause #4:   np_uint64\n |  |  |  | Expected type 'uint64', got <class 'float'>.\n |  |  |  | checking: np_uint64   for value: Instance of <class 'float'>: 3.4   \n |  |  |  | Variables bound in inner context:\n |  |  |  | \n |  |  |  ------- (end clauses) -------\n |  |  | checking: np_uint8|np_uint16|np_uint32|np_uint64      for value: Instance of <class 'float'>: 3.4   \n |  |  | checking: $(np_uint8|np_uint16|np_uint32|np_uint64)   for value: Instance of <class 'float'>: 3.4   \n |  |  | checking: np_scalar_uint                              for value: Instance of <class 'float'>: 3.4   \n |  |  | Variables bound in inner context:\n |  |  | \n |  |  ---- Clause #3:   np_scalar_float\n |  |  | Could not satisfy any of the 2 clauses in np_float32|np_float64.\n |  |  |  ---- Clause #1:   np_float32\n |  |  |  | Expected type 'float32', got <class 'float'>.\n |  |  |  | checking: np_float32   for value: Instance of <class 'float'>: 3.4   \n |  |  |  | Variables bound in inner context:\n |  |  |  | \n |  |  |  ---- Clause #2:   np_float64\n |  |  |  | Expected type 'float64', got <class 'float'>.\n |  |  |  | checking: np_float64   for value: Instance of <class 'float'>: 3.4   \n |  |  |  | Variables bound in inner context:\n |  |  |  | \n |  |  |  ------- (end clauses) -------\n |  |  | checking: np_float32|np_float64      for value: Instance of <class 'float'>: 3.4   \n |  |  | checking: $(np_float32|np_float64)   for value: Instance of <class 'float'>: 3.4   \n |  |  | checking: np_scalar_float            for value: Instance of <class 'float'>: 3.4   \n |  |  | Variables bound in inner context:\n |  |  | \n |  |  ------- (end clauses) -------\n |  | checking: np_scalar_int|np_scalar_uint|np_scalar_float      for value: Instance of <class 'float'>: 3.4   \n |  | checking: $(np_scalar_int|np_scalar_uint|np_scalar_float)   for value: Instance of <class 'float'>: 3.4   \n |  | checking: np_scalar_type                                    for value: Instance of <class 'float'>: 3.4   \n |  | Variables bound in inner context:\n |  | \n |  ------- (end clauses) -------\n | checking: np_zeroshape_array|np_scalar_type      for value: Instance of <class 'float'>: 3.4   \n | checking: $(np_zeroshape_array|np_scalar_type)   for value: Instance of <class 'float'>: 3.4   \n | checking: np_scalar                              for value: Instance of <class 'float'>: 3.4   \n | checking: np_scalar,array(int)                   for value: Instance of <class 'float'>: 3.4   \n | Variables bound in inner context:\n | \n ------- (end clauses) -------\nchecking: Int|np_scalar_int|np_scalar,array(int)      for value: Instance of <class 'float'>: 3.4   \nchecking: $(Int|np_scalar_int|np_scalar,array(int))   for value: Instance of <class 'float'>: 3.4   \nchecking: int                                         for value: Instance of <class 'float'>: 3.4   \nchecking: int,>0                                      for value: Instance of <class 'float'>: 3.4   \nVariables bound in inner context:\n"
     ],
     "output_type": "error"
    }
   ],
   "source": [
    "my_function(a=3.4, b=[1, 5, 3])"
   ]
  },
  {
   "cell_type": "code",
   "execution_count": null,
   "metadata": {},
   "outputs": [],
   "source": []
  },
  {
   "cell_type": "code",
   "execution_count": null,
   "metadata": {},
   "outputs": [],
   "source": []
  },
  {
   "cell_type": "code",
   "execution_count": 18,
   "metadata": {},
   "outputs": [
    {
     "name": "stdout",
     "output_type": "stream",
     "text": [
      "**********************************************************************\n",
      "File \"__main__\", line 5, in __main__.is_braces_sequence_correct\n",
      "Failed example:\n",
      "    is_braces_sequence_correct (\"()(())\")\n",
      "Expected:\n",
      "    True\n",
      "Got nothing\n",
      "**********************************************************************\n",
      "File \"__main__\", line 7, in __main__.is_braces_sequence_correct\n",
      "Failed example:\n",
      "    is_braces_sequence_correct (\"()[()]\")\n",
      "Expected:\n",
      "    True\n",
      "Got nothing\n",
      "**********************************************************************\n",
      "File \"__main__\", line 9, in __main__.is_braces_sequence_correct\n",
      "Failed example:\n",
      "    is_braces_sequence_correct (\")\")\n",
      "Expected:\n",
      "    False\n",
      "Got nothing\n",
      "**********************************************************************\n",
      "File \"__main__\", line 11, in __main__.is_braces_sequence_correct\n",
      "Failed example:\n",
      "    is_braces_sequence_correct (\"[()\")\n",
      "Expected:\n",
      "    False\n",
      "Got nothing\n",
      "**********************************************************************\n",
      "File \"__main__\", line 13, in __main__.is_braces_sequence_correct\n",
      "Failed example:\n",
      "    is_braces_sequence_correct (\"[(])\")\n",
      "Expected:\n",
      "    False\n",
      "Got nothing\n",
      "**********************************************************************\n",
      "1 items had failures:\n",
      "   5 of   5 in __main__.is_braces_sequence_correct\n",
      "***Test Failed*** 5 failures.\n"
     ]
    }
   ],
   "source": [
    "# import stack\n",
    "def is_braces_sequence_correct(seq: str) -> bool:\n",
    "    \"\"\"\n",
    "    Check correctness of braces sequence in statement\n",
    "    >>> is_braces_sequence_correct (\"()(())\")\n",
    "    True\n",
    "    >>> is_braces_sequence_correct (\"()[()]\")\n",
    "    True\n",
    "    >>> is_braces_sequence_correct (\")\")\n",
    "    False\n",
    "    >>> is_braces_sequence_correct (\"[()\")\n",
    "    False\n",
    "    >>> is_braces_sequence_correct (\"[(])\")\n",
    "    False\n",
    "    \"\"\"\n",
    "if __name__ == \"__main__\":\n",
    "    import doctest\n",
    "    doctest.testmod()"
   ]
  },
  {
   "cell_type": "code",
   "execution_count": null,
   "metadata": {},
   "outputs": [],
   "source": []
  }
 ],
 "metadata": {
  "kernelspec": {
   "display_name": "Python 3",
   "language": "python",
   "name": "python3"
  },
  "language_info": {
   "codemirror_mode": {
    "name": "ipython",
    "version": 3
   },
   "file_extension": ".py",
   "mimetype": "text/x-python",
   "name": "python",
   "nbconvert_exporter": "python",
   "pygments_lexer": "ipython3",
   "version": "3.7.1"
  }
 },
 "nbformat": 4,
 "nbformat_minor": 2
}
