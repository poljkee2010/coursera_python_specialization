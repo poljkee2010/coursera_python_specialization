{
 "cells": [
  {
   "cell_type": "markdown",
   "metadata": {},
   "source": [
    "# <center>Создание адаптера для класса"
   ]
  },
  {
   "cell_type": "markdown",
   "metadata": {},
   "source": [
    "Вы продолжаете писать игру, и настало время разобраться с расчетом освещенности на карте. Так как это не совсем тривиальная задача, вы хотели бы использовать готовое решение, а не писать свое собственное. Вам удалось найти готовый класс, который решает задачу, однако интерфейс этого класса не совместим с вашей игрой.\n",
    "\n",
    "Вам нужно написать адаптер, который позволил бы использовать найденный вами класс совместно с вашей системой.\n",
    "\n",
    "Интерфейс класса выглядит следующим образом:"
   ]
  },
  {
   "cell_type": "code",
   "execution_count": 1,
   "metadata": {},
   "outputs": [],
   "source": [
    "from abc import ABC, abstractmethod"
   ]
  },
  {
   "cell_type": "code",
   "execution_count": 2,
   "metadata": {},
   "outputs": [],
   "source": [
    "class Light:\n",
    "    def __init__(self, dim):\n",
    "        self.dim = dim\n",
    "        self.grid = [[0 for i in range(dim[0])] for _ in range(dim[1])]\n",
    "        self.lights = []\n",
    "        self.obstacles = []\n",
    "        \n",
    "    def set_dim(self, dim):\n",
    "        self.dim = dim\n",
    "        self.grid = [[0 for i in range(dim[0])] for _ in range(dim[1])]\n",
    "    \n",
    "    def set_lights(self, lights):\n",
    "        self.lights = lights\n",
    "        self.generate_lights()\n",
    "    \n",
    "    def set_obstacles(self, obstacles):\n",
    "        self.obstacles = obstacles\n",
    "        self.generate_lights()\n",
    "        \n",
    "    def generate_lights(self):\n",
    "        return self.grid.copy()\n"
   ]
  },
  {
   "cell_type": "markdown",
   "metadata": {},
   "source": [
    "Интерфейс системы выглядит следующим образом:"
   ]
  },
  {
   "cell_type": "code",
   "execution_count": 3,
   "metadata": {},
   "outputs": [],
   "source": [
    "class System:\n",
    "    def __init__(self):\n",
    "        self.map = self.grid = [[0 for i in range(30)] for _ in range(20)]\n",
    "        self.map[5][7] = 1 # Источники света\n",
    "        self.map[5][2] = -1 # Стены\n",
    "    \n",
    "    def get_lightening(self, light_mapper):\n",
    "        self.lightmap = light_mapper.lighten(self.map)\n"
   ]
  },
  {
   "cell_type": "code",
   "execution_count": 4,
   "metadata": {},
   "outputs": [],
   "source": [
    "light = Light((10, 7))"
   ]
  },
  {
   "cell_type": "code",
   "execution_count": 5,
   "metadata": {},
   "outputs": [],
   "source": [
    "light.set_lights([(6, 4), (2, 1)])"
   ]
  },
  {
   "cell_type": "code",
   "execution_count": 6,
   "metadata": {},
   "outputs": [
    {
     "data": {
      "text/plain": [
       "[[0, 0, 0, 0, 0, 0, 0, 0, 0, 0],\n",
       " [0, 0, 0, 0, 0, 0, 0, 0, 0, 0],\n",
       " [0, 0, 0, 0, 0, 0, 0, 0, 0, 0],\n",
       " [0, 0, 0, 0, 0, 0, 0, 0, 0, 0],\n",
       " [0, 0, 0, 0, 0, 0, 0, 0, 0, 0],\n",
       " [0, 0, 0, 0, 0, 0, 0, 0, 0, 0],\n",
       " [0, 0, 0, 0, 0, 0, 0, 0, 0, 0]]"
      ]
     },
     "execution_count": 6,
     "metadata": {},
     "output_type": "execute_result"
    }
   ],
   "source": [
    "light.generate_lights()"
   ]
  },
  {
   "cell_type": "markdown",
   "metadata": {},
   "source": [
    "Класс Light создает в методе __init__ поле заданного размера. За размер поля отвечает параметр, представляющий из себя кортеж из 2 чисел. Элемент dim[1] отвечает за высоту карты, dim[0] за ее ширину. Метод set_lights устанавливает массив источников света с заданными координатами и просчитывает освещение. Метод set_obstacles устанавливает препятствия аналогичным образом. Положение элементов задается списком кортежей. В каждом элементе кортежа хранятся 2 значения: elem[0] -- координата по ширине карты и elem[1] -- координата по высоте соответственно. Метод generate_lights рассчитывает освещенность с учетом источников и препятствий.\n",
    "\n",
    "Пример карты освещенности, полученной этим методом изображен на следующем рисунке:"
   ]
  },
  {
   "cell_type": "markdown",
   "metadata": {},
   "source": [
    "<img src=\"images/light.jpg\">"
   ]
  },
  {
   "cell_type": "markdown",
   "metadata": {},
   "source": [
    "В системе в конструкторе создается двухмерная, карта, на которой источники света обозначены как 1, а препятствия как -1. Метод get_lightening принимает в качестве аргумента объект, который должен посчитывать освещение. У объекта вызывается метод lighten, который принимает карту объектов и источников света и возвращает карту освещенности.\n",
    "\n",
    "Вам необходимо написать адаптер MappingAdapter. Прототип класса вам дан в качестве исходного кода."
   ]
  },
  {
   "cell_type": "code",
   "execution_count": 7,
   "metadata": {},
   "outputs": [],
   "source": [
    "class MappingAdapterAbstract(ABC):  # sets the interface\n",
    "    def __init__(self, adaptee):\n",
    "        pass\n",
    "    \n",
    "    @abstractmethod\n",
    "    def lighten(self, grid):\n",
    "        pass"
   ]
  },
  {
   "cell_type": "code",
   "execution_count": 25,
   "metadata": {},
   "outputs": [],
   "source": [
    "class MappingAdapter(Light, MappingAdapterAbstract):\n",
    "    def __init__(self, adaptee):\n",
    "        self.adaptee = adaptee\n",
    "    \n",
    "    def _get_lights_and_obstacles(self, grid):\n",
    "        lights = []\n",
    "        obstacles = []\n",
    "        for i, row in enumerate(grid):\n",
    "            for j, elem in enumerate(row):\n",
    "                if elem == 1:\n",
    "                    lights += [(j, i)]\n",
    "                if elem == -1:\n",
    "                    obstacles += [(j, i)]\n",
    "        return lights, obstacles\n",
    "    \n",
    "    def lighten(self, grid):\n",
    "        dim = (len(grid[0]), len(grid))\n",
    "        self.adaptee.set_dim(dim)\n",
    "        lights, obstacles = self._get_lights_and_obstacles(grid)\n",
    "        self.adaptee.set_lights(lights)\n",
    "        self.adaptee.set_obstacles(obstacles)\n",
    "        return self.adaptee.generate_lights()"
   ]
  },
  {
   "cell_type": "code",
   "execution_count": 26,
   "metadata": {},
   "outputs": [],
   "source": [
    "dim = (10, 20)\n",
    "\n",
    "system = System()\n",
    "light_mapper = Light(dim)\n",
    "adapter = MappingAdapter(light_mapper)\n",
    "system.get_lightening(adapter)"
   ]
  },
  {
   "cell_type": "code",
   "execution_count": null,
   "metadata": {},
   "outputs": [],
   "source": []
  },
  {
   "cell_type": "code",
   "execution_count": null,
   "metadata": {},
   "outputs": [],
   "source": []
  }
 ],
 "metadata": {
  "kernelspec": {
   "display_name": "Python 3",
   "language": "python",
   "name": "python3"
  },
  "language_info": {
   "codemirror_mode": {
    "name": "ipython",
    "version": 3
   },
   "file_extension": ".py",
   "mimetype": "text/x-python",
   "name": "python",
   "nbconvert_exporter": "python",
   "pygments_lexer": "ipython3",
   "version": "3.7.1"
  }
 },
 "nbformat": 4,
 "nbformat_minor": 2
}
