{
 "cells": [
  {
   "cell_type": "markdown",
   "metadata": {},
   "source": [
    "# <center>Создание адаптера для класса. Решение от препов"
   ]
  },
  {
   "cell_type": "code",
   "execution_count": null,
   "metadata": {},
   "outputs": [],
   "source": [
    "# Реализуем адаптер для класса\n",
    "class MappingAdapter:\n",
    "  \n",
    "    def __init__(self, adaptee):\n",
    "        # Сохраним адаптируемый объект \n",
    "        self.adaptee = adaptee\n",
    "        \n",
    "    def lighten(self, grid):\n",
    "        # Определим метод рассчета освещенности \n",
    "        dim = (len(grid[0]), len(grid)) # Определение размера карты\n",
    "        self.adaptee.set_dim(dim) # Установка размера карты в адаптируемом объекте\n",
    "        # Инициализируем пустые списки препятствий и источников света\n",
    "        obst = []\n",
    "        lght = []\n",
    "        # Считаем положения объектов с исходной карты\n",
    "        for i in range(dim[0]):\n",
    "            for j in range(dim[1]):\n",
    "                if grid[j][i] == 1:\n",
    "                    lght.append((i,j))\n",
    "                elif grid[j][i] == -1:\n",
    "                    obst.append((i,j))\n",
    "        # Передадим положения объектов адаптируемому объекту\n",
    "        self.adaptee.set_lights(lght)\n",
    "        self.adaptee.set_obstacles(obst)\n",
    "        # Вернем полученную карту освещенности\n",
    "        return self.adaptee.grid"
   ]
  }
 ],
 "metadata": {
  "kernelspec": {
   "display_name": "Python 3",
   "language": "python",
   "name": "python3"
  },
  "language_info": {
   "codemirror_mode": {
    "name": "ipython",
    "version": 3
   },
   "file_extension": ".py",
   "mimetype": "text/x-python",
   "name": "python",
   "nbconvert_exporter": "python",
   "pygments_lexer": "ipython3",
   "version": "3.7.1"
  }
 },
 "nbformat": 4,
 "nbformat_minor": 2
}
