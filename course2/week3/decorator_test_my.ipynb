{
 "cells": [
  {
   "cell_type": "markdown",
   "metadata": {},
   "source": [
    "# <center>Создание декоратора класса"
   ]
  },
  {
   "cell_type": "markdown",
   "metadata": {},
   "source": [
    "Представьте себя ненадолго разработчиком компьютерной игры в стиле фэнтези. Вы будете прописывать систему эффектов, которые могут быть наложены на героя вашей игры.\n",
    "\n",
    "У вас есть герой, который обладает некоторым набором характеристик. Враги и союзники могут накладывать на героя положительные и отрицательные эффекты. Эти эффекты каким-то образом изменяют характеристики героя. На героя можно накладывать бесконечно много эффектов, действие одинаковых эффектов суммируется. Игрок должен знать, какие положительные и какие отрицательные эффекты на него были наложены и в каком порядке.\n",
    "\n",
    "Класс герой описан следующим образом (характеристики могут быть другими):"
   ]
  },
  {
   "cell_type": "code",
   "execution_count": null,
   "metadata": {},
   "outputs": [],
   "source": [
    "from abc import ABC, abstractmethod"
   ]
  },
  {
   "cell_type": "code",
   "execution_count": 2,
   "metadata": {},
   "outputs": [],
   "source": [
    "class Hero:\n",
    "    \"\"\"\n",
    "      Абстрактный объект (Component)\n",
    "    \"\"\"\n",
    "    def __init__(self):\n",
    "        self.positive_effects = []\n",
    "        self.negative_effects = []\n",
    "        \n",
    "        self.stats = {\n",
    "            \"HP\": 128,\n",
    "            \"MP\": 42,\n",
    "            \"SP\": 100,\n",
    "            \n",
    "            \"Strength\": 15,\n",
    "            \"Perception\": 4,\n",
    "            \"Endurance\": 8,\n",
    "            \"Charisma\": 2,\n",
    "            \"Intelligence\": 3,\n",
    "            \"Agility\": 8,\n",
    "            \"Luck\": 1\n",
    "        } \n",
    "        \n",
    "    def get_positive_effects(self):\n",
    "        return self.positive_effects.copy()\n",
    "    \n",
    "    def get_negative_effects(self):\n",
    "        return self.negative_effects.copy()\n",
    "    \n",
    "    def get_stats(self):\n",
    "        return self.stats.copy()\n",
    "        "
   ]
  },
  {
   "cell_type": "markdown",
   "metadata": {},
   "source": [
    "Описывать класс героя в коде НЕ НУЖНО.\n",
    "\n",
    "Вам нужно написать систему декораторов, представленную на UML-диаграмме:"
   ]
  },
  {
   "cell_type": "markdown",
   "metadata": {},
   "source": [
    "<img src=\"images/cloudfront_net.jpg\">"
   ]
  },
  {
   "cell_type": "markdown",
   "metadata": {},
   "source": [
    "Названия наложенных положительных и отрицательных эффектов добавляются каждое в свой счетчик. Названия эффектов совпадают с названиями классов.\n",
    "\n",
    "Описания эффектов:\n",
    "\n",
    "- **Берсерк (Berserk)** — Увеличивает параметры *Сила, Выносливость, Ловкость, Удача* на 7; уменьшает параметры *Восприятие, Харизма, Интеллект* на 3. Количество единиц здоровья увеличивается на 50.\n",
    "- **Благословение (Blessing)** — Увеличивает все основные характеристики на 2.\n",
    "- **Слабость (Weakness)** — Уменьшает параметры *Сила, Выносливость, Ловкость* на 4.\n",
    "- **Сглаз (EvilEye)** — Уменьшает параметр *Удача* на 10.\n",
    "- **Проклятье (Curse)** — Уменьшает все основные характеристики на 2.   \n",
    "\n",
    "К основным характеристикам относятся Сила (`Strength`), Восприятие (`Perception`), Выносливость (`Endurance`), Харизма (`Charisma`), Интеллект (`Intelligence`), Ловкость (`Agility`), Удача (`Luck`).\n",
    "\n",
    "При выполнении задания учитывайте, что:\n",
    "\n",
    "- Изначальные характеристики базового объекта не должны меняться.\n",
    "- Изменения характеристик и накладываемых эффектов (баффов/дебаффов) должно происходить **динамически**, то есть при запросе `get_stats`, `get_positive_effects`, `get_negative_effects`\n",
    "- Абстрактные классы AbstractPositive, AbstractNegative и соответственно их потомки могут принимать любой параметр base при инициализации объекта (`__ init__ (self, base)`)\n",
    "- Проверяйте, что эффекты корректно снимаются, в том числе и из середины стека"
   ]
  },
  {
   "cell_type": "code",
   "execution_count": 3,
   "metadata": {},
   "outputs": [],
   "source": [
    "class AbstractEffect(Hero, ABC):\n",
    "    \"\"\"\n",
    "    Абстрактный декоратор (Decorator)\n",
    "    \"\"\"\n",
    "    def __init__(self, base):\n",
    "        super().__init__()\n",
    "        self.base = base\n",
    "        self.base_characteristics = [\"Strength\", \"Perception\", \"Endurance\", \"Charisma\", \"Intelligence\", \"Agility\", \"Luck\"]\n",
    "        \n",
    "    def get_stats(self): # Возвращает итоговые характеристики после применения эффекта \n",
    "        stats = self.base.get_stats()\n",
    "        return stats\n",
    "    \n",
    "    def get_positive_effects(self):\n",
    "        return self.base.get_positive_effects()\n",
    "    \n",
    "    def get_negative_effects(self):\n",
    "        return self.base.get_negative_effects()\n",
    "\n",
    "    \n",
    "class AbstractPositive(AbstractEffect):\n",
    "    \"\"\"\n",
    "    Абстрактный декоратор (Decorator) (more less level)\n",
    "    \"\"\"\n",
    "    @abstractmethod\n",
    "    def get_stats(self): # Возвращает итоговые характеристики после применения эффекта \n",
    "        stats = self.base.get_stats()\n",
    "        return stats\n",
    "    \n",
    "    @abstractmethod\n",
    "    def get_positive_effects(self):\n",
    "        return self.base.get_positive_effects()\n",
    "\n",
    "    \n",
    "class AbstractNegative(AbstractEffect):\n",
    "    \"\"\"\n",
    "    Абстрактный декоратор (Decorator) (more less level)\n",
    "    \"\"\"\n",
    "    @abstractmethod\n",
    "    def get_stats(self): # Возвращает итоговые характеристики после применения эффекта \n",
    "        stats = self.base.get_stats()\n",
    "        return stats\n",
    "    \n",
    "    @abstractmethod\n",
    "    def get_negative_effects(self):\n",
    "        return self.base.get_negative_effects()\n",
    "\n",
    "class Berserk(AbstractPositive):\n",
    "    \"\"\"\n",
    "    Конкретный декоратор\n",
    "    \"\"\"\n",
    "        \n",
    "    def _berserk(self, stats):\n",
    "        for char in [\"Strength\", \"Endurance\", \"Agility\", \"Luck\"]:\n",
    "            stats[char] += 7\n",
    "        for char in [\"Perception\", \"Charisma\", \"Intelligence\"]:\n",
    "            stats[char] -= 3\n",
    "        stats[\"HP\"] += 50\n",
    "        return stats\n",
    "        \n",
    "    def get_positive_effects(self):\n",
    "        positive_effects = self.base.get_positive_effects()\n",
    "        positive_effects.append(\"Berserk\")\n",
    "        return positive_effects\n",
    "    \n",
    "    def get_stats(self): # Возвращает итоговые характеристики после применения эффекта\n",
    "        stats = self.base.get_stats()\n",
    "        return self._berserk(stats)\n",
    "\n",
    "class Blessing(AbstractPositive):\n",
    "    \"\"\"\n",
    "    Конкретный декоратор\n",
    "    \"\"\"\n",
    "        \n",
    "    def _blessing(self, stats):\n",
    "        for char in self.base_characteristics:\n",
    "            stats[char] += 2\n",
    "        return stats\n",
    "            \n",
    "    def get_positive_effects(self):\n",
    "        positive_effects = self.base.get_positive_effects()\n",
    "        positive_effects.append(\"Blessing\")\n",
    "        return positive_effects\n",
    "    \n",
    "    def get_stats(self): # Возвращает итоговые характеристики после применения эффекта\n",
    "        stats = self.base.get_stats()\n",
    "        return self._blessing(stats)\n",
    "\n",
    "class Weakness(AbstractNegative):\n",
    "    \"\"\"\n",
    "    Конкретный декоратор\n",
    "    \"\"\"\n",
    "        \n",
    "    def _weakness(self, stats):\n",
    "        for char in [\"Strength\", \"Endurance\", \"Agility\"]:\n",
    "            stats[char] -= 4\n",
    "        return stats\n",
    "            \n",
    "    def get_negative_effects(self):\n",
    "        negative_effects = self.base.get_negative_effects()\n",
    "        negative_effects.append(\"Weakness\")\n",
    "        return negative_effects\n",
    "    \n",
    "    def get_stats(self): # Возвращает итоговые характеристики после применения эффекта\n",
    "        stats = self.base.get_stats()\n",
    "        return self._weakness(stats)\n",
    "\n",
    "class EvilEye(AbstractNegative):\n",
    "    \"\"\"\n",
    "    Конкретный декоратор\n",
    "    \"\"\"\n",
    "        \n",
    "    def _evil_eye(self, stats):\n",
    "        for char in [\"Luck\"]:\n",
    "            stats[char] -= 10\n",
    "        return stats\n",
    "            \n",
    "    def get_negative_effects(self):\n",
    "        negative_effects = self.base.get_negative_effects()\n",
    "        negative_effects.append(\"EvilEye\")\n",
    "        return negative_effects\n",
    "    \n",
    "    def get_stats(self): # Возвращает итоговые характеристики после применения эффекта\n",
    "        stats = self.base.get_stats()\n",
    "        return self._evil_eye(stats)\n",
    "    \n",
    "\n",
    "class Curse(AbstractNegative):\n",
    "    \"\"\"\n",
    "    Конкретный декоратор\n",
    "    \"\"\"\n",
    "        \n",
    "    def _curse(self, stats):\n",
    "        for char in self.base_characteristics:\n",
    "            stats[char] -= 2\n",
    "        return stats\n",
    "            \n",
    "    def get_negative_effects(self):\n",
    "        negative_effects = self.base.get_negative_effects()\n",
    "        negative_effects.append(\"Curse\")\n",
    "        return negative_effects\n",
    "    \n",
    "    def get_stats(self): # Возвращает итоговые характеристики после применения эффекта\n",
    "        stats = self.base.get_stats()\n",
    "        return self._curse(stats)"
   ]
  },
  {
   "cell_type": "code",
   "execution_count": 74,
   "metadata": {},
   "outputs": [],
   "source": [
    "hero = Hero()\n",
    "\n",
    "hero1 = Curse(hero)\n",
    "hero2 = EvilEye(hero1)\n",
    "hero3 = Berserk(hero2)\n",
    "hero4 = Weakness(hero3)"
   ]
  },
  {
   "cell_type": "code",
   "execution_count": 69,
   "metadata": {},
   "outputs": [
    {
     "data": {
      "text/plain": [
       "['Curse', 'EvilEye', 'Weakness']"
      ]
     },
     "execution_count": 69,
     "metadata": {},
     "output_type": "execute_result"
    }
   ],
   "source": [
    "hero4.get_negative_effects()"
   ]
  },
  {
   "cell_type": "code",
   "execution_count": 70,
   "metadata": {},
   "outputs": [
    {
     "data": {
      "text/plain": [
       "['Berserk']"
      ]
     },
     "execution_count": 70,
     "metadata": {},
     "output_type": "execute_result"
    }
   ],
   "source": [
    "hero4.get_positive_effects()"
   ]
  },
  {
   "cell_type": "code",
   "execution_count": 71,
   "metadata": {},
   "outputs": [],
   "source": [
    "hero3.base = hero3.base.base"
   ]
  },
  {
   "cell_type": "code",
   "execution_count": 75,
   "metadata": {},
   "outputs": [],
   "source": [
    "hero4.base = hero4.base.base"
   ]
  },
  {
   "cell_type": "code",
   "execution_count": 76,
   "metadata": {},
   "outputs": [
    {
     "data": {
      "text/plain": [
       "['Curse', 'EvilEye', 'Weakness']"
      ]
     },
     "execution_count": 76,
     "metadata": {},
     "output_type": "execute_result"
    }
   ],
   "source": [
    "hero4.get_negative_effects()"
   ]
  },
  {
   "cell_type": "code",
   "execution_count": 77,
   "metadata": {},
   "outputs": [
    {
     "data": {
      "text/plain": [
       "[]"
      ]
     },
     "execution_count": 77,
     "metadata": {},
     "output_type": "execute_result"
    }
   ],
   "source": [
    "hero4.get_positive_effects()"
   ]
  },
  {
   "cell_type": "code",
   "execution_count": null,
   "metadata": {},
   "outputs": [],
   "source": []
  }
 ],
 "metadata": {
  "kernelspec": {
   "display_name": "Python 3",
   "language": "python",
   "name": "python3"
  },
  "language_info": {
   "codemirror_mode": {
    "name": "ipython",
    "version": 3
   },
   "file_extension": ".py",
   "mimetype": "text/x-python",
   "name": "python",
   "nbconvert_exporter": "python",
   "pygments_lexer": "ipython3",
   "version": "3.7.1"
  }
 },
 "nbformat": 4,
 "nbformat_minor": 2
}
