{
 "cells": [
  {
   "cell_type": "markdown",
   "metadata": {},
   "source": [
    "# <center>Паттерн Наблюдатель"
   ]
  },
  {
   "cell_type": "markdown",
   "metadata": {},
   "source": [
    "Продолжая работу над игрой, вы добрались до системы достижений. Иногда игре нужно наградить игрока за то, что он достигает определенного результата в игре. Это может быть, например, прохождение всех заданий в игре, достижение определенного уровня, совершение какого-то сложного действия и т.д.\n",
    "\n",
    "У каждой игры есть движок и интерфейс пользователя. Это два компонента, которые работают параллельно и взаимодействуют друг с другом. Достижения генерируются движком игры, а отображаются пользовательским интерфейсом. Кроме того, на современных игровых площадках, таких как Steam, Google Play, также отображаются достижения, полученные игроком. Для этого применяется как раз паттерн Наблюдатель.\n",
    "\n",
    "У вас есть движок Engine, который может создавать уведомления о достижениях. Вам необходимо написать обертку над движком, которая будет иметь возможность подписывать наблюдателей и рассылать им уведомления, а также иерархию наблюдателей. В иерархию наблюдателей должны входить абстрактный наблюдатель, `AbstractObserver`, от которого унаследованы 2 наблюдателя `ShortNotificationPrinter` и `FullNotificationPrinter`. Первый из них составляет множество названий полученных достижений, второй составляет список достижений в том порядке, в котором они даны в системе. Имейте в виду, что каждое достижение должно быть учтено только **один** раз.\n",
    "\n",
    "Иерархия классов приведена на следующей UML диаграмме:\n",
    "\n"
   ]
  },
  {
   "cell_type": "markdown",
   "metadata": {},
   "source": [
    "<img src='images/observer_img.jpg'>"
   ]
  },
  {
   "cell_type": "markdown",
   "metadata": {},
   "source": [
    "Пример достижения, которое генерирует движок:"
   ]
  },
  {
   "cell_type": "code",
   "execution_count": 1,
   "metadata": {},
   "outputs": [
    {
     "data": {
      "text/plain": [
       "{'title': 'Покоритель', 'text': 'Дается при выполнении всех заданий в игре'}"
      ]
     },
     "execution_count": 1,
     "metadata": {},
     "output_type": "execute_result"
    }
   ],
   "source": [
    "{\"title\": \"Покоритель\", \"text\": \"Дается при выполнении всех заданий в игре\"}"
   ]
  },
  {
   "cell_type": "markdown",
   "metadata": {},
   "source": [
    "Метод `update` не должен возвращать никаких значений, он должен только изменять переменную `achievements`.\n",
    "\n",
    "Класс `Engine` реализовывать не нужно!"
   ]
  },
  {
   "cell_type": "code",
   "execution_count": 2,
   "metadata": {},
   "outputs": [],
   "source": [
    "from abc import ABC, abstractmethod"
   ]
  },
  {
   "cell_type": "code",
   "execution_count": 93,
   "metadata": {},
   "outputs": [],
   "source": [
    "class Engine:\n",
    "    pass"
   ]
  },
  {
   "cell_type": "code",
   "execution_count": 108,
   "metadata": {},
   "outputs": [],
   "source": [
    "class ObservableEngine(Engine):\n",
    "    \n",
    "    def __init__(self):\n",
    "        self.__subscribers = set()\n",
    "    \n",
    "    def subscribe(self, subscriber):\n",
    "        self.__subscribers.add(subscriber) # Для того чтобы подмисать пользователя, он добавляется во множество подписчиков\n",
    "        \n",
    "    def unsubscribe(self, subscriber):\n",
    "        self.__subscribers.remove(subscriber) # Удаление подписчика из списка\n",
    "        \n",
    "    def notify(self, message):\n",
    "        for subscriber in self.__subscribers:\n",
    "            subscriber.update(message) # Отправка уведомления всем подписчикам\n",
    "\n",
    "            \n",
    "class AbstractObserver(ABC):\n",
    "    \n",
    "    @abstractmethod\n",
    "    def update(self, message):\n",
    "        pass\n",
    "    \n",
    "class ShortNotificationPrinter(AbstractObserver):\n",
    "    def __init__(self):\n",
    "        self.achievements = set()\n",
    "        \n",
    "    def update(self, message):\n",
    "        self.achievements.add(message[\"title\"])\n",
    "\n",
    "class FullNotificationPrinter(AbstractObserver):\n",
    "    def __init__(self):\n",
    "        self.achievements = list()\n",
    "        \n",
    "    def update(self, message):\n",
    "        if message not in self.achievements:\n",
    "            self.achievements.append(message)"
   ]
  },
  {
   "cell_type": "code",
   "execution_count": 109,
   "metadata": {},
   "outputs": [],
   "source": [
    "observable = ObservableEngine()"
   ]
  },
  {
   "cell_type": "code",
   "execution_count": 110,
   "metadata": {},
   "outputs": [],
   "source": [
    "short_printer = ShortNotificationPrinter()"
   ]
  },
  {
   "cell_type": "code",
   "execution_count": 111,
   "metadata": {},
   "outputs": [],
   "source": [
    "full_printer = FullNotificationPrinter()"
   ]
  },
  {
   "cell_type": "code",
   "execution_count": 112,
   "metadata": {},
   "outputs": [],
   "source": [
    "observable.subscribe(short_printer)\n",
    "observable.subscribe(short_printer)\n",
    "observable.subscribe(full_printer)"
   ]
  },
  {
   "cell_type": "code",
   "execution_count": 113,
   "metadata": {},
   "outputs": [],
   "source": [
    "observable.notify({\"title\": \"Покоритель\", \"text\": \"Дается при выполнении всех заданий в игре\"})\n",
    "observable.notify({\"title\": \"Победитель\", \"text\": \"Дается при выполнении заданий в игре\"})\n",
    "observable.notify({\"title\": \"Покоритель\", \"text\": \"Дается при выполнении всех заданий в игре\"})\n",
    "observable.notify({\"title\": \"Вин\", \"text\": \"Дается в игре\"})"
   ]
  },
  {
   "cell_type": "code",
   "execution_count": 114,
   "metadata": {},
   "outputs": [
    {
     "data": {
      "text/plain": [
       "{'Вин', 'Победитель', 'Покоритель'}"
      ]
     },
     "execution_count": 114,
     "metadata": {},
     "output_type": "execute_result"
    }
   ],
   "source": [
    "short_printer.achievements"
   ]
  },
  {
   "cell_type": "code",
   "execution_count": 115,
   "metadata": {},
   "outputs": [
    {
     "data": {
      "text/plain": [
       "[{'title': 'Покоритель', 'text': 'Дается при выполнении всех заданий в игре'},\n",
       " {'title': 'Победитель', 'text': 'Дается при выполнении заданий в игре'},\n",
       " {'title': 'Вин', 'text': 'Дается в игре'}]"
      ]
     },
     "execution_count": 115,
     "metadata": {},
     "output_type": "execute_result"
    }
   ],
   "source": [
    "full_printer.achievements"
   ]
  }
 ],
 "metadata": {
  "kernelspec": {
   "display_name": "Python 3",
   "language": "python",
   "name": "python3"
  },
  "language_info": {
   "codemirror_mode": {
    "name": "ipython",
    "version": 3
   },
   "file_extension": ".py",
   "mimetype": "text/x-python",
   "name": "python",
   "nbconvert_exporter": "python",
   "pygments_lexer": "ipython3",
   "version": "3.7.1"
  }
 },
 "nbformat": 4,
 "nbformat_minor": 2
}
