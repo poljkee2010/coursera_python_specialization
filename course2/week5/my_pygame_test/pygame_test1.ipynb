{
 "cells": [
  {
   "cell_type": "code",
   "execution_count": 1,
   "metadata": {},
   "outputs": [
    {
     "name": "stdout",
     "output_type": "stream",
     "text": [
      "pygame 1.9.5\n",
      "Hello from the pygame community. https://www.pygame.org/contribute.html\n"
     ]
    }
   ],
   "source": [
    "import pygame"
   ]
  },
  {
   "cell_type": "code",
   "execution_count": 2,
   "metadata": {},
   "outputs": [
    {
     "ename": "KeyboardInterrupt",
     "evalue": "",
     "output_type": "error",
     "traceback": [
      "\u001b[1;31m---------------------------------------------------------------------------\u001b[0m",
      "\u001b[1;31mKeyboardInterrupt\u001b[0m                         Traceback (most recent call last)",
      "\u001b[1;32m<ipython-input-2-42656213b604>\u001b[0m in \u001b[0;36m<module>\u001b[1;34m\u001b[0m\n\u001b[0;32m     19\u001b[0m \u001b[1;33m\u001b[0m\u001b[0m\n\u001b[0;32m     20\u001b[0m     \u001b[1;31m# задержка\u001b[0m\u001b[1;33m\u001b[0m\u001b[1;33m\u001b[0m\u001b[1;33m\u001b[0m\u001b[0m\n\u001b[1;32m---> 21\u001b[1;33m     \u001b[0mclock\u001b[0m\u001b[1;33m.\u001b[0m\u001b[0mtick\u001b[0m\u001b[1;33m(\u001b[0m\u001b[0mFPS\u001b[0m\u001b[1;33m)\u001b[0m\u001b[1;33m\u001b[0m\u001b[1;33m\u001b[0m\u001b[0m\n\u001b[0m\u001b[0;32m     22\u001b[0m \u001b[1;33m\u001b[0m\u001b[0m\n\u001b[0;32m     23\u001b[0m     \u001b[1;31m# цикл обработки событий\u001b[0m\u001b[1;33m\u001b[0m\u001b[1;33m\u001b[0m\u001b[1;33m\u001b[0m\u001b[0m\n",
      "\u001b[1;31mKeyboardInterrupt\u001b[0m: "
     ]
    }
   ],
   "source": [
    "# здесь определяются константы, классы и функции\n",
    "FPS = 60\n",
    "\n",
    "# здесь происходит инициация, создание объектов и др.\n",
    "pygame.init()\n",
    "\n",
    "screen_size = (600, 400)\n",
    "\n",
    "sc = pygame.display.set_mode(screen_size, pygame.RESIZABLE)\n",
    "clock = pygame.time.Clock()\n",
    "\n",
    "# если надо до цикла отобразить объекты на экране\n",
    "pygame.draw.rect(sc, (255, 255, 255), (20, 20, 100, 75))\n",
    "\n",
    "pygame.display.update()\n",
    "\n",
    "# главный цикл\n",
    "while True:\n",
    "\n",
    "    # задержка\n",
    "    clock.tick(FPS)\n",
    "\n",
    "    # цикл обработки событий\n",
    "    for i in pygame.event.get():\n",
    "        if i.type == pygame.QUIT:\n",
    "            exit()\n",
    "\n",
    "    # --------\n",
    "    # изменение объектов и многое др.\n",
    "    \n",
    "    pygame.draw.rect(sc, (64, 128, 255), (150, 20, 100, 75), 8)\n",
    "    # --------\n",
    "\n",
    "    # обновление экрана\n",
    "    pygame.display.update()"
   ]
  },
  {
   "cell_type": "code",
   "execution_count": null,
   "metadata": {},
   "outputs": [],
   "source": [
    "pygame.draw.rect(sc, (255, 255, 255), (20, 20, 100, 75))"
   ]
  },
  {
   "cell_type": "code",
   "execution_count": 1,
   "metadata": {},
   "outputs": [
    {
     "name": "stdout",
     "output_type": "stream",
     "text": [
      "pygame 1.9.5\n",
      "Hello from the pygame community. https://www.pygame.org/contribute.html\n",
      "<Event(17-VideoExpose {})>\n",
      "<Event(16-VideoResize {'size': (300, 200), 'w': 300, 'h': 200})>\n",
      "<Event(1-ActiveEvent {'gain': 0, 'state': 1})>\n",
      "<Event(4-MouseMotion {'pos': (299, 199), 'rel': (300, 200), 'buttons': (0, 0, 0), 'window': None})>\n",
      "<Event(2-KeyDown {'unicode': 'g', 'key': 103, 'mod': 0, 'scancode': 34, 'window': None})>\n",
      "<Event(3-KeyUp {'key': 103, 'mod': 0, 'scancode': 34, 'window': None})>\n",
      "<Event(2-KeyDown {'unicode': 'g', 'key': 103, 'mod': 0, 'scancode': 34, 'window': None})>\n",
      "<Event(3-KeyUp {'key': 103, 'mod': 0, 'scancode': 34, 'window': None})>\n",
      "<Event(2-KeyDown {'unicode': 'v', 'key': 118, 'mod': 0, 'scancode': 47, 'window': None})>\n",
      "<Event(2-KeyDown {'unicode': 'g', 'key': 103, 'mod': 0, 'scancode': 34, 'window': None})>\n",
      "<Event(3-KeyUp {'key': 118, 'mod': 0, 'scancode': 47, 'window': None})>\n",
      "<Event(3-KeyUp {'key': 103, 'mod': 0, 'scancode': 34, 'window': None})>\n",
      "<Event(2-KeyDown {'unicode': 'g', 'key': 103, 'mod': 0, 'scancode': 34, 'window': None})>\n",
      "<Event(3-KeyUp {'key': 103, 'mod': 0, 'scancode': 34, 'window': None})>\n",
      "<Event(2-KeyDown {'unicode': 'g', 'key': 103, 'mod': 0, 'scancode': 34, 'window': None})>\n",
      "<Event(3-KeyUp {'key': 103, 'mod': 0, 'scancode': 34, 'window': None})>\n",
      "<Event(2-KeyDown {'unicode': 'f', 'key': 102, 'mod': 0, 'scancode': 33, 'window': None})>\n",
      "<Event(3-KeyUp {'key': 102, 'mod': 0, 'scancode': 33, 'window': None})>\n",
      "<Event(2-KeyDown {'unicode': '', 'key': 127, 'mod': 0, 'scancode': 83, 'window': None})>\n",
      "<Event(3-KeyUp {'key': 127, 'mod': 0, 'scancode': 83, 'window': None})>\n",
      "<Event(2-KeyDown {'unicode': '\\r', 'key': 13, 'mod': 0, 'scancode': 28, 'window': None})>\n",
      "<Event(3-KeyUp {'key': 13, 'mod': 0, 'scancode': 28, 'window': None})>\n",
      "<Event(2-KeyDown {'unicode': '\\x1b', 'key': 27, 'mod': 0, 'scancode': 1, 'window': None})>\n",
      "<Event(3-KeyUp {'key': 27, 'mod': 0, 'scancode': 1, 'window': None})>\n",
      "<Event(12-Quit {})>\n",
      "<Event(5-MouseButtonDown {'pos': (299, 199), 'button': 5, 'window': None})>\n",
      "<Event(6-MouseButtonUp {'pos': (299, 199), 'button': 5, 'window': None})>\n",
      "<Event(1-ActiveEvent {'gain': 1, 'state': 1})>\n",
      "<Event(4-MouseMotion {'pos': (292, 115), 'rel': (-7, -84), 'buttons': (0, 0, 0), 'window': None})>\n",
      "<Event(1-ActiveEvent {'gain': 0, 'state': 1})>\n",
      "<Event(12-Quit {})>\n",
      "<Event(1-ActiveEvent {'gain': 1, 'state': 1})>\n",
      "<Event(4-MouseMotion {'pos': (291, 104), 'rel': (-1, -11), 'buttons': (0, 0, 0), 'window': None})>\n",
      "<Event(4-MouseMotion {'pos': (299, 0), 'rel': (8, -104), 'buttons': (0, 0, 0), 'window': None})>\n",
      "<Event(1-ActiveEvent {'gain': 0, 'state': 1})>\n",
      "<Event(1-ActiveEvent {'gain': 0, 'state': 2})>\n",
      "<Event(1-ActiveEvent {'gain': 1, 'state': 6})>\n",
      "<Event(1-ActiveEvent {'gain': 1, 'state': 1})>\n",
      "<Event(4-MouseMotion {'pos': (239, 97), 'rel': (-60, 97), 'buttons': (0, 0, 0), 'window': None})>\n",
      "<Event(1-ActiveEvent {'gain': 0, 'state': 1})>\n",
      "<Event(12-Quit {})>\n",
      "<Event(2-KeyDown {'unicode': '\\x1b', 'key': 27, 'mod': 0, 'scancode': 1, 'window': None})>\n",
      "<Event(3-KeyUp {'key': 27, 'mod': 0, 'scancode': 1, 'window': None})>\n",
      "<Event(1-ActiveEvent {'gain': 0, 'state': 2})>\n"
     ]
    },
    {
     "ename": "KeyboardInterrupt",
     "evalue": "",
     "output_type": "error",
     "traceback": [
      "\u001b[1;31m---------------------------------------------------------------------------\u001b[0m",
      "\u001b[1;31mKeyboardInterrupt\u001b[0m                         Traceback (most recent call last)",
      "\u001b[1;32m<ipython-input-1-4d304fe520e0>\u001b[0m in \u001b[0;36m<module>\u001b[1;34m\u001b[0m\n\u001b[0;32m     11\u001b[0m \u001b[1;33m\u001b[0m\u001b[0m\n\u001b[0;32m     12\u001b[0m \u001b[1;32mwhile\u001b[0m \u001b[1;36m1\u001b[0m\u001b[1;33m:\u001b[0m\u001b[1;33m\u001b[0m\u001b[1;33m\u001b[0m\u001b[0m\n\u001b[1;32m---> 13\u001b[1;33m     \u001b[0mpygame\u001b[0m\u001b[1;33m.\u001b[0m\u001b[0mtime\u001b[0m\u001b[1;33m.\u001b[0m\u001b[0mdelay\u001b[0m\u001b[1;33m(\u001b[0m\u001b[1;36m1000\u001b[0m\u001b[1;33m)\u001b[0m\u001b[1;33m\u001b[0m\u001b[1;33m\u001b[0m\u001b[0m\n\u001b[0m\u001b[0;32m     14\u001b[0m     \u001b[1;32mfor\u001b[0m \u001b[0mi\u001b[0m \u001b[1;32min\u001b[0m \u001b[0mpygame\u001b[0m\u001b[1;33m.\u001b[0m\u001b[0mevent\u001b[0m\u001b[1;33m.\u001b[0m\u001b[0mget\u001b[0m\u001b[1;33m(\u001b[0m\u001b[1;33m)\u001b[0m\u001b[1;33m:\u001b[0m\u001b[1;33m\u001b[0m\u001b[1;33m\u001b[0m\u001b[0m\n\u001b[0;32m     15\u001b[0m         \u001b[0mprint\u001b[0m\u001b[1;33m(\u001b[0m\u001b[0mi\u001b[0m\u001b[1;33m)\u001b[0m\u001b[1;33m\u001b[0m\u001b[1;33m\u001b[0m\u001b[0m\n",
      "\u001b[1;31mKeyboardInterrupt\u001b[0m: "
     ]
    }
   ],
   "source": [
    "import pygame\n",
    " \n",
    "pygame.init()\n",
    " \n",
    "sc = pygame.display.set_mode((300, 200))\n",
    " \n",
    "# здесь будут рисоваться фигуры\n",
    "pygame.draw.rect(sc, (255, 255, 255), (20, 20, 100, 75))\n",
    " \n",
    "pygame.display.update()\n",
    " \n",
    "while 1:\n",
    "    pygame.time.delay(1000)\n",
    "    for i in pygame.event.get():\n",
    "        print(i)\n",
    "        if i.type == pygame.QUIT: exit()"
   ]
  },
  {
   "cell_type": "code",
   "execution_count": 2,
   "metadata": {},
   "outputs": [
    {
     "ename": "error",
     "evalue": "video system not initialized",
     "output_type": "error",
     "traceback": [
      "\u001b[1;31m---------------------------------------------------------------------------\u001b[0m",
      "\u001b[1;31merror\u001b[0m                                     Traceback (most recent call last)",
      "\u001b[1;32m<ipython-input-2-224e267fa99a>\u001b[0m in \u001b[0;36m<module>\u001b[1;34m\u001b[0m\n\u001b[1;32m----> 1\u001b[1;33m \u001b[0mpygame\u001b[0m\u001b[1;33m.\u001b[0m\u001b[0mevent\u001b[0m\u001b[1;33m.\u001b[0m\u001b[0mget\u001b[0m\u001b[1;33m(\u001b[0m\u001b[1;33m)\u001b[0m\u001b[1;33m\u001b[0m\u001b[1;33m\u001b[0m\u001b[0m\n\u001b[0m",
      "\u001b[1;31merror\u001b[0m: video system not initialized"
     ]
    }
   ],
   "source": [
    "pygame.event.get()"
   ]
  },
  {
   "cell_type": "code",
   "execution_count": null,
   "metadata": {},
   "outputs": [],
   "source": []
  }
 ],
 "metadata": {
  "kernelspec": {
   "display_name": "Python 3",
   "language": "python",
   "name": "python3"
  },
  "language_info": {
   "codemirror_mode": {
    "name": "ipython",
    "version": 3
   },
   "file_extension": ".py",
   "mimetype": "text/x-python",
   "name": "python",
   "nbconvert_exporter": "python",
   "pygments_lexer": "ipython3",
   "version": "3.7.3"
  }
 },
 "nbformat": 4,
 "nbformat_minor": 2
}
