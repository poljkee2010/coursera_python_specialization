{
 "cells": [
  {
   "cell_type": "code",
   "execution_count": 1,
   "metadata": {},
   "outputs": [],
   "source": [
    "from course2.week4.yaml_solution_my import *"
   ]
  },
  {
   "cell_type": "code",
   "execution_count": 2,
   "metadata": {},
   "outputs": [],
   "source": [
    "Levels = yaml.load('''levels:\n",
    "  - !easy_level {}\n",
    "  - !medium_level\n",
    "    enemy: ['rat']\n",
    "  - !hard_level\n",
    "    enemy: \n",
    "    - rat\n",
    "    - snake\n",
    "    - dragon\n",
    "    enemy_count: 10''')"
   ]
  },
  {
   "cell_type": "code",
   "execution_count": 3,
   "metadata": {},
   "outputs": [
    {
     "data": {
      "text/plain": [
       "{'levels': [{'map': <course2.week4.yaml_solution_my.EasyLevel.Map at 0x26953be6ef0>,\n",
       "   'obj': <course2.week4.yaml_solution_my.EasyLevel.Objects at 0x26953be6eb8>},\n",
       "  {'map': <course2.week4.yaml_solution_my.MediumLevel.Map at 0x26953bfc9e8>,\n",
       "   'obj': <course2.week4.yaml_solution_my.MediumLevel.Objects at 0x26953bfca20>},\n",
       "  {'map': <course2.week4.yaml_solution_my.HardLevel.Map at 0x26953bfc9b0>,\n",
       "   'obj': <course2.week4.yaml_solution_my.HardLevel.Objects at 0x26953bfc5f8>}]}"
      ]
     },
     "execution_count": 3,
     "metadata": {},
     "output_type": "execute_result"
    }
   ],
   "source": [
    "Levels"
   ]
  },
  {
   "cell_type": "code",
   "execution_count": 4,
   "metadata": {},
   "outputs": [],
   "source": [
    "_map = Levels[\"levels\"][1][\"map\"]"
   ]
  },
  {
   "cell_type": "code",
   "execution_count": 5,
   "metadata": {},
   "outputs": [
    {
     "data": {
      "text/plain": [
       "[[-1, -1, -1, -1, -1, -1, -1, -1],\n",
       " [-1, 0, 1, 0, 0, 0, 2, -1],\n",
       " [-1, 0, 2, 2, 2, 0, 2, -1],\n",
       " [-1, 1, 2, 0, 1, 0, 0, -1],\n",
       " [-1, 0, 1, 1, 0, 2, 1, -1],\n",
       " [-1, 0, 0, 1, 0, 1, 2, -1],\n",
       " [-1, 1, 1, 2, 0, 2, 1, -1],\n",
       " [-1, -1, -1, -1, -1, -1, -1, -1]]"
      ]
     },
     "execution_count": 5,
     "metadata": {},
     "output_type": "execute_result"
    }
   ],
   "source": [
    "_map.get_map()"
   ]
  },
  {
   "cell_type": "code",
   "execution_count": 6,
   "metadata": {},
   "outputs": [],
   "source": [
    "Levels = {'levels':[]}\n",
    "_map = EasyLevel.Map()\n",
    "_obj = EasyLevel.Objects()\n",
    "Levels['levels'].append({'map': _map, 'obj': _obj})\n",
    "\n",
    "_map = MediumLevel.Map()\n",
    "_obj = MediumLevel.Objects()\n",
    "_obj.config = {'enemy':['rat']}\n",
    "Levels['levels'].append({'map': _map, 'obj': _obj})\n",
    "\n",
    "_map = HardLevel.Map()\n",
    "_obj = HardLevel.Objects()\n",
    "_obj.config = {'enemy': ['rat', 'snake', 'dragon'], 'enemy_count': 10}\n",
    "Levels['levels'].append({'map': _map, 'obj': _obj})"
   ]
  },
  {
   "cell_type": "code",
   "execution_count": 7,
   "metadata": {},
   "outputs": [
    {
     "data": {
      "text/plain": [
       "{'levels': [{'map': <course2.week4.yaml_solution_my.EasyLevel.Map at 0x26953c36be0>,\n",
       "   'obj': <course2.week4.yaml_solution_my.EasyLevel.Objects at 0x26953c36c18>},\n",
       "  {'map': <course2.week4.yaml_solution_my.MediumLevel.Map at 0x26953c36c88>,\n",
       "   'obj': <course2.week4.yaml_solution_my.MediumLevel.Objects at 0x26953c36c50>},\n",
       "  {'map': <course2.week4.yaml_solution_my.HardLevel.Map at 0x26953c36cc0>,\n",
       "   'obj': <course2.week4.yaml_solution_my.HardLevel.Objects at 0x26953c36d30>}]}"
      ]
     },
     "execution_count": 7,
     "metadata": {},
     "output_type": "execute_result"
    }
   ],
   "source": [
    "Levels"
   ]
  },
  {
   "cell_type": "code",
   "execution_count": null,
   "metadata": {},
   "outputs": [],
   "source": []
  }
 ],
 "metadata": {
  "kernelspec": {
   "display_name": "Python 3",
   "language": "python",
   "name": "python3"
  },
  "language_info": {
   "codemirror_mode": {
    "name": "ipython",
    "version": 3
   },
   "file_extension": ".py",
   "mimetype": "text/x-python",
   "name": "python",
   "nbconvert_exporter": "python",
   "pygments_lexer": "ipython3",
   "version": "3.7.1"
  }
 },
 "nbformat": 4,
 "nbformat_minor": 2
}
