{
 "cells": [
  {
   "cell_type": "markdown",
   "metadata": {},
   "source": [
    "# <center>Chain of Responsibility"
   ]
  },
  {
   "cell_type": "markdown",
   "metadata": {},
   "source": [
    "Нам дан объект класса `SomeObject`, содержащего три поля: **integer_field**, **float_field** и **string_field**:"
   ]
  },
  {
   "cell_type": "code",
   "execution_count": 1,
   "metadata": {},
   "outputs": [],
   "source": [
    "class SomeObject:\n",
    "    def __init__(self):\n",
    "        self.integer_field = 0\n",
    "        self.float_field = 0.0\n",
    "        self.string_field = \"\""
   ]
  },
  {
   "cell_type": "markdown",
   "metadata": {},
   "source": [
    "Необходимо реализовать:\n",
    "\n",
    "- **`EventGet(<type>)`** создаёт событие получения данных соответствующего типа\n",
    "- **`EventSet(<value>)`** создаёт событие изменения поля типа **`type(<value>)`**\n",
    "    \n",
    "Необходимо реализовать классы **NullHandler**, **IntHandler**, **FloatHandler**, **StrHandler** так, чтобы можно было создать цепочку:"
   ]
  },
  {
   "cell_type": "markdown",
   "metadata": {},
   "source": [
    "`chain = IntHandler(FloatHandler(StrHandler(NullHandler())))`"
   ]
  },
  {
   "cell_type": "markdown",
   "metadata": {},
   "source": [
    "- **Chain.handle(obj, EventGet(int))** — вернуть значение **obj.integer_field**\n",
    "- **Chain.handle(obj, EventGet(str))** — вернуть значение **obj.string_field**\n",
    "- **Chain.handle(obj, EventGet(float))** — вернуть значение **obj.float_field**\n",
    "- **Chain.handle(obj, EventSet(1))** — установить значение **obj.integer_field =1**\n",
    "- **Chain.handle(obj, EventSet(1.1))** — установить значение **obj.float_field = 1.1**\n",
    "- **Chain.handle(obj, EventSet(\"str\"))** — установить значение **obj.string_field = \"str\"**"
   ]
  },
  {
   "cell_type": "code",
   "execution_count": 2,
   "metadata": {},
   "outputs": [],
   "source": [
    "class EventGet:\n",
    "    def __init__(self, kind):\n",
    "        self.kind = kind\n",
    "\n",
    "class EventSet:\n",
    "    def __init__(self, kind):\n",
    "        self.kind = kind\n",
    "\n",
    "class NullHandler:\n",
    "    def __init__(self , successor=None):\n",
    "        # передаём следующее звено\n",
    "        self.__successor = successor\n",
    "    def handle(self , char , event):  # обработчик\n",
    "        if self.__successor is not None:  # даём следующему\n",
    "            return self.__successor.handle(char, event)\n",
    "\n",
    "class IntHandler(NullHandler):\n",
    "    def handle(self , obj, event):\n",
    "        if event.kind == int:\n",
    "            return obj.integer_field\n",
    "        elif type(event.kind) == int:\n",
    "            obj.integer_field = event.kind\n",
    "        else:\n",
    "            print(\"Передаю обработку дальше\")\n",
    "            return super().handle(obj, event)\n",
    "\n",
    "class FloatHandler(NullHandler):\n",
    "    def handle(self , obj, event):\n",
    "        if event.kind == float:\n",
    "            return obj.float_field\n",
    "        elif type(event.kind) == float:\n",
    "            obj.float_field = event.kind\n",
    "        else:\n",
    "            print(\"Передаю обработку дальше\")\n",
    "            return super().handle(obj, event)\n",
    "\n",
    "class StrHandler(NullHandler):\n",
    "    def handle(self , obj, event):\n",
    "        if event.kind == str:\n",
    "            return obj.string_field\n",
    "        elif type(event.kind) == str:\n",
    "            obj.string_field = event.kind\n",
    "        else:\n",
    "            print(\"Передаю обработку дальше\")\n",
    "            return super().handle(obj, event)"
   ]
  },
  {
   "cell_type": "code",
   "execution_count": 34,
   "metadata": {},
   "outputs": [],
   "source": [
    "event = EventSet(str)"
   ]
  },
  {
   "cell_type": "code",
   "execution_count": 35,
   "metadata": {},
   "outputs": [
    {
     "data": {
      "text/plain": [
       "str"
      ]
     },
     "execution_count": 35,
     "metadata": {},
     "output_type": "execute_result"
    }
   ],
   "source": [
    "event.kind"
   ]
  },
  {
   "cell_type": "code",
   "execution_count": 36,
   "metadata": {},
   "outputs": [],
   "source": [
    "chain = IntHandler(FloatHandler(StrHandler(NullHandler())))"
   ]
  },
  {
   "cell_type": "code",
   "execution_count": 37,
   "metadata": {},
   "outputs": [],
   "source": [
    "obj = SomeObject()"
   ]
  },
  {
   "cell_type": "code",
   "execution_count": 38,
   "metadata": {},
   "outputs": [
    {
     "name": "stdout",
     "output_type": "stream",
     "text": [
      "Передаю обработку дальше\n",
      "Передаю обработку дальше\n"
     ]
    },
    {
     "data": {
      "text/plain": [
       "''"
      ]
     },
     "execution_count": 38,
     "metadata": {},
     "output_type": "execute_result"
    }
   ],
   "source": [
    "chain.handle(obj, event)"
   ]
  },
  {
   "cell_type": "code",
   "execution_count": null,
   "metadata": {},
   "outputs": [],
   "source": []
  }
 ],
 "metadata": {
  "kernelspec": {
   "display_name": "Python 3",
   "language": "python",
   "name": "python3"
  },
  "language_info": {
   "codemirror_mode": {
    "name": "ipython",
    "version": 3
   },
   "file_extension": ".py",
   "mimetype": "text/x-python",
   "name": "python",
   "nbconvert_exporter": "python",
   "pygments_lexer": "ipython3",
   "version": "3.7.3"
  }
 },
 "nbformat": 4,
 "nbformat_minor": 2
}
