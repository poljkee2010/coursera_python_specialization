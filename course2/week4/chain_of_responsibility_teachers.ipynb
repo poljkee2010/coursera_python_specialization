{
 "cells": [
  {
   "cell_type": "code",
   "execution_count": null,
   "metadata": {},
   "outputs": [],
   "source": [
    "E_INT, E_FLOAT, E_STR = \"INT\", \"FLOAT\", \"STR\"\n",
    "\n",
    "\n",
    "class EventGet:\n",
    "    def __init__(self, prop):\n",
    "        self.kind = {int:E_INT, float:E_FLOAT, str:E_STR}[prop];\n",
    "        self.prop = None;\n",
    "\n",
    "\n",
    "class EventSet:\n",
    "    def __init__(self, prop):\n",
    "        self.kind = {int:E_INT, float:E_FLOAT, str:E_STR}[type(prop)];\n",
    "        self.prop = prop;\n",
    "\n",
    "\n",
    "class NullHandler:\n",
    "    def __init__(self, successor=None):\n",
    "        self.__successor = successor\n",
    "\n",
    "    def handle(self, obj, event):\n",
    "        if self.__successor is not None:\n",
    "            return self.__successor.handle(obj, event)\n",
    "\n",
    "\n",
    "class IntHandler(NullHandler):\n",
    "    def handle(self, obj, event):\n",
    "        if event.kind == E_INT:\n",
    "            if event.prop is None:\n",
    "                return obj.integer_field\n",
    "            else:\n",
    "                obj.integer_field = event.prop;\n",
    "        else:\n",
    "            return super().handle(obj, event)\n",
    "\n",
    "\n",
    "class StrHandler(NullHandler):\n",
    "    def handle(self, obj, event):\n",
    "        if event.kind == E_STR:\n",
    "            if event.prop is None:\n",
    "                return obj.string_field\n",
    "            else:\n",
    "                obj.string_field = event.prop;\n",
    "        else:\n",
    "            return super().handle(obj, event)\n",
    "\n",
    "        \n",
    "class FloatHandler(NullHandler):\n",
    "    def handle(self, obj, event):\n",
    "        if event.kind == E_FLOAT:\n",
    "            if event.prop is None:\n",
    "                return obj.float_field\n",
    "            else:\n",
    "                obj.float_field = event.prop;\n",
    "        else:\n",
    "            return super().handle(obj, event)"
   ]
  }
 ],
 "metadata": {
  "kernelspec": {
   "display_name": "Python 3",
   "language": "python",
   "name": "python3"
  },
  "language_info": {
   "codemirror_mode": {
    "name": "ipython",
    "version": 3
   },
   "file_extension": ".py",
   "mimetype": "text/x-python",
   "name": "python",
   "nbconvert_exporter": "python",
   "pygments_lexer": "ipython3",
   "version": "3.7.3"
  }
 },
 "nbformat": 4,
 "nbformat_minor": 2
}
