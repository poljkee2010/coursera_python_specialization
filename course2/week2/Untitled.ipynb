{
 "cells": [
  {
   "cell_type": "code",
   "execution_count": 1,
   "metadata": {},
   "outputs": [],
   "source": [
    "import math\n",
    "import numpy as np"
   ]
  },
  {
   "cell_type": "code",
   "execution_count": 31,
   "metadata": {},
   "outputs": [],
   "source": [
    "class Vec2d:\n",
    "    \"\"\"\n",
    "    The class of 2-d vectors\n",
    "    \"\"\"\n",
    "    def __init__(self, vector):\n",
    "        self.vector = tuple(vector)\n",
    "\n",
    "    def __str__(self):\n",
    "        return f\"Vec2d({self.vector[0]}, {self.vector[1]})\"\n",
    "    \n",
    "    def __repr__(self):\n",
    "        return f\"Vec2d({self.vector[0]}, {self.vector[1]})\"\n",
    "        \"\"\"\n",
    "        sum of 2th vectors\n",
    "        :param other:\n",
    "        :return:\n",
    "        \"\"\"\n",
    "        x = self.vector\n",
    "        y = other.vector\n",
    "        return Vec2d((x[0] + y[0], x[1] + y[1]))\n",
    "    \n",
    "    def __add__(self, other):\n",
    "        \"\"\"\n",
    "        sum of 2th vectors\n",
    "        :param other:\n",
    "        :return:\n",
    "        \"\"\"\n",
    "        x = self.vector\n",
    "        y = other.vector\n",
    "        return Vec2d((x[0] + y[0], x[1] + y[1]))\n",
    "\n",
    "    def __sub__(self, other):\n",
    "        \"\"\"\n",
    "        разность двух векторов\n",
    "\n",
    "        :param other:\n",
    "        :return:\n",
    "        \"\"\"\n",
    "        x = self.vector\n",
    "        y = other.vector\n",
    "        return Vec2d((x[0] - y[0], x[1] - y[1]))\n",
    "\n",
    "    def __mul__(self, other):\n",
    "        x = self.vector\n",
    "\n",
    "        if isinstance(other, (int, float)):\n",
    "            k = other\n",
    "            return Vec2d((x[0] * k, x[1] * k))\n",
    "        else:\n",
    "            y = other.vector\n",
    "            return Vec2d((x[0] * y[0], x[1] * y[1]))\n",
    "\n",
    "    def __len__(self):\n",
    "        x = self.vector\n",
    "        \"\"\"\n",
    "        Примечание:\n",
    "        пришлось добавить int в return, иначе будет выбрасываться исключение, поскольку этот магический метод\n",
    "        изначально должен давать число элементов в экземпляре класса и быть только целым. Возможно, это некий\n",
    "        демонстрационный пример. Похоже, имелось ввиду записать без int.\n",
    "        Оставил так, поскольку все равно это не используется.\n",
    "        Думаю, лучше было бы сделать его не магическим, а просто len() и вызывать как a.len()\n",
    "        (а не len(a), как просят).\n",
    "        А вообще этот момент в задании какой-то странноватый :)\n",
    "        \"\"\"\n",
    "        return int(math.sqrt(x[0] * x[0] + x[1] * x[1]))\n",
    "\n",
    "    def len(self):\n",
    "        \"\"\"\n",
    "        Length of the vector\n",
    "        :return: float\n",
    "        \"\"\"\n",
    "        x = self.vector\n",
    "        return math.sqrt(x[0] * x[0] + x[1] * x[1])\n",
    "\n",
    "    def int_pair(self):\n",
    "        x = self.vector\n",
    "        return int(x[0]), int(x[1])\n",
    "\n",
    "    def distance(self, other):   \n",
    "        return (self - other).len()\n"
   ]
  },
  {
   "cell_type": "code",
   "execution_count": 32,
   "metadata": {},
   "outputs": [],
   "source": [
    "x = Vec2d([1, 2])"
   ]
  },
  {
   "cell_type": "code",
   "execution_count": 33,
   "metadata": {},
   "outputs": [
    {
     "data": {
      "text/plain": [
       "Vec2d(3, 4)"
      ]
     },
     "execution_count": 33,
     "metadata": {},
     "output_type": "execute_result"
    }
   ],
   "source": [
    "y = Vec2d((3, 4))\n",
    "y"
   ]
  },
  {
   "cell_type": "code",
   "execution_count": 34,
   "metadata": {},
   "outputs": [],
   "source": [
    "z = x + y"
   ]
  },
  {
   "cell_type": "code",
   "execution_count": 35,
   "metadata": {},
   "outputs": [
    {
     "data": {
      "text/plain": [
       "(4, 6)"
      ]
     },
     "execution_count": 35,
     "metadata": {},
     "output_type": "execute_result"
    }
   ],
   "source": [
    "z.vector"
   ]
  },
  {
   "cell_type": "code",
   "execution_count": 36,
   "metadata": {},
   "outputs": [
    {
     "data": {
      "text/plain": [
       "Vec2d(16.32, 32.64)"
      ]
     },
     "execution_count": 36,
     "metadata": {},
     "output_type": "execute_result"
    }
   ],
   "source": [
    "h = z * y * 1.36\n",
    "h"
   ]
  },
  {
   "cell_type": "code",
   "execution_count": 37,
   "metadata": {},
   "outputs": [
    {
     "data": {
      "text/plain": [
       "(16.32, 32.64)"
      ]
     },
     "execution_count": 37,
     "metadata": {},
     "output_type": "execute_result"
    }
   ],
   "source": [
    "h.vector"
   ]
  },
  {
   "cell_type": "code",
   "execution_count": 38,
   "metadata": {},
   "outputs": [
    {
     "data": {
      "text/plain": [
       "(16, 32)"
      ]
     },
     "execution_count": 38,
     "metadata": {},
     "output_type": "execute_result"
    }
   ],
   "source": [
    "h.int_pair()"
   ]
  },
  {
   "cell_type": "code",
   "execution_count": 39,
   "metadata": {},
   "outputs": [],
   "source": [
    "ll = [1, 2, 3]"
   ]
  },
  {
   "cell_type": "code",
   "execution_count": 46,
   "metadata": {},
   "outputs": [
    {
     "data": {
      "text/plain": [
       "[]"
      ]
     },
     "execution_count": 46,
     "metadata": {},
     "output_type": "execute_result"
    }
   ],
   "source": [
    "ll.pop(0)\n",
    "ll"
   ]
  },
  {
   "cell_type": "code",
   "execution_count": 41,
   "metadata": {},
   "outputs": [
    {
     "data": {
      "text/plain": [
       "2"
      ]
     },
     "execution_count": 41,
     "metadata": {},
     "output_type": "execute_result"
    }
   ],
   "source": [
    "len(x)"
   ]
  },
  {
   "cell_type": "code",
   "execution_count": 42,
   "metadata": {},
   "outputs": [
    {
     "data": {
      "text/plain": [
       "2.23606797749979"
      ]
     },
     "execution_count": 42,
     "metadata": {},
     "output_type": "execute_result"
    }
   ],
   "source": [
    "x.len()"
   ]
  },
  {
   "cell_type": "code",
   "execution_count": 43,
   "metadata": {},
   "outputs": [
    {
     "data": {
      "text/plain": [
       "2.8284271247461903"
      ]
     },
     "execution_count": 43,
     "metadata": {},
     "output_type": "execute_result"
    }
   ],
   "source": [
    "x.distance(y)"
   ]
  },
  {
   "cell_type": "code",
   "execution_count": 47,
   "metadata": {},
   "outputs": [],
   "source": [
    "d = None"
   ]
  },
  {
   "cell_type": "code",
   "execution_count": 52,
   "metadata": {},
   "outputs": [
    {
     "data": {
      "text/plain": [
       "False"
      ]
     },
     "execution_count": 52,
     "metadata": {},
     "output_type": "execute_result"
    }
   ],
   "source": [
    "d is not None"
   ]
  },
  {
   "cell_type": "code",
   "execution_count": null,
   "metadata": {},
   "outputs": [],
   "source": []
  }
 ],
 "metadata": {
  "kernelspec": {
   "display_name": "Python 3",
   "language": "python",
   "name": "python3"
  },
  "language_info": {
   "codemirror_mode": {
    "name": "ipython",
    "version": 3
   },
   "file_extension": ".py",
   "mimetype": "text/x-python",
   "name": "python",
   "nbconvert_exporter": "python",
   "pygments_lexer": "ipython3",
   "version": "3.7.1"
  }
 },
 "nbformat": 4,
 "nbformat_minor": 2
}
