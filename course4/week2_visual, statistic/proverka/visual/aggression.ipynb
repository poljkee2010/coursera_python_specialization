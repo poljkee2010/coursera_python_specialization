{
 "cells": [
  {
   "cell_type": "code",
   "execution_count": 1,
   "metadata": {},
   "outputs": [],
   "source": [
    "# какие значения агрессивности у футболистов?\n",
    "import pandas as pd\n",
    "import matplotlib.pyplot as plt"
   ]
  },
  {
   "cell_type": "code",
   "execution_count": 2,
   "metadata": {
    "collapsed": true,
    "jupyter": {
     "outputs_hidden": true
    }
   },
   "outputs": [
    {
     "name": "stderr",
     "output_type": "stream",
     "text": [
      "/srv/conda/envs/notebook/lib/python3.7/site-packages/IPython/core/interactiveshell.py:3049: DtypeWarning: Columns (23,35) have mixed types. Specify dtype option on import or set low_memory=False.\n",
      "  interactivity=interactivity, compiler=compiler, result=result)\n"
     ]
    },
    {
     "data": {
      "text/plain": [
       "70     496\n",
       "68     464\n",
       "65     463\n",
       "60     453\n",
       "59     422\n",
       "58     416\n",
       "67     409\n",
       "63     409\n",
       "64     407\n",
       "55     405\n",
       "66     402\n",
       "62     394\n",
       "72     389\n",
       "69     389\n",
       "71     373\n",
       "61     363\n",
       "73     356\n",
       "74     353\n",
       "75     348\n",
       "56     342\n",
       "57     329\n",
       "52     312\n",
       "53     308\n",
       "54     301\n",
       "49     288\n",
       "48     287\n",
       "50     277\n",
       "76     270\n",
       "45     262\n",
       "77     257\n",
       "      ... \n",
       "25     139\n",
       "37     130\n",
       "83     128\n",
       "23     123\n",
       "24     119\n",
       "21     110\n",
       "84     108\n",
       "20     105\n",
       "19      97\n",
       "85      96\n",
       "18      91\n",
       "17      77\n",
       "16      65\n",
       "86      65\n",
       "88      58\n",
       "87      57\n",
       "90      35\n",
       "89      30\n",
       "15      23\n",
       "92      16\n",
       "13      12\n",
       "91      12\n",
       "12      11\n",
       "93       9\n",
       "14       8\n",
       "11       5\n",
       "94       5\n",
       "96       3\n",
       "106      1\n",
       "95       1\n",
       "Name: Aggression, Length: 87, dtype: int64"
      ]
     },
     "execution_count": 2,
     "metadata": {},
     "output_type": "execute_result"
    }
   ],
   "source": [
    "df=pd.read_csv('dataset.csv')"
   ]
  },
  {
   "cell_type": "code",
   "execution_count": 8,
   "metadata": {},
   "outputs": [],
   "source": [
    "df.Aggression=df.Aggression.apply(eval)"
   ]
  },
  {
   "cell_type": "code",
   "execution_count": 11,
   "metadata": {},
   "outputs": [],
   "source": [
    "%matplotlib inline"
   ]
  },
  {
   "cell_type": "code",
   "execution_count": 12,
   "metadata": {},
   "outputs": [
    {
     "data": {
      "text/plain": [
       "<matplotlib.axes._subplots.AxesSubplot at 0x7f51a17f0668>"
      ]
     },
     "execution_count": 12,
     "metadata": {},
     "output_type": "execute_result"
    },
    {
     "data": {
      "image/png": "[encoded data removed]",
      "text/plain": [
       "<Figure size 432x288 with 1 Axes>"
      ]
     },
     "metadata": {
      "needs_background": "light"
     },
     "output_type": "display_data"
    }
   ],
   "source": [
    "df.Aggression.hist()"
   ]
  },
  {
   "cell_type": "code",
   "execution_count": 14,
   "metadata": {},
   "outputs": [],
   "source": [
    "data1=df.Aggression"
   ]
  },
  {
   "cell_type": "code",
   "execution_count": 21,
   "metadata": {},
   "outputs": [
    {
     "data": {
      "text/plain": [
       "Text(0, 0.5, 'кол-во футболистов')"
      ]
     },
     "execution_count": 21,
     "metadata": {},
     "output_type": "execute_result"
    },
    {
     "data": {
      "image/png": "[encoded data removed]",
      "text/plain": [
       "<Figure size 432x288 with 1 Axes>"
      ]
     },
     "metadata": {
      "needs_background": "light"
     },
     "output_type": "display_data"
    }
   ],
   "source": [
    "plt.hist(data1)\n",
    "plt.title('Гистограмма агрессивности всех футболистов',fontsize=20)\n",
    "plt.xlabel('Aggression',fontsize=15)\n",
    "plt.ylabel('кол-во футболистов',fontsize=15)"
   ]
  },
  {
   "cell_type": "code",
   "execution_count": null,
   "metadata": {},
   "outputs": [],
   "source": []
  }
 ],
 "metadata": {
  "kernelspec": {
   "display_name": "Python 3",
   "language": "python",
   "name": "python3"
  },
  "language_info": {
   "codemirror_mode": {
    "name": "ipython",
    "version": 3
   },
   "file_extension": ".py",
   "mimetype": "text/x-python",
   "name": "python",
   "nbconvert_exporter": "python",
   "pygments_lexer": "ipython3",
   "version": "3.7.3"
  }
 },
 "nbformat": 4,
 "nbformat_minor": 4
}
