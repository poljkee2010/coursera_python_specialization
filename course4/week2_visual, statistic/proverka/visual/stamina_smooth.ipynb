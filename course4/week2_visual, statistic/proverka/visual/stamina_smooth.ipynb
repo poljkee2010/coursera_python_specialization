{
 "cells": [
  {
   "cell_type": "code",
   "execution_count": 6,
   "metadata": {},
   "outputs": [
    {
     "name": "stderr",
     "output_type": "stream",
     "text": [
      "/srv/conda/envs/notebook/lib/python3.7/site-packages/IPython/core/interactiveshell.py:3049: DtypeWarning: Columns (23,35) have mixed types. Specify dtype option on import or set low_memory=False.\n",
      "  interactivity=interactivity, compiler=compiler, result=result)\n"
     ]
    },
    {
     "data": {
      "image/png": "[encoded data removed]",
      "text/plain": [
       "<Figure size 432x288 with 1 Axes>"
      ]
     },
     "metadata": {
      "needs_background": "light"
     },
     "output_type": "display_data"
    }
   ],
   "source": [
    "#каковы особенности распределения выносливости футболистов?\n",
    "#получившийся график плохочитаем из-за его рваности, поэтому он сглажен\n",
    "\n",
    "import pandas as pd\n",
    "import matplotlib.pyplot as plt\n",
    "df=pd.read_csv('dataset.csv')\n",
    "%matplotlib inline\n",
    "\n",
    "aggr=df['Stamina'].apply(lambda x: eval(x))\n",
    "\n",
    "percent=aggr.value_counts().divide(179,81).sort_index().values #сглаживание графика\n",
    "percent=percent.tolist()\n",
    "percent_filt=[]\n",
    "percent_filt.append(percent[0])\n",
    "percent_filt+=percent\n",
    "percent_filt.append(percent[-1])\n",
    "percent_filt_3=[]\n",
    "\n",
    "for i in range(len(percent_filt)-2):\n",
    "    percent_filt_3.append((percent_filt[i]+percent_filt[i+1]+percent_filt[i+2])/3)\n",
    "    #devide(17981) - перевод вертикальной шкалы в проценты(всего 17981 записей)\n",
    "\n",
    "aggr=df['Stamina'].apply(lambda x: eval(x))\n",
    "aggr.value_counts(sort=True).index\n",
    "aggr.value_counts(sort=True).values\n",
    "plt.plot(aggr.value_counts().divide(179,81).sort_index().index,percent_filt_3)\n",
    "plt.xlabel('Stamina')\n",
    "plt.ylabel('Процент футболистов')\n",
    "plt.title('Распределение выносливости футболистов')\n",
    "plt.show()"
   ]
  },
  {
   "cell_type": "code",
   "execution_count": 5,
   "metadata": {},
   "outputs": [
    {
     "data": {
      "text/plain": [
       "<bound method IndexOpsMixin.value_counts of 0        92\n",
       "1        73\n",
       "2        78\n",
       "3        89\n",
       "4        44\n",
       "5        79\n",
       "6        40\n",
       "7        79\n",
       "8        77\n",
       "9        72\n",
       "10       84\n",
       "11       87\n",
       "12       38\n",
       "13       85\n",
       "14       82\n",
       "15       76\n",
       "16       74\n",
       "17       68\n",
       "18       39\n",
       "19       83\n",
       "20       41\n",
       "21       76\n",
       "22       75\n",
       "23       79\n",
       "24       73\n",
       "25       74\n",
       "26       67\n",
       "27       66\n",
       "28       69\n",
       "29       41\n",
       "         ..\n",
       "17951    33\n",
       "17952    61\n",
       "17953    60\n",
       "17954    48\n",
       "17955    40\n",
       "17956    57\n",
       "17957    51\n",
       "17958    48\n",
       "17959    64\n",
       "17960    38\n",
       "17961    62\n",
       "17962    62\n",
       "17963    42\n",
       "17964    44\n",
       "17965    59\n",
       "17966    37\n",
       "17967    60\n",
       "17968    59\n",
       "17969    55\n",
       "17970    61\n",
       "17971    53\n",
       "17972    52\n",
       "17973    55\n",
       "17974    52\n",
       "17975    30\n",
       "17976    28\n",
       "17977    32\n",
       "17978    33\n",
       "17979    49\n",
       "17980    55\n",
       "Name: Stamina, Length: 17981, dtype: object>"
      ]
     },
     "execution_count": 5,
     "metadata": {},
     "output_type": "execute_result"
    }
   ],
   "source": [
    "df.Stamina.value_counts"
   ]
  },
  {
   "cell_type": "code",
   "execution_count": null,
   "metadata": {},
   "outputs": [],
   "source": []
  }
 ],
 "metadata": {
  "kernelspec": {
   "display_name": "Python 3",
   "language": "python",
   "name": "python3"
  },
  "language_info": {
   "codemirror_mode": {
    "name": "ipython",
    "version": 3
   },
   "file_extension": ".py",
   "mimetype": "text/x-python",
   "name": "python",
   "nbconvert_exporter": "python",
   "pygments_lexer": "ipython3",
   "version": "3.7.3"
  }
 },
 "nbformat": 4,
 "nbformat_minor": 4
}
