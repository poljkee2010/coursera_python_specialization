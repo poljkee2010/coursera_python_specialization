{
 "cells": [
  {
   "cell_type": "markdown",
   "metadata": {
    "colab_type": "text",
    "id": "40e2zXxujMXd"
   },
   "source": [
    "# 1. Логистическая регрессия"
   ]
  },
  {
   "cell_type": "code",
   "execution_count": 3,
   "metadata": {
    "colab": {
     "base_uri": "https://localhost:8080/",
     "height": 253
    },
    "colab_type": "code",
    "id": "SMqqpxUIkm2z",
    "outputId": "4aac32ba-8ea3-432d-c252-07218f53e4b5"
   },
   "outputs": [
    {
     "data": {
      "text/html": [
       "<div>\n",
       "<style scoped>\n",
       "    .dataframe tbody tr th:only-of-type {\n",
       "        vertical-align: middle;\n",
       "    }\n",
       "\n",
       "    .dataframe tbody tr th {\n",
       "        vertical-align: top;\n",
       "    }\n",
       "\n",
       "    .dataframe thead th {\n",
       "        text-align: right;\n",
       "    }\n",
       "</style>\n",
       "<table border=\"1\" class=\"dataframe\">\n",
       "  <thead>\n",
       "    <tr style=\"text-align: right;\">\n",
       "      <th></th>\n",
       "      <th>label</th>\n",
       "      <th>pixel1</th>\n",
       "      <th>pixel2</th>\n",
       "      <th>pixel3</th>\n",
       "      <th>pixel4</th>\n",
       "      <th>pixel5</th>\n",
       "      <th>pixel6</th>\n",
       "      <th>pixel7</th>\n",
       "      <th>pixel8</th>\n",
       "      <th>pixel9</th>\n",
       "      <th>pixel10</th>\n",
       "      <th>pixel11</th>\n",
       "      <th>pixel12</th>\n",
       "      <th>pixel13</th>\n",
       "      <th>pixel14</th>\n",
       "      <th>pixel15</th>\n",
       "      <th>pixel16</th>\n",
       "      <th>pixel17</th>\n",
       "      <th>pixel18</th>\n",
       "      <th>pixel19</th>\n",
       "      <th>pixel20</th>\n",
       "      <th>pixel21</th>\n",
       "      <th>pixel22</th>\n",
       "      <th>pixel23</th>\n",
       "      <th>pixel24</th>\n",
       "      <th>pixel25</th>\n",
       "      <th>pixel26</th>\n",
       "      <th>pixel27</th>\n",
       "      <th>pixel28</th>\n",
       "      <th>pixel29</th>\n",
       "      <th>pixel30</th>\n",
       "      <th>pixel31</th>\n",
       "      <th>pixel32</th>\n",
       "      <th>pixel33</th>\n",
       "      <th>pixel34</th>\n",
       "      <th>pixel35</th>\n",
       "      <th>pixel36</th>\n",
       "      <th>pixel37</th>\n",
       "      <th>pixel38</th>\n",
       "      <th>pixel39</th>\n",
       "      <th>...</th>\n",
       "      <th>pixel745</th>\n",
       "      <th>pixel746</th>\n",
       "      <th>pixel747</th>\n",
       "      <th>pixel748</th>\n",
       "      <th>pixel749</th>\n",
       "      <th>pixel750</th>\n",
       "      <th>pixel751</th>\n",
       "      <th>pixel752</th>\n",
       "      <th>pixel753</th>\n",
       "      <th>pixel754</th>\n",
       "      <th>pixel755</th>\n",
       "      <th>pixel756</th>\n",
       "      <th>pixel757</th>\n",
       "      <th>pixel758</th>\n",
       "      <th>pixel759</th>\n",
       "      <th>pixel760</th>\n",
       "      <th>pixel761</th>\n",
       "      <th>pixel762</th>\n",
       "      <th>pixel763</th>\n",
       "      <th>pixel764</th>\n",
       "      <th>pixel765</th>\n",
       "      <th>pixel766</th>\n",
       "      <th>pixel767</th>\n",
       "      <th>pixel768</th>\n",
       "      <th>pixel769</th>\n",
       "      <th>pixel770</th>\n",
       "      <th>pixel771</th>\n",
       "      <th>pixel772</th>\n",
       "      <th>pixel773</th>\n",
       "      <th>pixel774</th>\n",
       "      <th>pixel775</th>\n",
       "      <th>pixel776</th>\n",
       "      <th>pixel777</th>\n",
       "      <th>pixel778</th>\n",
       "      <th>pixel779</th>\n",
       "      <th>pixel780</th>\n",
       "      <th>pixel781</th>\n",
       "      <th>pixel782</th>\n",
       "      <th>pixel783</th>\n",
       "      <th>pixel784</th>\n",
       "    </tr>\n",
       "  </thead>\n",
       "  <tbody>\n",
       "    <tr>\n",
       "      <th>0</th>\n",
       "      <td>2</td>\n",
       "      <td>0</td>\n",
       "      <td>0</td>\n",
       "      <td>0</td>\n",
       "      <td>0</td>\n",
       "      <td>0</td>\n",
       "      <td>0</td>\n",
       "      <td>0</td>\n",
       "      <td>0</td>\n",
       "      <td>0</td>\n",
       "      <td>0</td>\n",
       "      <td>0</td>\n",
       "      <td>0</td>\n",
       "      <td>0</td>\n",
       "      <td>0</td>\n",
       "      <td>0</td>\n",
       "      <td>0</td>\n",
       "      <td>0</td>\n",
       "      <td>0</td>\n",
       "      <td>0</td>\n",
       "      <td>0</td>\n",
       "      <td>0</td>\n",
       "      <td>0</td>\n",
       "      <td>0</td>\n",
       "      <td>0</td>\n",
       "      <td>0</td>\n",
       "      <td>0</td>\n",
       "      <td>0</td>\n",
       "      <td>0</td>\n",
       "      <td>0</td>\n",
       "      <td>0</td>\n",
       "      <td>0</td>\n",
       "      <td>0</td>\n",
       "      <td>0</td>\n",
       "      <td>0</td>\n",
       "      <td>0</td>\n",
       "      <td>0</td>\n",
       "      <td>0</td>\n",
       "      <td>0</td>\n",
       "      <td>0</td>\n",
       "      <td>...</td>\n",
       "      <td>0</td>\n",
       "      <td>0</td>\n",
       "      <td>0</td>\n",
       "      <td>0</td>\n",
       "      <td>0</td>\n",
       "      <td>0</td>\n",
       "      <td>0</td>\n",
       "      <td>0</td>\n",
       "      <td>0</td>\n",
       "      <td>0</td>\n",
       "      <td>0</td>\n",
       "      <td>0</td>\n",
       "      <td>0</td>\n",
       "      <td>0</td>\n",
       "      <td>0</td>\n",
       "      <td>0</td>\n",
       "      <td>0</td>\n",
       "      <td>0</td>\n",
       "      <td>0</td>\n",
       "      <td>0</td>\n",
       "      <td>0</td>\n",
       "      <td>0</td>\n",
       "      <td>0</td>\n",
       "      <td>0</td>\n",
       "      <td>0</td>\n",
       "      <td>0</td>\n",
       "      <td>0</td>\n",
       "      <td>0</td>\n",
       "      <td>0</td>\n",
       "      <td>0</td>\n",
       "      <td>0</td>\n",
       "      <td>0</td>\n",
       "      <td>0</td>\n",
       "      <td>0</td>\n",
       "      <td>0</td>\n",
       "      <td>0</td>\n",
       "      <td>0</td>\n",
       "      <td>0</td>\n",
       "      <td>0</td>\n",
       "      <td>0</td>\n",
       "    </tr>\n",
       "    <tr>\n",
       "      <th>1</th>\n",
       "      <td>9</td>\n",
       "      <td>0</td>\n",
       "      <td>0</td>\n",
       "      <td>0</td>\n",
       "      <td>0</td>\n",
       "      <td>0</td>\n",
       "      <td>0</td>\n",
       "      <td>0</td>\n",
       "      <td>0</td>\n",
       "      <td>0</td>\n",
       "      <td>0</td>\n",
       "      <td>0</td>\n",
       "      <td>0</td>\n",
       "      <td>0</td>\n",
       "      <td>0</td>\n",
       "      <td>0</td>\n",
       "      <td>0</td>\n",
       "      <td>0</td>\n",
       "      <td>0</td>\n",
       "      <td>0</td>\n",
       "      <td>0</td>\n",
       "      <td>0</td>\n",
       "      <td>0</td>\n",
       "      <td>0</td>\n",
       "      <td>0</td>\n",
       "      <td>0</td>\n",
       "      <td>0</td>\n",
       "      <td>0</td>\n",
       "      <td>0</td>\n",
       "      <td>0</td>\n",
       "      <td>0</td>\n",
       "      <td>0</td>\n",
       "      <td>0</td>\n",
       "      <td>0</td>\n",
       "      <td>0</td>\n",
       "      <td>0</td>\n",
       "      <td>0</td>\n",
       "      <td>0</td>\n",
       "      <td>0</td>\n",
       "      <td>0</td>\n",
       "      <td>...</td>\n",
       "      <td>0</td>\n",
       "      <td>0</td>\n",
       "      <td>0</td>\n",
       "      <td>0</td>\n",
       "      <td>0</td>\n",
       "      <td>0</td>\n",
       "      <td>0</td>\n",
       "      <td>0</td>\n",
       "      <td>0</td>\n",
       "      <td>0</td>\n",
       "      <td>0</td>\n",
       "      <td>0</td>\n",
       "      <td>0</td>\n",
       "      <td>0</td>\n",
       "      <td>0</td>\n",
       "      <td>0</td>\n",
       "      <td>0</td>\n",
       "      <td>0</td>\n",
       "      <td>0</td>\n",
       "      <td>0</td>\n",
       "      <td>0</td>\n",
       "      <td>0</td>\n",
       "      <td>0</td>\n",
       "      <td>0</td>\n",
       "      <td>0</td>\n",
       "      <td>0</td>\n",
       "      <td>0</td>\n",
       "      <td>0</td>\n",
       "      <td>0</td>\n",
       "      <td>0</td>\n",
       "      <td>0</td>\n",
       "      <td>0</td>\n",
       "      <td>0</td>\n",
       "      <td>0</td>\n",
       "      <td>0</td>\n",
       "      <td>0</td>\n",
       "      <td>0</td>\n",
       "      <td>0</td>\n",
       "      <td>0</td>\n",
       "      <td>0</td>\n",
       "    </tr>\n",
       "    <tr>\n",
       "      <th>2</th>\n",
       "      <td>6</td>\n",
       "      <td>0</td>\n",
       "      <td>0</td>\n",
       "      <td>0</td>\n",
       "      <td>0</td>\n",
       "      <td>0</td>\n",
       "      <td>0</td>\n",
       "      <td>0</td>\n",
       "      <td>5</td>\n",
       "      <td>0</td>\n",
       "      <td>0</td>\n",
       "      <td>0</td>\n",
       "      <td>105</td>\n",
       "      <td>92</td>\n",
       "      <td>101</td>\n",
       "      <td>107</td>\n",
       "      <td>100</td>\n",
       "      <td>132</td>\n",
       "      <td>0</td>\n",
       "      <td>0</td>\n",
       "      <td>2</td>\n",
       "      <td>4</td>\n",
       "      <td>0</td>\n",
       "      <td>1</td>\n",
       "      <td>0</td>\n",
       "      <td>0</td>\n",
       "      <td>0</td>\n",
       "      <td>0</td>\n",
       "      <td>0</td>\n",
       "      <td>0</td>\n",
       "      <td>0</td>\n",
       "      <td>0</td>\n",
       "      <td>0</td>\n",
       "      <td>0</td>\n",
       "      <td>0</td>\n",
       "      <td>0</td>\n",
       "      <td>0</td>\n",
       "      <td>0</td>\n",
       "      <td>0</td>\n",
       "      <td>150</td>\n",
       "      <td>...</td>\n",
       "      <td>211</td>\n",
       "      <td>220</td>\n",
       "      <td>214</td>\n",
       "      <td>74</td>\n",
       "      <td>0</td>\n",
       "      <td>255</td>\n",
       "      <td>222</td>\n",
       "      <td>128</td>\n",
       "      <td>0</td>\n",
       "      <td>0</td>\n",
       "      <td>0</td>\n",
       "      <td>0</td>\n",
       "      <td>0</td>\n",
       "      <td>0</td>\n",
       "      <td>0</td>\n",
       "      <td>0</td>\n",
       "      <td>0</td>\n",
       "      <td>44</td>\n",
       "      <td>12</td>\n",
       "      <td>0</td>\n",
       "      <td>0</td>\n",
       "      <td>40</td>\n",
       "      <td>134</td>\n",
       "      <td>162</td>\n",
       "      <td>191</td>\n",
       "      <td>214</td>\n",
       "      <td>163</td>\n",
       "      <td>146</td>\n",
       "      <td>165</td>\n",
       "      <td>79</td>\n",
       "      <td>0</td>\n",
       "      <td>0</td>\n",
       "      <td>0</td>\n",
       "      <td>30</td>\n",
       "      <td>43</td>\n",
       "      <td>0</td>\n",
       "      <td>0</td>\n",
       "      <td>0</td>\n",
       "      <td>0</td>\n",
       "      <td>0</td>\n",
       "    </tr>\n",
       "    <tr>\n",
       "      <th>3</th>\n",
       "      <td>0</td>\n",
       "      <td>0</td>\n",
       "      <td>0</td>\n",
       "      <td>0</td>\n",
       "      <td>1</td>\n",
       "      <td>2</td>\n",
       "      <td>0</td>\n",
       "      <td>0</td>\n",
       "      <td>0</td>\n",
       "      <td>0</td>\n",
       "      <td>0</td>\n",
       "      <td>114</td>\n",
       "      <td>183</td>\n",
       "      <td>112</td>\n",
       "      <td>55</td>\n",
       "      <td>23</td>\n",
       "      <td>72</td>\n",
       "      <td>102</td>\n",
       "      <td>165</td>\n",
       "      <td>160</td>\n",
       "      <td>28</td>\n",
       "      <td>0</td>\n",
       "      <td>0</td>\n",
       "      <td>0</td>\n",
       "      <td>1</td>\n",
       "      <td>0</td>\n",
       "      <td>0</td>\n",
       "      <td>0</td>\n",
       "      <td>0</td>\n",
       "      <td>0</td>\n",
       "      <td>0</td>\n",
       "      <td>0</td>\n",
       "      <td>0</td>\n",
       "      <td>1</td>\n",
       "      <td>0</td>\n",
       "      <td>0</td>\n",
       "      <td>24</td>\n",
       "      <td>188</td>\n",
       "      <td>163</td>\n",
       "      <td>93</td>\n",
       "      <td>...</td>\n",
       "      <td>171</td>\n",
       "      <td>249</td>\n",
       "      <td>207</td>\n",
       "      <td>197</td>\n",
       "      <td>202</td>\n",
       "      <td>45</td>\n",
       "      <td>0</td>\n",
       "      <td>3</td>\n",
       "      <td>0</td>\n",
       "      <td>0</td>\n",
       "      <td>0</td>\n",
       "      <td>0</td>\n",
       "      <td>0</td>\n",
       "      <td>0</td>\n",
       "      <td>0</td>\n",
       "      <td>0</td>\n",
       "      <td>0</td>\n",
       "      <td>0</td>\n",
       "      <td>1</td>\n",
       "      <td>0</td>\n",
       "      <td>0</td>\n",
       "      <td>0</td>\n",
       "      <td>22</td>\n",
       "      <td>21</td>\n",
       "      <td>25</td>\n",
       "      <td>69</td>\n",
       "      <td>52</td>\n",
       "      <td>45</td>\n",
       "      <td>74</td>\n",
       "      <td>39</td>\n",
       "      <td>3</td>\n",
       "      <td>0</td>\n",
       "      <td>0</td>\n",
       "      <td>0</td>\n",
       "      <td>0</td>\n",
       "      <td>1</td>\n",
       "      <td>0</td>\n",
       "      <td>0</td>\n",
       "      <td>0</td>\n",
       "      <td>0</td>\n",
       "    </tr>\n",
       "    <tr>\n",
       "      <th>4</th>\n",
       "      <td>3</td>\n",
       "      <td>0</td>\n",
       "      <td>0</td>\n",
       "      <td>0</td>\n",
       "      <td>0</td>\n",
       "      <td>0</td>\n",
       "      <td>0</td>\n",
       "      <td>0</td>\n",
       "      <td>0</td>\n",
       "      <td>0</td>\n",
       "      <td>0</td>\n",
       "      <td>0</td>\n",
       "      <td>0</td>\n",
       "      <td>46</td>\n",
       "      <td>0</td>\n",
       "      <td>21</td>\n",
       "      <td>68</td>\n",
       "      <td>0</td>\n",
       "      <td>0</td>\n",
       "      <td>0</td>\n",
       "      <td>0</td>\n",
       "      <td>0</td>\n",
       "      <td>0</td>\n",
       "      <td>0</td>\n",
       "      <td>0</td>\n",
       "      <td>0</td>\n",
       "      <td>0</td>\n",
       "      <td>0</td>\n",
       "      <td>0</td>\n",
       "      <td>0</td>\n",
       "      <td>0</td>\n",
       "      <td>0</td>\n",
       "      <td>0</td>\n",
       "      <td>0</td>\n",
       "      <td>0</td>\n",
       "      <td>0</td>\n",
       "      <td>0</td>\n",
       "      <td>25</td>\n",
       "      <td>187</td>\n",
       "      <td>189</td>\n",
       "      <td>...</td>\n",
       "      <td>230</td>\n",
       "      <td>237</td>\n",
       "      <td>229</td>\n",
       "      <td>0</td>\n",
       "      <td>0</td>\n",
       "      <td>1</td>\n",
       "      <td>0</td>\n",
       "      <td>0</td>\n",
       "      <td>0</td>\n",
       "      <td>0</td>\n",
       "      <td>0</td>\n",
       "      <td>0</td>\n",
       "      <td>0</td>\n",
       "      <td>0</td>\n",
       "      <td>0</td>\n",
       "      <td>0</td>\n",
       "      <td>0</td>\n",
       "      <td>0</td>\n",
       "      <td>0</td>\n",
       "      <td>0</td>\n",
       "      <td>0</td>\n",
       "      <td>68</td>\n",
       "      <td>116</td>\n",
       "      <td>112</td>\n",
       "      <td>136</td>\n",
       "      <td>147</td>\n",
       "      <td>144</td>\n",
       "      <td>121</td>\n",
       "      <td>102</td>\n",
       "      <td>63</td>\n",
       "      <td>0</td>\n",
       "      <td>0</td>\n",
       "      <td>0</td>\n",
       "      <td>0</td>\n",
       "      <td>0</td>\n",
       "      <td>0</td>\n",
       "      <td>0</td>\n",
       "      <td>0</td>\n",
       "      <td>0</td>\n",
       "      <td>0</td>\n",
       "    </tr>\n",
       "  </tbody>\n",
       "</table>\n",
       "<p>5 rows × 785 columns</p>\n",
       "</div>"
      ],
      "text/plain": [
       "   label  pixel1  pixel2  pixel3  ...  pixel781  pixel782  pixel783  pixel784\n",
       "0      2       0       0       0  ...         0         0         0         0\n",
       "1      9       0       0       0  ...         0         0         0         0\n",
       "2      6       0       0       0  ...         0         0         0         0\n",
       "3      0       0       0       0  ...         0         0         0         0\n",
       "4      3       0       0       0  ...         0         0         0         0\n",
       "\n",
       "[5 rows x 785 columns]"
      ]
     },
     "execution_count": 3,
     "metadata": {
      "tags": []
     },
     "output_type": "execute_result"
    }
   ],
   "source": [
    "import pandas as pd\n",
    "\n",
    "# Если хотите перезапустить модели, замените пути до файлов fashion-mnist.\n",
    "train_data = pd.read_csv('/gdrive/My Drive/ML/w6_project/fashion-mnist_train.csv')\n",
    "test_data = pd.read_csv('/gdrive/My Drive/ML/w6_project/fashion-mnist_test.csv')\n",
    "\n",
    "train_data.head()"
   ]
  },
  {
   "cell_type": "code",
   "execution_count": 0,
   "metadata": {
    "colab": {},
    "colab_type": "code",
    "id": "ivG5hFWLpzrK"
   },
   "outputs": [],
   "source": [
    "labels = {0: 'T-shirt/top',\n",
    "          1: 'Trouser',\n",
    "          2: 'Pullover',\n",
    "          3: 'Dress',\n",
    "          4: 'Coat',\n",
    "          5: 'Sandal',\n",
    "          6: 'Shirt',\n",
    "          7: 'Sneaker',\n",
    "          8: 'Bag',\n",
    "          9: 'Ankle boot'}"
   ]
  },
  {
   "cell_type": "markdown",
   "metadata": {
    "colab_type": "text",
    "id": "k7xzpW9uExh9"
   },
   "source": [
    "Подготовка данных:"
   ]
  },
  {
   "cell_type": "code",
   "execution_count": 0,
   "metadata": {
    "colab": {},
    "colab_type": "code",
    "id": "MDuO-Vz1nO7-"
   },
   "outputs": [],
   "source": [
    "import tensorflow as tf\n",
    "import numpy as np\n",
    "from sklearn.model_selection import train_test_split\n",
    "\n",
    "np.random.seed(42)\n",
    "\n",
    "num_classes = 10\n",
    "\n",
    "# Данные для тренировки\n",
    "x_train = train_data.iloc[:, 1:] / 255\n",
    "y_train = train_data['label']\n",
    "\n",
    "# Данные для итоговой проверки качества модели\n",
    "x_test = test_data.iloc[:, 1:] / 255\n",
    "y_test = test_data['label']\n",
    "\n",
    "# Выделение из тренировочных данных валидационной выборки\n",
    "X_tr, x_val, Y_tr, y_val = train_test_split(x_train, y_train,\n",
    "                                            test_size=0.2, random_state=42)\n",
    "\n",
    "Y_tr = tf.keras.utils.to_categorical(Y_tr, num_classes=num_classes)\n",
    "y_val = tf.keras.utils.to_categorical(y_val, num_classes=num_classes)\n",
    "y_test = tf.keras.utils.to_categorical(y_test, num_classes=num_classes)\n"
   ]
  },
  {
   "cell_type": "markdown",
   "metadata": {
    "colab_type": "text",
    "id": "l0JmNzjRB3Yt"
   },
   "source": [
    "9 случайных картинок из датасета."
   ]
  },
  {
   "cell_type": "code",
   "execution_count": 20,
   "metadata": {
    "colab": {
     "base_uri": "https://localhost:8080/",
     "height": 585
    },
    "colab_type": "code",
    "id": "KDI5Ou_RmaiA",
    "outputId": "2d03b813-8cc4-4154-d486-aa8f1c247389"
   },
   "outputs": [
    {
     "data": {
      "image/png": "[encoded data removed]",
      "text/plain": [
       "<Figure size 864x576 with 9 Axes>"
      ]
     },
     "metadata": {
      "tags": []
     },
     "output_type": "display_data"
    }
   ],
   "source": [
    "import matplotlib.pyplot as plt\n",
    "import random\n",
    "\n",
    "\n",
    "fig, ax = plt.subplots(3, 3, figsize=(12, 8))\n",
    "plt.gray()\n",
    "\n",
    "for i in range(3):\n",
    "  for j in range(3):\n",
    "    rand_idx = random.randint(0, 60000)\n",
    "    rand_img = x_train.loc[rand_idx, :].values.reshape((28, 28))\n",
    "    label = labels[y_train[rand_idx]]\n",
    "    ax[i][j].imshow(rand_img)\n",
    "    ax[i][j].set_title(label)\n",
    "\n",
    "fig.tight_layout()"
   ]
  },
  {
   "cell_type": "markdown",
   "metadata": {
    "colab_type": "text",
    "id": "ncSIsHFGCVfu"
   },
   "source": [
    "Построение регрессионной модели как нейросети без скрытых слоев:"
   ]
  },
  {
   "cell_type": "code",
   "execution_count": 22,
   "metadata": {
    "colab": {
     "base_uri": "https://localhost:8080/",
     "height": 88
    },
    "colab_type": "code",
    "id": "fUhMt1ZOsJQW",
    "outputId": "e61a6085-e80b-41f0-ced7-d4077bac797c"
   },
   "outputs": [
    {
     "name": "stdout",
     "output_type": "stream",
     "text": [
      "WARNING:tensorflow:From /usr/local/lib/python3.6/dist-packages/tensorflow_core/python/ops/resource_variable_ops.py:1630: calling BaseResourceVariable.__init__ (from tensorflow.python.ops.resource_variable_ops) with constraint is deprecated and will be removed in a future version.\n",
      "Instructions for updating:\n",
      "If using Keras pass *_constraint arguments to layers.\n"
     ]
    }
   ],
   "source": [
    "num_classes = 10\n",
    "input_shape = (784,)\n",
    "\n",
    "def regression_network(num_classes, input_shape):\n",
    "  model = tf.keras.models.Sequential()\n",
    "  model.add(tf.keras.layers.Dense(num_classes,\n",
    "                                  input_shape=input_shape,\n",
    "                                  activation='softmax'))\n",
    "  model.compile(\n",
    "      loss='categorical_crossentropy',\n",
    "      optimizer=tf.keras.optimizers.SGD(),\n",
    "      metrics=['accuracy']\n",
    "  )\n",
    "  return model\n",
    "\n",
    "regr_nn_model = regression_network(num_classes, input_shape)"
   ]
  },
  {
   "cell_type": "code",
   "execution_count": 23,
   "metadata": {
    "colab": {
     "base_uri": "https://localhost:8080/",
     "height": 187
    },
    "colab_type": "code",
    "id": "KWLkNxrgv63k",
    "outputId": "6113cac4-399c-4b9c-e987-44aeef898ae3"
   },
   "outputs": [
    {
     "name": "stdout",
     "output_type": "stream",
     "text": [
      "Model: \"sequential\"\n",
      "_________________________________________________________________\n",
      "Layer (type)                 Output Shape              Param #   \n",
      "=================================================================\n",
      "dense (Dense)                (None, 10)                7850      \n",
      "=================================================================\n",
      "Total params: 7,850\n",
      "Trainable params: 7,850\n",
      "Non-trainable params: 0\n",
      "_________________________________________________________________\n"
     ]
    }
   ],
   "source": [
    "regr_nn_model.summary()"
   ]
  },
  {
   "cell_type": "markdown",
   "metadata": {
    "colab_type": "text",
    "id": "eEWPoSKHCkcG"
   },
   "source": [
    "Вспомогательная функция для построения графика:\n"
   ]
  },
  {
   "cell_type": "code",
   "execution_count": 0,
   "metadata": {
    "colab": {},
    "colab_type": "code",
    "id": "iKbIABN3ygJ_"
   },
   "outputs": [],
   "source": [
    "def get_models_accuracy(batch_size, epochs):\n",
    "  model = regression_network(num_classes=num_classes, input_shape=input_shape)\n",
    "  trained = model.fit(\n",
    "      X_tr, Y_tr,\n",
    "      batch_size=batch_size,\n",
    "      epochs=epochs,\n",
    "      verbose=0,\n",
    "      validation_data=(x_val, y_val)\n",
    "  )\n",
    "  return trained.history['val_acc']"
   ]
  },
  {
   "cell_type": "markdown",
   "metadata": {
    "colab_type": "text",
    "id": "EUrhYyVHC5sZ"
   },
   "source": [
    "Результаты обучения моделей для разных размеров batch_size:\n"
   ]
  },
  {
   "cell_type": "code",
   "execution_count": 25,
   "metadata": {
    "colab": {
     "base_uri": "https://localhost:8080/",
     "height": 500
    },
    "colab_type": "code",
    "id": "idvtEWmb0Ei8",
    "outputId": "0f7faedf-d0c5-41cc-c94c-2306aa497d19"
   },
   "outputs": [
    {
     "data": {
      "image/png": "[encoded data removed]",
      "text/plain": [
       "<Figure size 864x576 with 1 Axes>"
      ]
     },
     "metadata": {
      "tags": []
     },
     "output_type": "display_data"
    }
   ],
   "source": [
    "fig, ax = plt.subplots(figsize=(12, 8))\n",
    "\n",
    "epochs = 20\n",
    "\n",
    "for batch_size in range(10, 200, 50):\n",
    "  acc = get_models_accuracy(batch_size, epochs)\n",
    "  ax.plot(range(epochs), acc,\n",
    "          linewidth=3,\n",
    "          label=f'Batch_size: {batch_size}',\n",
    "          alpha=0.9)\n",
    "\n",
    "ax.set_xlabel('N epochs', fontsize=12)\n",
    "ax.set_ylabel('Accuracy', fontsize=12)\n",
    "ax.legend()\n",
    "ax.grid()"
   ]
  },
  {
   "cell_type": "markdown",
   "metadata": {
    "colab_type": "text",
    "id": "zG42EkDwGT-o"
   },
   "source": [
    "Уменьшение размера батча приводит к росту точности, плата за это - увеличение длительности вычислений. Можно полагать, что оптимальный размер батча между 10 и 60. Далее положим его равным 20 и обучим финальную модель."
   ]
  },
  {
   "cell_type": "code",
   "execution_count": 0,
   "metadata": {
    "colab": {},
    "colab_type": "code",
    "id": "WogjbNd8Gl_4"
   },
   "outputs": [],
   "source": [
    "model = regression_network(num_classes, input_shape)\n",
    "trained = model.fit(\n",
    "    X_tr, Y_tr,\n",
    "    batch_size=20,\n",
    "    epochs=20,\n",
    "    verbose=0,\n",
    "    validation_data=(x_val, y_val)\n",
    ")"
   ]
  },
  {
   "cell_type": "markdown",
   "metadata": {
    "colab_type": "text",
    "id": "uQIeetTgIcRA"
   },
   "source": [
    "Итогова оценка качества модели:"
   ]
  },
  {
   "cell_type": "code",
   "execution_count": 29,
   "metadata": {
    "colab": {
     "base_uri": "https://localhost:8080/",
     "height": 51
    },
    "colab_type": "code",
    "id": "SZLPrxGYIVJr",
    "outputId": "7a717808-68a3-419d-fea6-f4095423afd2"
   },
   "outputs": [
    {
     "name": "stdout",
     "output_type": "stream",
     "text": [
      "10000/10000 [==============================] - 0s 31us/sample - loss: 0.4407 - acc: 0.8506\n"
     ]
    },
    {
     "data": {
      "text/plain": [
       "[0.44069296255111695, 0.8506]"
      ]
     },
     "execution_count": 29,
     "metadata": {
      "tags": []
     },
     "output_type": "execute_result"
    }
   ],
   "source": [
    "model.evaluate(x_test, y_test)"
   ]
  },
  {
   "cell_type": "markdown",
   "metadata": {
    "colab_type": "text",
    "id": "cspc8J4ysm-u"
   },
   "source": [
    "\n",
    "\n",
    "---\n",
    "\n"
   ]
  },
  {
   "cell_type": "markdown",
   "metadata": {
    "colab_type": "text",
    "id": "-6v8sJ8GBiWI"
   },
   "source": [
    "# 2. Полносвязная нейронная сеть"
   ]
  },
  {
   "cell_type": "markdown",
   "metadata": {
    "colab_type": "text",
    "id": "o_jsRgmnzhWa"
   },
   "source": [
    "Сравним три полносвязных модели:\n",
    "1. Один скрытый слой.\n",
    "2. Два скрытых слоя.\n",
    "3. Два скрытых слоя с дропаутом."
   ]
  },
  {
   "cell_type": "code",
   "execution_count": 0,
   "metadata": {
    "colab": {},
    "colab_type": "code",
    "id": "X79ofCutBhXv"
   },
   "outputs": [],
   "source": [
    "def one_h_layer(n_neurons, num_classes):\n",
    "  model = tf.keras.models.Sequential()\n",
    "  model.add(tf.keras.layers.Dense(n_neurons,\n",
    "                                  input_shape=(784,),\n",
    "                                  activation='relu'))\n",
    "  model.add(tf.keras.layers.Dense(num_classes,\n",
    "                                  activation='softmax'))\n",
    "  model.compile(\n",
    "      loss='categorical_crossentropy',\n",
    "      optimizer=tf.keras.optimizers.Adam(),\n",
    "      metrics=['accuracy']\n",
    "  )\n",
    "  return model\n",
    "    \n",
    "def two_h_layers(n_neurons, num_classes):\n",
    "  model = tf.keras.models.Sequential()\n",
    "  model.add(tf.keras.layers.Dense(n_neurons,\n",
    "                                  input_shape=(784,),\n",
    "                                  activation='relu'))\n",
    "  model.add(tf.keras.layers.Dense(n_neurons,\n",
    "                                  activation='relu'))\n",
    "  model.add(tf.keras.layers.Dense(num_classes,\n",
    "                                  activation='softmax'))\n",
    "  model.compile(\n",
    "      loss='categorical_crossentropy',\n",
    "      optimizer=tf.keras.optimizers.Adam(),\n",
    "      metrics=['accuracy']\n",
    "  )\n",
    "  return model\n",
    "\n",
    "def two_h_layers_with_dropout(n_neurons, num_classes, drop_rate=0.5):\n",
    "  model = tf.keras.models.Sequential()\n",
    "  model.add(tf.keras.layers.Dense(n_neurons,\n",
    "                                  input_shape=(784,),\n",
    "                                  activation='relu'))\n",
    "  model.add(tf.keras.layers.Dropout(drop_rate))\n",
    "  model.add(tf.keras.layers.Dense(n_neurons,\n",
    "                                  activation='relu'))\n",
    "  model.add(tf.keras.layers.Dropout(drop_rate))\n",
    "  model.add(tf.keras.layers.Dense(num_classes,\n",
    "                                  activation='softmax'))\n",
    "  model.compile(\n",
    "      loss='categorical_crossentropy',\n",
    "      optimizer=tf.keras.optimizers.Adam(),\n",
    "      metrics=['accuracy']\n",
    "      )\n",
    "  return model\n",
    "\n",
    "def get_models_accuracy_2(model):\n",
    "  trained = model.fit(\n",
    "      X_tr, Y_tr,\n",
    "      batch_size=batch_size,\n",
    "      epochs=epochs,\n",
    "      verbose=0,\n",
    "      validation_data=(x_val, y_val)\n",
    "  )\n",
    "  return trained.history['val_acc']"
   ]
  },
  {
   "cell_type": "markdown",
   "metadata": {
    "colab_type": "text",
    "id": "9-qWo-LutC7q"
   },
   "source": [
    "Результаты обучения моделей при одинаковых размерах batch_size и одинаковом количестве эпох:"
   ]
  },
  {
   "cell_type": "code",
   "execution_count": 33,
   "metadata": {
    "colab": {
     "base_uri": "https://localhost:8080/",
     "height": 500
    },
    "colab_type": "code",
    "id": "zbSnyDcQ1LHZ",
    "outputId": "fa2a5131-9df9-4c18-f1df-47dead5c0b84"
   },
   "outputs": [
    {
     "data": {
      "image/png": "[encoded data removed]",
      "text/plain": [
       "<Figure size 864x576 with 1 Axes>"
      ]
     },
     "metadata": {
      "tags": []
     },
     "output_type": "display_data"
    }
   ],
   "source": [
    "import matplotlib.pyplot as plt\n",
    "\n",
    "n_neurons = 200\n",
    "num_classes = 10\n",
    "batch_size = 20\n",
    "epochs = 20\n",
    "\n",
    "models = [one_h_layer(n_neurons, num_classes),\n",
    "          two_h_layers(n_neurons, num_classes),\n",
    "          two_h_layers_with_dropout(n_neurons, num_classes)]\n",
    "models_descr = ['One hidden layer',\n",
    "                'Two hidden layers',\n",
    "                'Two hidden layers with droput']\n",
    "\n",
    "\n",
    "fig, ax = plt.subplots(figsize=(12, 8))\n",
    "\n",
    "for model, model_descr in zip(models, models_descr):\n",
    "  acc = get_models_accuracy_2(model)\n",
    "  ax.plot(range(epochs), acc,\n",
    "          linewidth=3,\n",
    "          label=f'Model: {model_descr}',\n",
    "          alpha=0.9)\n",
    "\n",
    "ax.set_xlabel('N epochs', fontsize=12)\n",
    "ax.set_ylabel('Accuracy', fontsize=12)\n",
    "ax.legend(fontsize=14)\n",
    "ax.grid()"
   ]
  },
  {
   "cell_type": "markdown",
   "metadata": {
    "colab_type": "text",
    "id": "K2m-DeAVLrtZ"
   },
   "source": [
    "Модели с одним и с двумя скрытыми слоями показывают примерно оиднаковое качество. Моедель с дропаутом, выглядит хуже. Возможно дропаут оказался не эффективен при данной архитектуре сети. Возможно, что эффективность дропаута проявится позже, при более длительном обученнии, когда сети без дропаута начнут преобучаться. Далее выполним оценку на тестовой выборке для сети с одним скрытым слоем."
   ]
  },
  {
   "cell_type": "code",
   "execution_count": 0,
   "metadata": {
    "colab": {},
    "colab_type": "code",
    "id": "1JAoXyvUM4JK"
   },
   "outputs": [],
   "source": [
    "model = one_h_layer(n_neurons, num_classes)\n",
    "\n",
    "trained = model.fit(\n",
    "    X_tr, Y_tr,\n",
    "    batch_size=batch_size,\n",
    "    epochs=epochs,\n",
    "    verbose=0\n",
    ")"
   ]
  },
  {
   "cell_type": "code",
   "execution_count": 35,
   "metadata": {
    "colab": {
     "base_uri": "https://localhost:8080/",
     "height": 51
    },
    "colab_type": "code",
    "id": "WDp5q0fHNbAR",
    "outputId": "9c112927-5d40-4430-c6bf-03a81e2ce1a4"
   },
   "outputs": [
    {
     "name": "stdout",
     "output_type": "stream",
     "text": [
      "10000/10000 [==============================] - 1s 56us/sample - loss: 0.3681 - acc: 0.8890\n"
     ]
    },
    {
     "data": {
      "text/plain": [
       "[0.36811412832736967, 0.889]"
      ]
     },
     "execution_count": 35,
     "metadata": {
      "tags": []
     },
     "output_type": "execute_result"
    }
   ],
   "source": [
    "model.evaluate(x_test, y_test)"
   ]
  },
  {
   "cell_type": "markdown",
   "metadata": {
    "colab_type": "text",
    "id": "qddM_G8bXvRh"
   },
   "source": [
    "Качество сети с одинм скрытым слоем примерно на 3% лучше, чем у регрессионной модели. Это объясняется большим количеством свободных параметров модели, что позволяет улавливать больше паттернов в данных.\n",
    "\n",
    "\n"
   ]
  },
  {
   "cell_type": "markdown",
   "metadata": {
    "colab_type": "text",
    "id": "SIIwNwq3tx9A"
   },
   "source": [
    "\n",
    "\n",
    "---\n",
    "\n"
   ]
  },
  {
   "cell_type": "markdown",
   "metadata": {
    "colab_type": "text",
    "id": "ikJvXwPYZLms"
   },
   "source": [
    "# 3. Сверточная нейронная сеть"
   ]
  },
  {
   "cell_type": "markdown",
   "metadata": {
    "colab_type": "text",
    "id": "nYCC3XhguWBo"
   },
   "source": [
    "Подготовка данных:"
   ]
  },
  {
   "cell_type": "code",
   "execution_count": 0,
   "metadata": {
    "colab": {},
    "colab_type": "code",
    "id": "H4Nfyt9ekc9d"
   },
   "outputs": [],
   "source": [
    "X_tr = X_tr.values.reshape((-1, 28, 28, 1))\n",
    "x_val = x_val.values.reshape((-1, 28, 28, 1))\n",
    "x_test = x_test.values.reshape((-1, 28, 28, 1))"
   ]
  },
  {
   "cell_type": "markdown",
   "metadata": {
    "colab_type": "text",
    "id": "ysqOfXtFuZY9"
   },
   "source": [
    "Сравним три модели:\n",
    "1. Один сверточный слой и maxpool.\n",
    "2. Два сверточных слоя с maxpool.\n",
    "3. Два сверточных слоя с maxpool и нормализацией после сверточных слоев."
   ]
  },
  {
   "cell_type": "code",
   "execution_count": 0,
   "metadata": {
    "colab": {},
    "colab_type": "code",
    "id": "RrkJQzwPYo42"
   },
   "outputs": [],
   "source": [
    "def one_conv_layer(num_classes):\n",
    "  model = tf.keras.models.Sequential()\n",
    "  model.add(tf.keras.layers.Convolution2D(filters=32,\n",
    "                                          kernel_size=(3, 3),\n",
    "                                          activation='relu',\n",
    "                                          input_shape=(28, 28, 1)))\n",
    "  model.add(tf.keras.layers.MaxPooling2D(pool_size=(2, 2)))\n",
    "  model.add(tf.keras.layers.Flatten())\n",
    "  model.add(tf.keras.layers.Dense(64, activation='relu'))\n",
    "  model.add(tf.keras.layers.Dense(num_classes, activation='softmax'))\n",
    "  model.compile(\n",
    "      loss='categorical_crossentropy',\n",
    "      optimizer=tf.keras.optimizers.Adam(),\n",
    "      metrics=['accuracy']\n",
    "  )\n",
    "  return model\n",
    "\n",
    "\n",
    "def two_conv_layer(num_classes):\n",
    "  model = tf.keras.models.Sequential()\n",
    "  model.add(tf.keras.layers.Convolution2D(filters=32,\n",
    "                                          kernel_size=(3, 3),\n",
    "                                          activation='relu',\n",
    "                                          input_shape=(28, 28, 1)))\n",
    "  model.add(tf.keras.layers.MaxPooling2D(pool_size=(2, 2)))\n",
    "  model.add(tf.keras.layers.Convolution2D(filters=64,\n",
    "                                          kernel_size=(3, 3),\n",
    "                                          activation='relu'))\n",
    "  model.add(tf.keras.layers.MaxPooling2D(pool_size=(2, 2)))\n",
    "  model.add(tf.keras.layers.Flatten())\n",
    "  model.add(tf.keras.layers.Dense(64, activation='relu'))\n",
    "  model.add(tf.keras.layers.Dense(num_classes, activation='softmax'))\n",
    "  model.compile(\n",
    "      loss='categorical_crossentropy',\n",
    "      optimizer=tf.keras.optimizers.Adam(),\n",
    "      metrics=['accuracy']\n",
    "  )\n",
    "  return model\n",
    "\n",
    "\n",
    "def two_conv_layer_norm(num_classes):\n",
    "  model = tf.keras.models.Sequential()\n",
    "  model.add(tf.keras.layers.Convolution2D(filters=32,\n",
    "                                          kernel_size=(3, 3),\n",
    "                                          activation='relu',\n",
    "                                          input_shape=(28, 28, 1)))\n",
    "  model.add(tf.keras.layers.BatchNormalization())\n",
    "  model.add(tf.keras.layers.MaxPooling2D(pool_size=(2, 2)))\n",
    "  model.add(tf.keras.layers.Convolution2D(filters=64,\n",
    "                                          kernel_size=(3, 3),\n",
    "                                          activation='relu'))\n",
    "  model.add(tf.keras.layers.BatchNormalization())\n",
    "  model.add(tf.keras.layers.MaxPooling2D(pool_size=(2, 2)))\n",
    "  model.add(tf.keras.layers.Flatten())\n",
    "  model.add(tf.keras.layers.Dense(64, activation='relu'))\n",
    "  model.add(tf.keras.layers.Dense(num_classes, activation='softmax'))\n",
    "  model.compile(\n",
    "      loss='categorical_crossentropy',\n",
    "      optimizer=tf.keras.optimizers.Adam(),\n",
    "      metrics=['accuracy']\n",
    "  )\n",
    "  return model"
   ]
  },
  {
   "cell_type": "markdown",
   "metadata": {
    "colab_type": "text",
    "id": "qLY8PI79uvtr"
   },
   "source": [
    "Результаты обучения разных моделей при одинаковом размере batch_size и одинаковом количестве эпох:"
   ]
  },
  {
   "cell_type": "code",
   "execution_count": 38,
   "metadata": {
    "colab": {
     "base_uri": "https://localhost:8080/",
     "height": 500
    },
    "colab_type": "code",
    "id": "o8qsnHGEm05n",
    "outputId": "706cbaea-5505-43ea-bb6b-c21f9d1be1ec"
   },
   "outputs": [
    {
     "data": {
      "image/png": "[encoded data removed]",
      "text/plain": [
       "<Figure size 864x576 with 1 Axes>"
      ]
     },
     "metadata": {
      "tags": []
     },
     "output_type": "display_data"
    }
   ],
   "source": [
    "import matplotlib.pyplot as plt\n",
    "\n",
    "num_classes = 10\n",
    "batch_size = 20\n",
    "epochs = 20\n",
    "\n",
    "models = [one_conv_layer(num_classes),\n",
    "          two_conv_layer(num_classes),\n",
    "          two_conv_layer_norm(num_classes)]\n",
    "models_descr = ['One convolution layer + maxpool',\n",
    "                'Two convolution layers + maxpool',\n",
    "                'Two convolution layers with normalization + maxpool']\n",
    "\n",
    "\n",
    "fig, ax = plt.subplots(figsize=(12, 8))\n",
    "\n",
    "for model, model_descr in zip(models, models_descr):\n",
    "  acc = get_models_accuracy_2(model)\n",
    "  ax.plot(range(epochs), acc,\n",
    "          linewidth=3,\n",
    "          label=f'Model: {model_descr}',\n",
    "          alpha=0.9)\n",
    "\n",
    "ax.set_xlabel('N epochs', fontsize=12)\n",
    "ax.set_ylabel('Accuracy', fontsize=12)\n",
    "ax.legend(fontsize=14)\n",
    "ax.grid()"
   ]
  },
  {
   "cell_type": "markdown",
   "metadata": {
    "colab_type": "text",
    "id": "jYeOU2dDLpGV"
   },
   "source": [
    "Модели с одним и двумя слоями показывают примерно одинаковое качество. Результаты примерно на 1% лучше, чем у полносвязных моделей из предыдущего раздела. Качество на тестовой выборке проверим на модели с одим светночным слоем после 5 эпох обучения."
   ]
  },
  {
   "cell_type": "code",
   "execution_count": 0,
   "metadata": {
    "colab": {},
    "colab_type": "code",
    "id": "4UQI15uHMKpF"
   },
   "outputs": [],
   "source": [
    "model = one_conv_layer(num_classes)\n",
    "trained = model.fit(\n",
    "    X_tr, Y_tr,\n",
    "    batch_size=20,\n",
    "    epochs=5,\n",
    "    verbose=0\n",
    ")"
   ]
  },
  {
   "cell_type": "code",
   "execution_count": 13,
   "metadata": {
    "colab": {
     "base_uri": "https://localhost:8080/",
     "height": 51
    },
    "colab_type": "code",
    "id": "bV4ZhzwsOGX1",
    "outputId": "529b866b-ca94-4b13-faf6-de21d4f50436"
   },
   "outputs": [
    {
     "name": "stdout",
     "output_type": "stream",
     "text": [
      "10000/10000 [==============================] - 2s 169us/sample - loss: 0.2982 - acc: 0.8996\n"
     ]
    },
    {
     "data": {
      "text/plain": [
       "[0.29817221986055376, 0.8996]"
      ]
     },
     "execution_count": 13,
     "metadata": {
      "tags": []
     },
     "output_type": "execute_result"
    }
   ],
   "source": [
    "model.evaluate(x_test, y_test)"
   ]
  },
  {
   "cell_type": "markdown",
   "metadata": {
    "colab_type": "text",
    "id": "NKH5-FDZO4xj"
   },
   "source": [
    "На тестовой выборке качество оказалось несколько ниже ожидаемого из предварительной оценки. Скорее всего при повторной реализации можно получить большую точность при том же количестве эпох."
   ]
  },
  {
   "cell_type": "markdown",
   "metadata": {
    "colab_type": "text",
    "id": "XmzWnbKBu8XM"
   },
   "source": [
    "\n",
    "\n",
    "---\n",
    "\n"
   ]
  }
 ],
 "metadata": {
  "colab": {
   "collapsed_sections": [],
   "name": "w6_project.ipynb",
   "provenance": []
  },
  "kernelspec": {
   "display_name": "Python 3",
   "language": "python",
   "name": "python3"
  },
  "language_info": {
   "codemirror_mode": {
    "name": "ipython",
    "version": 3
   },
   "file_extension": ".py",
   "mimetype": "text/x-python",
   "name": "python",
   "nbconvert_exporter": "python",
   "pygments_lexer": "ipython3",
   "version": "3.7.3"
  }
 },
 "nbformat": 4,
 "nbformat_minor": 1
}
