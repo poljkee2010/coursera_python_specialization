{
 "cells": [
  {
   "cell_type": "markdown",
   "metadata": {},
   "source": [
    "# <center>Итоговый проект: Fashion-MNIST"
   ]
  },
  {
   "cell_type": "markdown",
   "metadata": {},
   "source": [
    "Fashion-MNIST – это датасет состоящий из 70000 черно-белых изображений одежды 28х28 пикселей каждое. 60000 из них содержатся в тренировочной выборке, и 10000 – в тестовой. Этот набор данных представляет из себя альтернативу обычному датасету рукописных цифр MNIST. Существовало несколько предпосылок для создания такого набора данных.\n",
    "\n",
    "Большинство исследователей в области машинного и глубинного обучения используют MNIST при первой проверки своих моделей, что не всегда является хорошей идеей. Если какая-то модель не работает на датасете MNIST – это не значит, что она не работает в принципе. Если какая-то модель прекрасно работает на датасете MNIST – это не означает, что она так же хорошо будет работать на других датасетах. Известны случаи в отказе публикации некоторых статей из-за недостаточно хорошего качества модели на MNIST. Поэтому Zalando Research предложили альтернативу.\n",
    "\n",
    "В Fashion-MNIST содержится 10 классов разной одежды по аналогии с 10 цифрами из MNIST. Скачать датасет и найти его подробное описание можно найти здесь\n",
    "\n",
    "- [Fashion-MNIST](https://www.kaggle.com/zalando-research/fashionmnist)"
   ]
  },
  {
   "cell_type": "code",
   "execution_count": 21,
   "metadata": {},
   "outputs": [],
   "source": [
    "import os\n",
    "import pandas as pd\n",
    "import tensorflow as tf\n",
    "\n",
    "import matplotlib.pyplot as plt"
   ]
  },
  {
   "cell_type": "code",
   "execution_count": 207,
   "metadata": {},
   "outputs": [],
   "source": [
    "plt.style.use('ggplot')"
   ]
  },
  {
   "cell_type": "code",
   "execution_count": 2,
   "metadata": {},
   "outputs": [],
   "source": [
    "path_to_data = \"data\""
   ]
  },
  {
   "cell_type": "markdown",
   "metadata": {},
   "source": [
    "### Загрузка данных"
   ]
  },
  {
   "cell_type": "code",
   "execution_count": 3,
   "metadata": {},
   "outputs": [
    {
     "data": {
      "text/plain": [
       "(10000, 785)"
      ]
     },
     "execution_count": 3,
     "metadata": {},
     "output_type": "execute_result"
    }
   ],
   "source": [
    "data_test = pd.read_csv(os.path.join(path_to_data, \"fashion-mnist_test.csv\"))\n",
    "data_test.shape"
   ]
  },
  {
   "cell_type": "code",
   "execution_count": 4,
   "metadata": {},
   "outputs": [
    {
     "data": {
      "text/html": [
       "<div>\n",
       "<style scoped>\n",
       "    .dataframe tbody tr th:only-of-type {\n",
       "        vertical-align: middle;\n",
       "    }\n",
       "\n",
       "    .dataframe tbody tr th {\n",
       "        vertical-align: top;\n",
       "    }\n",
       "\n",
       "    .dataframe thead th {\n",
       "        text-align: right;\n",
       "    }\n",
       "</style>\n",
       "<table border=\"1\" class=\"dataframe\">\n",
       "  <thead>\n",
       "    <tr style=\"text-align: right;\">\n",
       "      <th></th>\n",
       "      <th>label</th>\n",
       "      <th>pixel1</th>\n",
       "      <th>pixel2</th>\n",
       "      <th>pixel3</th>\n",
       "      <th>pixel4</th>\n",
       "      <th>pixel5</th>\n",
       "      <th>pixel6</th>\n",
       "      <th>pixel7</th>\n",
       "      <th>pixel8</th>\n",
       "      <th>pixel9</th>\n",
       "      <th>...</th>\n",
       "      <th>pixel775</th>\n",
       "      <th>pixel776</th>\n",
       "      <th>pixel777</th>\n",
       "      <th>pixel778</th>\n",
       "      <th>pixel779</th>\n",
       "      <th>pixel780</th>\n",
       "      <th>pixel781</th>\n",
       "      <th>pixel782</th>\n",
       "      <th>pixel783</th>\n",
       "      <th>pixel784</th>\n",
       "    </tr>\n",
       "  </thead>\n",
       "  <tbody>\n",
       "    <tr>\n",
       "      <td>0</td>\n",
       "      <td>0</td>\n",
       "      <td>0</td>\n",
       "      <td>0</td>\n",
       "      <td>0</td>\n",
       "      <td>0</td>\n",
       "      <td>0</td>\n",
       "      <td>0</td>\n",
       "      <td>0</td>\n",
       "      <td>9</td>\n",
       "      <td>8</td>\n",
       "      <td>...</td>\n",
       "      <td>103</td>\n",
       "      <td>87</td>\n",
       "      <td>56</td>\n",
       "      <td>0</td>\n",
       "      <td>0</td>\n",
       "      <td>0</td>\n",
       "      <td>0</td>\n",
       "      <td>0</td>\n",
       "      <td>0</td>\n",
       "      <td>0</td>\n",
       "    </tr>\n",
       "    <tr>\n",
       "      <td>1</td>\n",
       "      <td>1</td>\n",
       "      <td>0</td>\n",
       "      <td>0</td>\n",
       "      <td>0</td>\n",
       "      <td>0</td>\n",
       "      <td>0</td>\n",
       "      <td>0</td>\n",
       "      <td>0</td>\n",
       "      <td>0</td>\n",
       "      <td>0</td>\n",
       "      <td>...</td>\n",
       "      <td>34</td>\n",
       "      <td>0</td>\n",
       "      <td>0</td>\n",
       "      <td>0</td>\n",
       "      <td>0</td>\n",
       "      <td>0</td>\n",
       "      <td>0</td>\n",
       "      <td>0</td>\n",
       "      <td>0</td>\n",
       "      <td>0</td>\n",
       "    </tr>\n",
       "    <tr>\n",
       "      <td>2</td>\n",
       "      <td>2</td>\n",
       "      <td>0</td>\n",
       "      <td>0</td>\n",
       "      <td>0</td>\n",
       "      <td>0</td>\n",
       "      <td>0</td>\n",
       "      <td>0</td>\n",
       "      <td>14</td>\n",
       "      <td>53</td>\n",
       "      <td>99</td>\n",
       "      <td>...</td>\n",
       "      <td>0</td>\n",
       "      <td>0</td>\n",
       "      <td>0</td>\n",
       "      <td>0</td>\n",
       "      <td>63</td>\n",
       "      <td>53</td>\n",
       "      <td>31</td>\n",
       "      <td>0</td>\n",
       "      <td>0</td>\n",
       "      <td>0</td>\n",
       "    </tr>\n",
       "    <tr>\n",
       "      <td>3</td>\n",
       "      <td>2</td>\n",
       "      <td>0</td>\n",
       "      <td>0</td>\n",
       "      <td>0</td>\n",
       "      <td>0</td>\n",
       "      <td>0</td>\n",
       "      <td>0</td>\n",
       "      <td>0</td>\n",
       "      <td>0</td>\n",
       "      <td>0</td>\n",
       "      <td>...</td>\n",
       "      <td>137</td>\n",
       "      <td>126</td>\n",
       "      <td>140</td>\n",
       "      <td>0</td>\n",
       "      <td>133</td>\n",
       "      <td>224</td>\n",
       "      <td>222</td>\n",
       "      <td>56</td>\n",
       "      <td>0</td>\n",
       "      <td>0</td>\n",
       "    </tr>\n",
       "    <tr>\n",
       "      <td>4</td>\n",
       "      <td>3</td>\n",
       "      <td>0</td>\n",
       "      <td>0</td>\n",
       "      <td>0</td>\n",
       "      <td>0</td>\n",
       "      <td>0</td>\n",
       "      <td>0</td>\n",
       "      <td>0</td>\n",
       "      <td>0</td>\n",
       "      <td>0</td>\n",
       "      <td>...</td>\n",
       "      <td>0</td>\n",
       "      <td>0</td>\n",
       "      <td>0</td>\n",
       "      <td>0</td>\n",
       "      <td>0</td>\n",
       "      <td>0</td>\n",
       "      <td>0</td>\n",
       "      <td>0</td>\n",
       "      <td>0</td>\n",
       "      <td>0</td>\n",
       "    </tr>\n",
       "  </tbody>\n",
       "</table>\n",
       "<p>5 rows × 785 columns</p>\n",
       "</div>"
      ],
      "text/plain": [
       "   label  pixel1  pixel2  pixel3  pixel4  pixel5  pixel6  pixel7  pixel8  \\\n",
       "0      0       0       0       0       0       0       0       0       9   \n",
       "1      1       0       0       0       0       0       0       0       0   \n",
       "2      2       0       0       0       0       0       0      14      53   \n",
       "3      2       0       0       0       0       0       0       0       0   \n",
       "4      3       0       0       0       0       0       0       0       0   \n",
       "\n",
       "   pixel9  ...  pixel775  pixel776  pixel777  pixel778  pixel779  pixel780  \\\n",
       "0       8  ...       103        87        56         0         0         0   \n",
       "1       0  ...        34         0         0         0         0         0   \n",
       "2      99  ...         0         0         0         0        63        53   \n",
       "3       0  ...       137       126       140         0       133       224   \n",
       "4       0  ...         0         0         0         0         0         0   \n",
       "\n",
       "   pixel781  pixel782  pixel783  pixel784  \n",
       "0         0         0         0         0  \n",
       "1         0         0         0         0  \n",
       "2        31         0         0         0  \n",
       "3       222        56         0         0  \n",
       "4         0         0         0         0  \n",
       "\n",
       "[5 rows x 785 columns]"
      ]
     },
     "execution_count": 4,
     "metadata": {},
     "output_type": "execute_result"
    }
   ],
   "source": [
    "data_test.head()"
   ]
  },
  {
   "cell_type": "code",
   "execution_count": 5,
   "metadata": {},
   "outputs": [
    {
     "data": {
      "text/plain": [
       "(60000, 785)"
      ]
     },
     "execution_count": 5,
     "metadata": {},
     "output_type": "execute_result"
    }
   ],
   "source": [
    "data_train = pd.read_csv(os.path.join(path_to_data, \"fashion-mnist_train.csv\"))\n",
    "data_train.shape"
   ]
  },
  {
   "cell_type": "markdown",
   "metadata": {},
   "source": [
    "В данном случае, количество признаков равно 28x28=784, так же мы имеем 60000 объектов в тренировочной выборке."
   ]
  },
  {
   "cell_type": "markdown",
   "metadata": {},
   "source": [
    "### посмотрим на силуэты, с которыми будем работать"
   ]
  },
  {
   "cell_type": "code",
   "execution_count": 81,
   "metadata": {},
   "outputs": [],
   "source": [
    "def picture_show(data, num, ax=plt):\n",
    "    picture = data.drop(\"label\", axis=1).values[num].reshape((28, 28))\n",
    "    ax.imshow(picture, cmap=plt.cm.binary);"
   ]
  },
  {
   "cell_type": "code",
   "execution_count": 82,
   "metadata": {},
   "outputs": [
    {
     "data": {
      "image/png": "[encoded data removed]",
      "text/plain": [
       "<Figure size 432x288 with 1 Axes>"
      ]
     },
     "metadata": {
      "needs_background": "light"
     },
     "output_type": "display_data"
    }
   ],
   "source": [
    "picture_show(data_train, 0)"
   ]
  },
  {
   "cell_type": "code",
   "execution_count": 90,
   "metadata": {},
   "outputs": [
    {
     "data": {
      "image/png": "[encoded data removed]",
      "text/plain": [
       "<Figure size 1440x288 with 20 Axes>"
      ]
     },
     "metadata": {},
     "output_type": "display_data"
    }
   ],
   "source": [
    "nrows, ncols = 2, 10\n",
    "fig, ax = plt.subplots(nrows, ncols, figsize=(2*ncols, 2*nrows))\n",
    "for row in range(nrows):\n",
    "    for col in range(ncols):\n",
    "        num = row * nrows + col\n",
    "        picture_show(data_train, num, ax[row, col])\n",
    "        ax[row, col].set_xticks([])\n",
    "        ax[row, col].set_yticks([])\n",
    "plt.tight_layout()"
   ]
  },
  {
   "cell_type": "markdown",
   "metadata": {},
   "source": [
    "### Подготовим данные"
   ]
  },
  {
   "cell_type": "code",
   "execution_count": 16,
   "metadata": {},
   "outputs": [],
   "source": [
    "def get_x_y(data, num_classes=10):\n",
    "    x = data.drop(\"label\", axis=1).values.reshape(-1, 784).astype(\"float32\") / 255\n",
    "    y = tf.keras.utils.to_categorical(data[\"label\"].values, num_classes)\n",
    "    return x, y"
   ]
  },
  {
   "cell_type": "code",
   "execution_count": 18,
   "metadata": {},
   "outputs": [
    {
     "data": {
      "text/plain": [
       "((60000, 784), (60000, 10), (10000, 784), (10000, 10))"
      ]
     },
     "execution_count": 18,
     "metadata": {},
     "output_type": "execute_result"
    }
   ],
   "source": [
    "num_classes = 10 \n",
    "\n",
    "x_train, y_train = get_x_y(data_train, num_classes)\n",
    "x_test, y_test = get_x_y(data_test, num_classes)\n",
    "\n",
    "x_train.shape, y_train.shape, x_test.shape, y_test.shape"
   ]
  },
  {
   "cell_type": "code",
   "execution_count": null,
   "metadata": {},
   "outputs": [],
   "source": []
  },
  {
   "cell_type": "markdown",
   "metadata": {},
   "source": [
    "## 1. Логистическая регрессия"
   ]
  },
  {
   "cell_type": "markdown",
   "metadata": {},
   "source": [
    "Для решения задачи классификации предлагается начать с использования логистической регрессии. В данном случае, количество признаков равно 28x28=784, так же мы имеем 60000 объектов в тренировочной выборке. Рекомендуется использовать **tensorflow** или **keras** для выполнения этого задания. Используйте стохастический градиентный спуск (**stochastic gradient descent**) в качестве алгоритма оптимизации.\n",
    "\n",
    "По своей сути, логистическая регрессия может быть реализована как нейронная сеть без скрытых слоев. В выходном слое содержится количество нейронов, равное количеству классов. В качестве функции активации выходного слоя следует использовать **softmax**.\n",
    "\n",
    "Обучите логистическую регрессию на тренировочной выборке и оцените качество на тестовой выборке используя метрику **accuracy**. Постройте график качества модели на валидационной выборке от количества эпох. Для этого вы можете использовать утилиту **tensorboard**\n",
    "- [tensorboard в tensorflow](https://www.tensorflow.org/guide/summaries_and_tensorboard)\n",
    "- [tensorboard в keras](https://keras.io/callbacks/#tensorboard)"
   ]
  },
  {
   "cell_type": "code",
   "execution_count": 111,
   "metadata": {},
   "outputs": [],
   "source": [
    "def create_model():\n",
    "    model = tf.keras.models.Sequential() \n",
    "    model.add(tf.keras.layers.Dense(num_classes, input_shape=(784,), activation=\"softmax\"))\n",
    "\n",
    "    model.compile(\n",
    "        loss=\"categorical_crossentropy\", \n",
    "        optimizer=\"sgd\", \n",
    "        metrics=[\"accuracy\"]\n",
    "    )\n",
    "    return model"
   ]
  },
  {
   "cell_type": "code",
   "execution_count": 112,
   "metadata": {},
   "outputs": [
    {
     "name": "stdout",
     "output_type": "stream",
     "text": [
      "Model: \"sequential_7\"\n",
      "_________________________________________________________________\n",
      "Layer (type)                 Output Shape              Param #   \n",
      "=================================================================\n",
      "dense_7 (Dense)              (None, 10)                7850      \n",
      "=================================================================\n",
      "Total params: 7,850\n",
      "Trainable params: 7,850\n",
      "Non-trainable params: 0\n",
      "_________________________________________________________________\n"
     ]
    }
   ],
   "source": [
    "model = create_model()\n",
    "model.summary()"
   ]
  },
  {
   "cell_type": "code",
   "execution_count": 191,
   "metadata": {},
   "outputs": [],
   "source": [
    "class AccuracyHistory(tf.keras.callbacks.Callback):\n",
    "    def on_train_begin(self, logs={}):\n",
    "        self.accuracy = []\n",
    "        self.val_accuracy = []\n",
    "\n",
    "    def on_epoch_end (self, epoch, logs={}):\n",
    "        self.accuracy.append(logs.get('accuracy'))\n",
    "        self.val_accuracy.append(logs.get('val_accuracy'))\n",
    "        "
   ]
  },
  {
   "cell_type": "code",
   "execution_count": 192,
   "metadata": {
    "scrolled": true
   },
   "outputs": [
    {
     "name": "stdout",
     "output_type": "stream",
     "text": [
      "Train on 60000 samples, validate on 10000 samples\n",
      "Epoch 1/20\n",
      "60000/60000 [==============================] - 3s 43us/sample - loss: 0.3784 - accuracy: 0.8700 - val_loss: 0.4168 - val_accuracy: 0.8553\n",
      "Epoch 2/20\n",
      "60000/60000 [==============================] - 3s 43us/sample - loss: 0.3782 - accuracy: 0.8692 - val_loss: 0.4154 - val_accuracy: 0.8592\n",
      "Epoch 3/20\n",
      "60000/60000 [==============================] - 3s 43us/sample - loss: 0.3782 - accuracy: 0.8691 - val_loss: 0.4161 - val_accuracy: 0.8596\n",
      "Epoch 4/20\n",
      "60000/60000 [==============================] - 3s 43us/sample - loss: 0.3781 - accuracy: 0.8686 - val_loss: 0.4148 - val_accuracy: 0.8583\n",
      "Epoch 5/20\n",
      "60000/60000 [==============================] - 3s 42us/sample - loss: 0.3779 - accuracy: 0.8687 - val_loss: 0.4169 - val_accuracy: 0.8571\n",
      "Epoch 6/20\n",
      "60000/60000 [==============================] - 3s 43us/sample - loss: 0.3780 - accuracy: 0.8690 - val_loss: 0.4155 - val_accuracy: 0.8585\n",
      "Epoch 7/20\n",
      "60000/60000 [==============================] - 3s 43us/sample - loss: 0.3776 - accuracy: 0.8693 - val_loss: 0.4186 - val_accuracy: 0.8579\n",
      "Epoch 8/20\n",
      "60000/60000 [==============================] - 3s 44us/sample - loss: 0.3773 - accuracy: 0.8693 - val_loss: 0.4164 - val_accuracy: 0.8578\n",
      "Epoch 9/20\n",
      "60000/60000 [==============================] - 3s 43us/sample - loss: 0.3776 - accuracy: 0.8692 - val_loss: 0.4153 - val_accuracy: 0.8588\n",
      "Epoch 10/20\n",
      "60000/60000 [==============================] - 3s 43us/sample - loss: 0.3774 - accuracy: 0.8694 - val_loss: 0.4147 - val_accuracy: 0.8592\n",
      "Epoch 11/20\n",
      "60000/60000 [==============================] - 3s 43us/sample - loss: 0.3770 - accuracy: 0.8691 - val_loss: 0.4167 - val_accuracy: 0.8576\n",
      "Epoch 12/20\n",
      "60000/60000 [==============================] - 3s 45us/sample - loss: 0.3771 - accuracy: 0.8696 - val_loss: 0.4169 - val_accuracy: 0.8581\n",
      "Epoch 13/20\n",
      "60000/60000 [==============================] - 3s 43us/sample - loss: 0.3770 - accuracy: 0.8692 - val_loss: 0.4156 - val_accuracy: 0.8571\n",
      "Epoch 14/20\n",
      "60000/60000 [==============================] - 3s 43us/sample - loss: 0.3767 - accuracy: 0.8696 - val_loss: 0.4148 - val_accuracy: 0.8579\n",
      "Epoch 15/20\n",
      "60000/60000 [==============================] - 3s 45us/sample - loss: 0.3765 - accuracy: 0.8702 - val_loss: 0.4157 - val_accuracy: 0.8595\n",
      "Epoch 16/20\n",
      "60000/60000 [==============================] - 3s 51us/sample - loss: 0.3763 - accuracy: 0.8698 - val_loss: 0.4171 - val_accuracy: 0.8550\n",
      "Epoch 17/20\n",
      "60000/60000 [==============================] - 3s 52us/sample - loss: 0.3763 - accuracy: 0.8690 - val_loss: 0.4154 - val_accuracy: 0.8584\n",
      "Epoch 18/20\n",
      "60000/60000 [==============================] - 4s 67us/sample - loss: 0.3760 - accuracy: 0.8701 - val_loss: 0.4185 - val_accuracy: 0.8553\n",
      "Epoch 19/20\n",
      "60000/60000 [==============================] - 3s 55us/sample - loss: 0.3761 - accuracy: 0.8702 - val_loss: 0.4161 - val_accuracy: 0.8566\n",
      "Epoch 20/20\n",
      "60000/60000 [==============================] - 3s 55us/sample - loss: 0.3761 - accuracy: 0.8698 - val_loss: 0.4163 - val_accuracy: 0.8582\n"
     ]
    },
    {
     "data": {
      "text/plain": [
       "<tensorflow.python.keras.callbacks.History at 0x2427107acf8>"
      ]
     },
     "execution_count": 192,
     "metadata": {},
     "output_type": "execute_result"
    }
   ],
   "source": [
    "history = AccuracyHistory()\n",
    "model.fit(x_train, y_train, epochs=20, validation_freq=1, verbose=1,  validation_data=(x_test, y_test), callbacks=[history])"
   ]
  },
  {
   "cell_type": "code",
   "execution_count": 209,
   "metadata": {},
   "outputs": [
    {
     "data": {
      "image/png": "[encoded data removed]",
      "text/plain": [
       "<Figure size 432x288 with 1 Axes>"
      ]
     },
     "metadata": {},
     "output_type": "display_data"
    }
   ],
   "source": [
    "plt.plot(range(1, 21), history.accuracy, label=\"train_accuracy\")\n",
    "plt.plot(range(1, 21), history.val_accuracy, label=\"val_accuracy\")\n",
    "plt.legend()\n",
    "plt.xticks(range(1, 21, 2))\n",
    "plt.title(\"Accuracy vs epoch\")\n",
    "plt.ylabel(\"Accuracy\")\n",
    "plt.xlabel(\"Epoch number\");"
   ]
  },
  {
   "cell_type": "code",
   "execution_count": 204,
   "metadata": {},
   "outputs": [
    {
     "name": "stdout",
     "output_type": "stream",
     "text": [
      "Test loss: 0.41626551425457003\n",
      "Test accuracy: 0.8582\n"
     ]
    }
   ],
   "source": [
    "loss, accuracy = model.evaluate(x_test, y_test, verbose=0) \n",
    "print(\"Test loss:\", loss) \n",
    "print(\"Test accuracy:\", accuracy)"
   ]
  },
  {
   "cell_type": "markdown",
   "metadata": {},
   "source": [
    "## 2. Полносвязная нейронная сеть"
   ]
  },
  {
   "cell_type": "markdown",
   "metadata": {},
   "source": [
    "Реализовать полносвязную нейронную сеть с несколькими скрытыми слоями. Обучить модель и посчитать качество на тестовой выборке. Как оно изменилось в сравнении с логистической регрессией? Как вы можете объяснить этот результат?"
   ]
  },
  {
   "cell_type": "code",
   "execution_count": 214,
   "metadata": {},
   "outputs": [],
   "source": [
    "def create_model():\n",
    "    model = tf.keras.models.Sequential() \n",
    "    model.add(tf.keras.layers.Dense(256, activation=\"relu\", input_shape=(784,))) \n",
    "    model.add(tf.keras.layers.Dense(256, activation=\"relu\"))\n",
    "    model.add(tf.keras.layers.Dense(num_classes, activation=\"softmax\"))\n",
    "\n",
    "    model.compile(\n",
    "        loss=\"categorical_crossentropy\", \n",
    "        optimizer=\"sgd\", \n",
    "        metrics=[\"accuracy\"]\n",
    "    )\n",
    "    return model"
   ]
  },
  {
   "cell_type": "code",
   "execution_count": 215,
   "metadata": {},
   "outputs": [
    {
     "name": "stdout",
     "output_type": "stream",
     "text": [
      "Model: \"sequential_10\"\n",
      "_________________________________________________________________\n",
      "Layer (type)                 Output Shape              Param #   \n",
      "=================================================================\n",
      "dense_12 (Dense)             (None, 256)               200960    \n",
      "_________________________________________________________________\n",
      "dense_13 (Dense)             (None, 256)               65792     \n",
      "_________________________________________________________________\n",
      "dense_14 (Dense)             (None, 10)                2570      \n",
      "=================================================================\n",
      "Total params: 269,322\n",
      "Trainable params: 269,322\n",
      "Non-trainable params: 0\n",
      "_________________________________________________________________\n"
     ]
    }
   ],
   "source": [
    "model = create_model()\n",
    "model.summary()"
   ]
  },
  {
   "cell_type": "code",
   "execution_count": 216,
   "metadata": {
    "scrolled": true
   },
   "outputs": [
    {
     "name": "stdout",
     "output_type": "stream",
     "text": [
      "Train on 60000 samples, validate on 10000 samples\n",
      "Epoch 1/20\n",
      "60000/60000 [==============================] - 5s 82us/sample - loss: 0.7110 - accuracy: 0.7670 - val_loss: 0.5158 - val_accuracy: 0.8249\n",
      "Epoch 2/20\n",
      "60000/60000 [==============================] - 5s 78us/sample - loss: 0.4881 - accuracy: 0.8299 - val_loss: 0.4545 - val_accuracy: 0.8430\n",
      "Epoch 3/20\n",
      "60000/60000 [==============================] - 5s 79us/sample - loss: 0.4434 - accuracy: 0.8445 - val_loss: 0.4479 - val_accuracy: 0.8425\n",
      "Epoch 4/20\n",
      "60000/60000 [==============================] - 5s 77us/sample - loss: 0.4162 - accuracy: 0.8536 - val_loss: 0.4088 - val_accuracy: 0.8596\n",
      "Epoch 5/20\n",
      "60000/60000 [==============================] - 5s 87us/sample - loss: 0.3961 - accuracy: 0.8599 - val_loss: 0.3987 - val_accuracy: 0.8607\n",
      "Epoch 6/20\n",
      "60000/60000 [==============================] - 6s 93us/sample - loss: 0.3795 - accuracy: 0.8671 - val_loss: 0.3792 - val_accuracy: 0.8692\n",
      "Epoch 7/20\n",
      "60000/60000 [==============================] - 5s 90us/sample - loss: 0.3657 - accuracy: 0.8713 - val_loss: 0.3871 - val_accuracy: 0.8652\n",
      "Epoch 8/20\n",
      "60000/60000 [==============================] - 5s 91us/sample - loss: 0.3545 - accuracy: 0.8735 - val_loss: 0.3815 - val_accuracy: 0.8665\n",
      "Epoch 9/20\n",
      "60000/60000 [==============================] - 6s 93us/sample - loss: 0.3436 - accuracy: 0.8791 - val_loss: 0.3536 - val_accuracy: 0.8737\n",
      "Epoch 10/20\n",
      "60000/60000 [==============================] - 6s 106us/sample - loss: 0.3344 - accuracy: 0.8807 - val_loss: 0.3474 - val_accuracy: 0.8763\n",
      "Epoch 11/20\n",
      "60000/60000 [==============================] - 6s 98us/sample - loss: 0.3259 - accuracy: 0.8837 - val_loss: 0.3461 - val_accuracy: 0.8776\n",
      "Epoch 12/20\n",
      "60000/60000 [==============================] - 5s 90us/sample - loss: 0.3179 - accuracy: 0.8855 - val_loss: 0.3392 - val_accuracy: 0.8799\n",
      "Epoch 13/20\n",
      "60000/60000 [==============================] - 6s 96us/sample - loss: 0.3120 - accuracy: 0.8886 - val_loss: 0.3421 - val_accuracy: 0.8761\n",
      "Epoch 14/20\n",
      "60000/60000 [==============================] - 6s 95us/sample - loss: 0.3047 - accuracy: 0.8904 - val_loss: 0.3321 - val_accuracy: 0.8809\n",
      "Epoch 15/20\n",
      "60000/60000 [==============================] - 6s 102us/sample - loss: 0.2977 - accuracy: 0.8915 - val_loss: 0.3207 - val_accuracy: 0.8858\n",
      "Epoch 16/20\n",
      "60000/60000 [==============================] - 7s 109us/sample - loss: 0.2918 - accuracy: 0.8948 - val_loss: 0.3334 - val_accuracy: 0.8778\n",
      "Epoch 17/20\n",
      "60000/60000 [==============================] - 7s 109us/sample - loss: 0.2864 - accuracy: 0.8970 - val_loss: 0.3159 - val_accuracy: 0.8864\n",
      "Epoch 18/20\n",
      "60000/60000 [==============================] - 6s 103us/sample - loss: 0.2808 - accuracy: 0.8976 - val_loss: 0.3142 - val_accuracy: 0.8863\n",
      "Epoch 19/20\n",
      "60000/60000 [==============================] - 6s 97us/sample - loss: 0.2762 - accuracy: 0.9005 - val_loss: 0.3089 - val_accuracy: 0.8870\n",
      "Epoch 20/20\n",
      "60000/60000 [==============================] - 6s 100us/sample - loss: 0.2714 - accuracy: 0.9013 - val_loss: 0.3160 - val_accuracy: 0.8845\n"
     ]
    },
    {
     "data": {
      "text/plain": [
       "<tensorflow.python.keras.callbacks.History at 0x2420faa6080>"
      ]
     },
     "execution_count": 216,
     "metadata": {},
     "output_type": "execute_result"
    }
   ],
   "source": [
    "history = AccuracyHistory()\n",
    "model.fit(x_train, y_train, epochs=20, validation_freq=1, verbose=1,  validation_data=(x_test, y_test), callbacks=[history])"
   ]
  },
  {
   "cell_type": "code",
   "execution_count": 218,
   "metadata": {},
   "outputs": [
    {
     "data": {
      "image/png": "[encoded data removed]",
      "text/plain": [
       "<Figure size 432x288 with 1 Axes>"
      ]
     },
     "metadata": {},
     "output_type": "display_data"
    }
   ],
   "source": [
    "plt.plot(range(1, 21), history.accuracy, label=\"train_accuracy\")\n",
    "plt.plot(range(1, 21), history.val_accuracy, label=\"val_accuracy\")\n",
    "plt.legend()\n",
    "plt.xticks(range(1, 21, 2))\n",
    "plt.title(\"Accuracy vs epoch\")\n",
    "plt.ylabel(\"Accuracy\")\n",
    "plt.xlabel(\"Epoch number\");"
   ]
  },
  {
   "cell_type": "code",
   "execution_count": 217,
   "metadata": {},
   "outputs": [
    {
     "name": "stdout",
     "output_type": "stream",
     "text": [
      "Test loss: 0.31598590977191926\n",
      "Test accuracy: 0.8845\n"
     ]
    }
   ],
   "source": [
    "loss, accuracy = model.evaluate(x_test, y_test, verbose=0) \n",
    "print(\"Test loss:\", loss) \n",
    "print(\"Test accuracy:\", accuracy)"
   ]
  },
  {
   "cell_type": "markdown",
   "metadata": {},
   "source": [
    "#### Анализ:    \n",
    "Качество по **accuracy** на тестовой выборке выросло. Кривая обучения более гладкая. Объяснить можно наличием скрытых слоев с нелинейными функциями активации"
   ]
  },
  {
   "cell_type": "markdown",
   "metadata": {},
   "source": [
    "## 3. Сверточная нейронная сеть"
   ]
  },
  {
   "cell_type": "markdown",
   "metadata": {},
   "source": [
    "Реализовать сверточную нейронную сеть. В данном случае лучше использовать готовые слои, которые предоставляют **keras** или **tensorflow**."
   ]
  },
  {
   "cell_type": "markdown",
   "metadata": {},
   "source": [
    "#### подготовим данные (переформатируем под сверточные сети)"
   ]
  },
  {
   "cell_type": "code",
   "execution_count": 223,
   "metadata": {},
   "outputs": [],
   "source": [
    "x_train = x_train.reshape(-1, 28, 28, 1) \n",
    "x_test = x_test.reshape(-1, 28, 28, 1)"
   ]
  },
  {
   "cell_type": "markdown",
   "metadata": {},
   "source": [
    "Начните с модели с несколькими сверточными слоями. Так же рекомендуется использовать слои суб-дискретизации, например **Max Pooling** слои. Они понижают размерность сходных данных и выделяют наиболее важные признаки из данных. Посчитайте качество получившейся модели на тестовой выборке. Сравните полученные результаты с результатами полносвязной нейронной сети."
   ]
  },
  {
   "cell_type": "code",
   "execution_count": 221,
   "metadata": {},
   "outputs": [],
   "source": [
    "def create_model():\n",
    "    model = tf.keras.models.Sequential() \n",
    "    model.add(tf.keras.layers.Convolution2D(filters=32, input_shape=(28, 28, 1), kernel_size=(3, 3), activation='relu'))\n",
    "    model.add(tf.keras.layers.MaxPooling2D(pool_size=(2, 2)))\n",
    "    model.add(tf.keras.layers.Convolution2D(filters=64, kernel_size=(3, 3), activation='relu'))\n",
    "    model.add(tf.keras.layers.MaxPooling2D(pool_size=(2, 2)))\n",
    "    model.add(tf.keras.layers.Flatten())\n",
    "    model.add(tf.keras.layers.Dense(64, activation=\"relu\"))\n",
    "    model.add(tf.keras.layers.Dense(num_classes, activation=\"softmax\"))\n",
    "\n",
    "    model.compile(\n",
    "        loss=\"categorical_crossentropy\", \n",
    "        optimizer=\"sgd\", \n",
    "        metrics=[\"accuracy\"]\n",
    "    )\n",
    "    return model"
   ]
  },
  {
   "cell_type": "code",
   "execution_count": 222,
   "metadata": {},
   "outputs": [
    {
     "name": "stdout",
     "output_type": "stream",
     "text": [
      "Model: \"sequential_12\"\n",
      "_________________________________________________________________\n",
      "Layer (type)                 Output Shape              Param #   \n",
      "=================================================================\n",
      "conv2d_1 (Conv2D)            (None, 26, 26, 32)        320       \n",
      "_________________________________________________________________\n",
      "max_pooling2d (MaxPooling2D) (None, 13, 13, 32)        0         \n",
      "_________________________________________________________________\n",
      "conv2d_2 (Conv2D)            (None, 11, 11, 64)        18496     \n",
      "_________________________________________________________________\n",
      "max_pooling2d_1 (MaxPooling2 (None, 5, 5, 64)          0         \n",
      "_________________________________________________________________\n",
      "flatten (Flatten)            (None, 1600)              0         \n",
      "_________________________________________________________________\n",
      "dense_15 (Dense)             (None, 64)                102464    \n",
      "_________________________________________________________________\n",
      "dense_16 (Dense)             (None, 10)                650       \n",
      "=================================================================\n",
      "Total params: 121,930\n",
      "Trainable params: 121,930\n",
      "Non-trainable params: 0\n",
      "_________________________________________________________________\n"
     ]
    }
   ],
   "source": [
    "model = create_model()\n",
    "model.summary()"
   ]
  },
  {
   "cell_type": "code",
   "execution_count": 224,
   "metadata": {
    "scrolled": true
   },
   "outputs": [
    {
     "name": "stdout",
     "output_type": "stream",
     "text": [
      "Train on 60000 samples, validate on 10000 samples\n",
      "Epoch 1/20\n",
      "60000/60000 [==============================] - 37s 623us/sample - loss: 0.9316 - accuracy: 0.6615 - val_loss: 0.6117 - val_accuracy: 0.7764\n",
      "Epoch 2/20\n",
      "60000/60000 [==============================] - 41s 685us/sample - loss: 0.5603 - accuracy: 0.7885 - val_loss: 0.5106 - val_accuracy: 0.8111\n",
      "Epoch 3/20\n",
      "60000/60000 [==============================] - 40s 661us/sample - loss: 0.4840 - accuracy: 0.8234 - val_loss: 0.4490 - val_accuracy: 0.8405\n",
      "Epoch 4/20\n",
      "60000/60000 [==============================] - 41s 682us/sample - loss: 0.4382 - accuracy: 0.8411 - val_loss: 0.4216 - val_accuracy: 0.8469\n",
      "Epoch 5/20\n",
      "60000/60000 [==============================] - 41s 676us/sample - loss: 0.4060 - accuracy: 0.8544 - val_loss: 0.3908 - val_accuracy: 0.8595\n",
      "Epoch 6/20\n",
      "60000/60000 [==============================] - 38s 634us/sample - loss: 0.3840 - accuracy: 0.8616 - val_loss: 0.3694 - val_accuracy: 0.8691\n",
      "Epoch 7/20\n",
      "60000/60000 [==============================] - 37s 621us/sample - loss: 0.3654 - accuracy: 0.8679 - val_loss: 0.3575 - val_accuracy: 0.8707\n",
      "Epoch 8/20\n",
      "60000/60000 [==============================] - 39s 655us/sample - loss: 0.3515 - accuracy: 0.8724 - val_loss: 0.3558 - val_accuracy: 0.8678\n",
      "Epoch 9/20\n",
      "60000/60000 [==============================] - 40s 666us/sample - loss: 0.3385 - accuracy: 0.8764 - val_loss: 0.3416 - val_accuracy: 0.8747\n",
      "Epoch 10/20\n",
      "60000/60000 [==============================] - 38s 632us/sample - loss: 0.3300 - accuracy: 0.8806 - val_loss: 0.3272 - val_accuracy: 0.8809\n",
      "Epoch 11/20\n",
      "60000/60000 [==============================] - 42s 705us/sample - loss: 0.3206 - accuracy: 0.8836 - val_loss: 0.3427 - val_accuracy: 0.8740\n",
      "Epoch 12/20\n",
      "60000/60000 [==============================] - 39s 650us/sample - loss: 0.3113 - accuracy: 0.8862 - val_loss: 0.3126 - val_accuracy: 0.8867\n",
      "Epoch 13/20\n",
      "60000/60000 [==============================] - 39s 646us/sample - loss: 0.3026 - accuracy: 0.8899 - val_loss: 0.3061 - val_accuracy: 0.8901\n",
      "Epoch 14/20\n",
      "60000/60000 [==============================] - 46s 775us/sample - loss: 0.2952 - accuracy: 0.8930 - val_loss: 0.3065 - val_accuracy: 0.8878\n",
      "Epoch 15/20\n",
      "60000/60000 [==============================] - 44s 736us/sample - loss: 0.2891 - accuracy: 0.8937 - val_loss: 0.3292 - val_accuracy: 0.8810\n",
      "Epoch 16/20\n",
      "60000/60000 [==============================] - 43s 714us/sample - loss: 0.2825 - accuracy: 0.8969 - val_loss: 0.2953 - val_accuracy: 0.8918\n",
      "Epoch 17/20\n",
      "60000/60000 [==============================] - 41s 679us/sample - loss: 0.2766 - accuracy: 0.8989 - val_loss: 0.2938 - val_accuracy: 0.8942\n",
      "Epoch 18/20\n",
      "60000/60000 [==============================] - 38s 626us/sample - loss: 0.2709 - accuracy: 0.9015 - val_loss: 0.2904 - val_accuracy: 0.8939\n",
      "Epoch 19/20\n",
      "60000/60000 [==============================] - 40s 662us/sample - loss: 0.2655 - accuracy: 0.9029 - val_loss: 0.2922 - val_accuracy: 0.8944\n",
      "Epoch 20/20\n",
      "60000/60000 [==============================] - 43s 712us/sample - loss: 0.2604 - accuracy: 0.9044 - val_loss: 0.2869 - val_accuracy: 0.8951\n"
     ]
    },
    {
     "data": {
      "text/plain": [
       "<tensorflow.python.keras.callbacks.History at 0x24210527748>"
      ]
     },
     "execution_count": 224,
     "metadata": {},
     "output_type": "execute_result"
    }
   ],
   "source": [
    "history = AccuracyHistory()\n",
    "model.fit(x_train, y_train, epochs=20, validation_freq=1, verbose=1,  validation_data=(x_test, y_test), callbacks=[history])"
   ]
  },
  {
   "cell_type": "code",
   "execution_count": 225,
   "metadata": {},
   "outputs": [
    {
     "data": {
      "image/png": "[encoded data removed]",
      "text/plain": [
       "<Figure size 432x288 with 1 Axes>"
      ]
     },
     "metadata": {},
     "output_type": "display_data"
    }
   ],
   "source": [
    "plt.plot(range(1, 21), history.accuracy, label=\"train_accuracy\")\n",
    "plt.plot(range(1, 21), history.val_accuracy, label=\"val_accuracy\")\n",
    "plt.legend()\n",
    "plt.xticks(range(1, 21, 2))\n",
    "plt.title(\"Accuracy vs epoch\")\n",
    "plt.ylabel(\"Accuracy\")\n",
    "plt.xlabel(\"Epoch number\");"
   ]
  },
  {
   "cell_type": "code",
   "execution_count": 226,
   "metadata": {},
   "outputs": [
    {
     "name": "stdout",
     "output_type": "stream",
     "text": [
      "Test loss: 0.28685546140670776\n",
      "Test accuracy: 0.8951\n"
     ]
    }
   ],
   "source": [
    "loss, accuracy = model.evaluate(x_test, y_test, verbose=0) \n",
    "print(\"Test loss:\", loss) \n",
    "print(\"Test accuracy:\", accuracy)"
   ]
  },
  {
   "cell_type": "markdown",
   "metadata": {},
   "source": [
    "Далее, попробуйте увеличить количество слоев в вашей нейронной сети. Достаточно добавить несколько новых сверточных слоев. Проанализируете, как изменилось качество в этом случае."
   ]
  },
  {
   "cell_type": "markdown",
   "metadata": {},
   "source": [
    "Добавим два **Convolution** слоя (без пуллинга, уже маловато разрешения для этого)"
   ]
  },
  {
   "cell_type": "code",
   "execution_count": 233,
   "metadata": {},
   "outputs": [],
   "source": [
    "def create_model():\n",
    "    model = tf.keras.models.Sequential() \n",
    "    model.add(tf.keras.layers.Convolution2D(filters=32, input_shape=(28, 28, 1), kernel_size=(3, 3), activation='relu'))\n",
    "    model.add(tf.keras.layers.MaxPooling2D(pool_size=(2, 2)))\n",
    "    model.add(tf.keras.layers.Convolution2D(filters=64, kernel_size=(3, 3), activation='relu'))\n",
    "    model.add(tf.keras.layers.MaxPooling2D(pool_size=(2, 2)))\n",
    "    model.add(tf.keras.layers.Convolution2D(filters=64, kernel_size=(3, 3), activation='relu'))\n",
    "    model.add(tf.keras.layers.Convolution2D(filters=64, kernel_size=(3, 3), activation='relu'))\n",
    "    model.add(tf.keras.layers.Flatten())\n",
    "    model.add(tf.keras.layers.Dense(64, activation=\"relu\"))\n",
    "    model.add(tf.keras.layers.Dense(num_classes, activation=\"softmax\"))\n",
    "\n",
    "    model.compile(\n",
    "        loss=\"categorical_crossentropy\", \n",
    "        optimizer=\"sgd\", \n",
    "        metrics=[\"accuracy\"]\n",
    "    )\n",
    "    return model"
   ]
  },
  {
   "cell_type": "code",
   "execution_count": 234,
   "metadata": {},
   "outputs": [
    {
     "name": "stdout",
     "output_type": "stream",
     "text": [
      "Model: \"sequential_16\"\n",
      "_________________________________________________________________\n",
      "Layer (type)                 Output Shape              Param #   \n",
      "=================================================================\n",
      "conv2d_12 (Conv2D)           (None, 26, 26, 32)        320       \n",
      "_________________________________________________________________\n",
      "max_pooling2d_10 (MaxPooling (None, 13, 13, 32)        0         \n",
      "_________________________________________________________________\n",
      "conv2d_13 (Conv2D)           (None, 11, 11, 64)        18496     \n",
      "_________________________________________________________________\n",
      "max_pooling2d_11 (MaxPooling (None, 5, 5, 64)          0         \n",
      "_________________________________________________________________\n",
      "conv2d_14 (Conv2D)           (None, 3, 3, 64)          36928     \n",
      "_________________________________________________________________\n",
      "conv2d_15 (Conv2D)           (None, 1, 1, 64)          36928     \n",
      "_________________________________________________________________\n",
      "flatten_3 (Flatten)          (None, 64)                0         \n",
      "_________________________________________________________________\n",
      "dense_21 (Dense)             (None, 64)                4160      \n",
      "_________________________________________________________________\n",
      "dense_22 (Dense)             (None, 10)                650       \n",
      "=================================================================\n",
      "Total params: 97,482\n",
      "Trainable params: 97,482\n",
      "Non-trainable params: 0\n",
      "_________________________________________________________________\n"
     ]
    }
   ],
   "source": [
    "model = create_model()\n",
    "model.summary()"
   ]
  },
  {
   "cell_type": "code",
   "execution_count": 235,
   "metadata": {},
   "outputs": [
    {
     "name": "stdout",
     "output_type": "stream",
     "text": [
      "Train on 60000 samples, validate on 10000 samples\n",
      "Epoch 1/20\n",
      "60000/60000 [==============================] - 40s 661us/sample - loss: 1.1376 - accuracy: 0.5725 - val_loss: 0.7482 - val_accuracy: 0.7127\n",
      "Epoch 2/20\n",
      "60000/60000 [==============================] - 42s 698us/sample - loss: 0.6471 - accuracy: 0.7549 - val_loss: 0.5770 - val_accuracy: 0.7851\n",
      "Epoch 3/20\n",
      "60000/60000 [==============================] - 43s 715us/sample - loss: 0.5432 - accuracy: 0.7978 - val_loss: 0.4805 - val_accuracy: 0.8274\n",
      "Epoch 4/20\n",
      "60000/60000 [==============================] - 44s 740us/sample - loss: 0.4843 - accuracy: 0.8195 - val_loss: 0.4471 - val_accuracy: 0.8330\n",
      "Epoch 5/20\n",
      "60000/60000 [==============================] - 42s 692us/sample - loss: 0.4420 - accuracy: 0.8371 - val_loss: 0.4106 - val_accuracy: 0.8498\n",
      "Epoch 6/20\n",
      "60000/60000 [==============================] - 42s 694us/sample - loss: 0.4083 - accuracy: 0.8503 - val_loss: 0.3954 - val_accuracy: 0.8549\n",
      "Epoch 7/20\n",
      "60000/60000 [==============================] - 42s 708us/sample - loss: 0.3829 - accuracy: 0.8606 - val_loss: 0.3652 - val_accuracy: 0.8635\n",
      "Epoch 8/20\n",
      "60000/60000 [==============================] - 44s 726us/sample - loss: 0.3627 - accuracy: 0.8681 - val_loss: 0.3543 - val_accuracy: 0.8658\n",
      "Epoch 9/20\n",
      "60000/60000 [==============================] - 44s 729us/sample - loss: 0.3453 - accuracy: 0.8737 - val_loss: 0.3366 - val_accuracy: 0.8779\n",
      "Epoch 10/20\n",
      "60000/60000 [==============================] - 40s 673us/sample - loss: 0.3329 - accuracy: 0.8780 - val_loss: 0.3335 - val_accuracy: 0.8753\n",
      "Epoch 11/20\n",
      "60000/60000 [==============================] - 40s 674us/sample - loss: 0.3207 - accuracy: 0.8823 - val_loss: 0.3361 - val_accuracy: 0.8780\n",
      "Epoch 12/20\n",
      "60000/60000 [==============================] - 42s 702us/sample - loss: 0.3082 - accuracy: 0.8878 - val_loss: 0.3207 - val_accuracy: 0.8805\n",
      "Epoch 13/20\n",
      "60000/60000 [==============================] - 40s 667us/sample - loss: 0.2989 - accuracy: 0.8892 - val_loss: 0.3237 - val_accuracy: 0.8791\n",
      "Epoch 14/20\n",
      "60000/60000 [==============================] - 41s 676us/sample - loss: 0.2898 - accuracy: 0.8921 - val_loss: 0.3085 - val_accuracy: 0.8868 - accu\n",
      "Epoch 15/20\n",
      "60000/60000 [==============================] - 43s 722us/sample - loss: 0.2826 - accuracy: 0.8954 - val_loss: 0.2869 - val_accuracy: 0.8957\n",
      "Epoch 16/20\n",
      "60000/60000 [==============================] - 43s 722us/sample - loss: 0.2741 - accuracy: 0.8987 - val_loss: 0.3062 - val_accuracy: 0.8871\n",
      "Epoch 17/20\n",
      "60000/60000 [==============================] - 43s 723us/sample - loss: 0.2662 - accuracy: 0.9020 - val_loss: 0.2967 - val_accuracy: 0.8914\n",
      "Epoch 18/20\n",
      "60000/60000 [==============================] - 43s 720us/sample - loss: 0.2602 - accuracy: 0.9028 - val_loss: 0.3052 - val_accuracy: 0.8904\n",
      "Epoch 19/20\n",
      "60000/60000 [==============================] - 42s 699us/sample - loss: 0.2535 - accuracy: 0.9058 - val_loss: 0.2789 - val_accuracy: 0.8997\n",
      "Epoch 20/20\n",
      "60000/60000 [==============================] - 45s 747us/sample - loss: 0.2480 - accuracy: 0.9095 - val_loss: 0.2913 - val_accuracy: 0.8934\n"
     ]
    },
    {
     "data": {
      "text/plain": [
       "<tensorflow.python.keras.callbacks.History at 0x2420b880278>"
      ]
     },
     "execution_count": 235,
     "metadata": {},
     "output_type": "execute_result"
    }
   ],
   "source": [
    "history = AccuracyHistory()\n",
    "model.fit(x_train, y_train, epochs=20, validation_freq=1, verbose=1,  validation_data=(x_test, y_test), callbacks=[history])"
   ]
  },
  {
   "cell_type": "code",
   "execution_count": 236,
   "metadata": {},
   "outputs": [
    {
     "data": {
      "image/png": "[encoded data removed]",
      "text/plain": [
       "<Figure size 432x288 with 1 Axes>"
      ]
     },
     "metadata": {},
     "output_type": "display_data"
    }
   ],
   "source": [
    "plt.plot(range(1, 21), history.accuracy, label=\"train_accuracy\")\n",
    "plt.plot(range(1, 21), history.val_accuracy, label=\"val_accuracy\")\n",
    "plt.legend()\n",
    "plt.xticks(range(1, 21, 2))\n",
    "plt.title(\"Accuracy vs epoch\")\n",
    "plt.ylabel(\"Accuracy\")\n",
    "plt.xlabel(\"Epoch number\");"
   ]
  },
  {
   "cell_type": "code",
   "execution_count": 237,
   "metadata": {},
   "outputs": [
    {
     "name": "stdout",
     "output_type": "stream",
     "text": [
      "Test loss: 0.29134188413619994\n",
      "Test accuracy: 0.8934\n"
     ]
    }
   ],
   "source": [
    "loss, accuracy = model.evaluate(x_test, y_test, verbose=0) \n",
    "print(\"Test loss:\", loss) \n",
    "print(\"Test accuracy:\", accuracy)"
   ]
  },
  {
   "cell_type": "markdown",
   "metadata": {},
   "source": [
    "В заключение, рекомендуется попробовать добавить **Batch Normalization** слои. Обычно они располагаются после сверточных слоев или слоев полносвязной нейронной сети. Обычно они улучшают качество модели, этим объясняется их популярность использования в современных архитектурах нейронных сетей. Однако, это требует проверки для конкретной модели и конкретного набора данных."
   ]
  },
  {
   "cell_type": "code",
   "execution_count": 238,
   "metadata": {},
   "outputs": [],
   "source": [
    "def create_model():\n",
    "    model = tf.keras.models.Sequential() \n",
    "    model.add(tf.keras.layers.Convolution2D(filters=32, input_shape=(28, 28, 1), kernel_size=(3, 3), activation='relu'))\n",
    "    model.add(tf.keras.layers.MaxPooling2D(pool_size=(2, 2)))\n",
    "    model.add(tf.keras.layers.Convolution2D(filters=64, kernel_size=(3, 3), activation='relu'))\n",
    "    model.add(tf.keras.layers.BatchNormalization())\n",
    "    model.add(tf.keras.layers.MaxPooling2D(pool_size=(2, 2)))\n",
    "    model.add(tf.keras.layers.Convolution2D(filters=64, kernel_size=(3, 3), activation='relu'))\n",
    "    model.add(tf.keras.layers.BatchNormalization())\n",
    "    model.add(tf.keras.layers.Convolution2D(filters=64, kernel_size=(3, 3), activation='relu'))\n",
    "    model.add(tf.keras.layers.Flatten())\n",
    "    model.add(tf.keras.layers.Dense(64, activation=\"relu\"))\n",
    "    model.add(tf.keras.layers.BatchNormalization())\n",
    "    model.add(tf.keras.layers.Dense(num_classes, activation=\"softmax\"))\n",
    "\n",
    "    model.compile(\n",
    "        loss=\"categorical_crossentropy\", \n",
    "        optimizer=\"sgd\", \n",
    "        metrics=[\"accuracy\"]\n",
    "    )\n",
    "    return model"
   ]
  },
  {
   "cell_type": "code",
   "execution_count": 239,
   "metadata": {},
   "outputs": [
    {
     "name": "stdout",
     "output_type": "stream",
     "text": [
      "Model: \"sequential_17\"\n",
      "_________________________________________________________________\n",
      "Layer (type)                 Output Shape              Param #   \n",
      "=================================================================\n",
      "conv2d_16 (Conv2D)           (None, 26, 26, 32)        320       \n",
      "_________________________________________________________________\n",
      "max_pooling2d_12 (MaxPooling (None, 13, 13, 32)        0         \n",
      "_________________________________________________________________\n",
      "conv2d_17 (Conv2D)           (None, 11, 11, 64)        18496     \n",
      "_________________________________________________________________\n",
      "batch_normalization (BatchNo (None, 11, 11, 64)        256       \n",
      "_________________________________________________________________\n",
      "max_pooling2d_13 (MaxPooling (None, 5, 5, 64)          0         \n",
      "_________________________________________________________________\n",
      "conv2d_18 (Conv2D)           (None, 3, 3, 64)          36928     \n",
      "_________________________________________________________________\n",
      "batch_normalization_1 (Batch (None, 3, 3, 64)          256       \n",
      "_________________________________________________________________\n",
      "conv2d_19 (Conv2D)           (None, 1, 1, 64)          36928     \n",
      "_________________________________________________________________\n",
      "flatten_4 (Flatten)          (None, 64)                0         \n",
      "_________________________________________________________________\n",
      "dense_23 (Dense)             (None, 64)                4160      \n",
      "_________________________________________________________________\n",
      "batch_normalization_2 (Batch (None, 64)                256       \n",
      "_________________________________________________________________\n",
      "dense_24 (Dense)             (None, 10)                650       \n",
      "=================================================================\n",
      "Total params: 98,250\n",
      "Trainable params: 97,866\n",
      "Non-trainable params: 384\n",
      "_________________________________________________________________\n"
     ]
    }
   ],
   "source": [
    "model = create_model()\n",
    "model.summary()"
   ]
  },
  {
   "cell_type": "code",
   "execution_count": 240,
   "metadata": {},
   "outputs": [
    {
     "name": "stdout",
     "output_type": "stream",
     "text": [
      "Train on 60000 samples, validate on 10000 samples\n",
      "Epoch 1/20\n",
      "60000/60000 [==============================] - 57s 949us/sample - loss: 0.4934 - accuracy: 0.8263 - val_loss: 0.4445 - val_accuracy: 0.8363\n",
      "Epoch 2/20\n",
      "60000/60000 [==============================] - 55s 910us/sample - loss: 0.3445 - accuracy: 0.8779 - val_loss: 0.3235 - val_accuracy: 0.8854\n",
      "Epoch 3/20\n",
      "60000/60000 [==============================] - 53s 888us/sample - loss: 0.3037 - accuracy: 0.8904 - val_loss: 0.2963 - val_accuracy: 0.8934\n",
      "Epoch 4/20\n",
      "60000/60000 [==============================] - 53s 876us/sample - loss: 0.2744 - accuracy: 0.9017 - val_loss: 0.2813 - val_accuracy: 0.8984\n",
      "Epoch 5/20\n",
      "60000/60000 [==============================] - 54s 907us/sample - loss: 0.2542 - accuracy: 0.9088 - val_loss: 0.2842 - val_accuracy: 0.8964\n",
      "Epoch 6/20\n",
      "60000/60000 [==============================] - 53s 876us/sample - loss: 0.2366 - accuracy: 0.9138 - val_loss: 0.2795 - val_accuracy: 0.9005\n",
      "Epoch 7/20\n",
      "60000/60000 [==============================] - 55s 923us/sample - loss: 0.2244 - accuracy: 0.9181 - val_loss: 0.2892 - val_accuracy: 0.8948\n",
      "Epoch 8/20\n",
      "60000/60000 [==============================] - 53s 890us/sample - loss: 0.2136 - accuracy: 0.9214 - val_loss: 0.2683 - val_accuracy: 0.9031\n",
      "Epoch 9/20\n",
      "60000/60000 [==============================] - 55s 913us/sample - loss: 0.2024 - accuracy: 0.9260 - val_loss: 0.2531 - val_accuracy: 0.9095\n",
      "Epoch 10/20\n",
      "60000/60000 [==============================] - 53s 878us/sample - loss: 0.1893 - accuracy: 0.9319 - val_loss: 0.2650 - val_accuracy: 0.9076\n",
      "Epoch 11/20\n",
      "60000/60000 [==============================] - 54s 902us/sample - loss: 0.1812 - accuracy: 0.9344 - val_loss: 0.2632 - val_accuracy: 0.9095\n",
      "Epoch 12/20\n",
      "60000/60000 [==============================] - 54s 900us/sample - loss: 0.1713 - accuracy: 0.9382 - val_loss: 0.2863 - val_accuracy: 0.8986\n",
      "Epoch 13/20\n",
      "60000/60000 [==============================] - 53s 885us/sample - loss: 0.1644 - accuracy: 0.9388 - val_loss: 0.2512 - val_accuracy: 0.9125\n",
      "Epoch 14/20\n",
      "60000/60000 [==============================] - 55s 914us/sample - loss: 0.1561 - accuracy: 0.9430 - val_loss: 0.2660 - val_accuracy: 0.9077\n",
      "Epoch 15/20\n",
      "60000/60000 [==============================] - 54s 894us/sample - loss: 0.1487 - accuracy: 0.9457 - val_loss: 0.2603 - val_accuracy: 0.9097\n",
      "Epoch 16/20\n",
      "60000/60000 [==============================] - 56s 928us/sample - loss: 0.1427 - accuracy: 0.9468 - val_loss: 0.2670 - val_accuracy: 0.9053\n",
      "Epoch 17/20\n",
      "60000/60000 [==============================] - 52s 859us/sample - loss: 0.1364 - accuracy: 0.9496 - val_loss: 0.2678 - val_accuracy: 0.9080\n",
      "Epoch 18/20\n",
      "60000/60000 [==============================] - 53s 889us/sample - loss: 0.1308 - accuracy: 0.9523 - val_loss: 0.2775 - val_accuracy: 0.9074\n",
      "Epoch 19/20\n",
      "60000/60000 [==============================] - 51s 852us/sample - loss: 0.1228 - accuracy: 0.9547 - val_loss: 0.2774 - val_accuracy: 0.9101\n",
      "Epoch 20/20\n",
      "60000/60000 [==============================] - 54s 896us/sample - loss: 0.1193 - accuracy: 0.9567 - val_loss: 0.2845 - val_accuracy: 0.9088\n"
     ]
    },
    {
     "data": {
      "text/plain": [
       "<tensorflow.python.keras.callbacks.History at 0x2420c326080>"
      ]
     },
     "execution_count": 240,
     "metadata": {},
     "output_type": "execute_result"
    }
   ],
   "source": [
    "history = AccuracyHistory()\n",
    "model.fit(x_train, y_train, epochs=20, validation_freq=1, verbose=1,  validation_data=(x_test, y_test), callbacks=[history])"
   ]
  },
  {
   "cell_type": "code",
   "execution_count": 241,
   "metadata": {},
   "outputs": [
    {
     "data": {
      "image/png": "[encoded data removed]",
      "text/plain": [
       "<Figure size 432x288 with 1 Axes>"
      ]
     },
     "metadata": {},
     "output_type": "display_data"
    }
   ],
   "source": [
    "plt.plot(range(1, 21), history.accuracy, label=\"train_accuracy\")\n",
    "plt.plot(range(1, 21), history.val_accuracy, label=\"val_accuracy\")\n",
    "plt.legend()\n",
    "plt.xticks(range(1, 21, 2))\n",
    "plt.title(\"Accuracy vs epoch\")\n",
    "plt.ylabel(\"Accuracy\")\n",
    "plt.xlabel(\"Epoch number\");"
   ]
  },
  {
   "cell_type": "code",
   "execution_count": 242,
   "metadata": {},
   "outputs": [
    {
     "name": "stdout",
     "output_type": "stream",
     "text": [
      "Test loss: 0.2844568016797304\n",
      "Test accuracy: 0.9088\n"
     ]
    }
   ],
   "source": [
    "loss, accuracy = model.evaluate(x_test, y_test, verbose=0) \n",
    "print(\"Test loss:\", loss) \n",
    "print(\"Test accuracy:\", accuracy)"
   ]
  },
  {
   "cell_type": "markdown",
   "metadata": {},
   "source": [
    "### Выводы:    \n",
    "Сверточные слои качество сети улучшило.   \n",
    "Дальнейшее добавление сверточных слоев уже эффекта не дало, видимо - произошло насыщение.    \n",
    "Добавление батч-нормализации качество улучшило. Хотя, надо отметить, мы увидели сильное переобучение. Возможно, добавление регуляризующих слоев алгоритм может улучшить."
   ]
  }
 ],
 "metadata": {
  "kernelspec": {
   "display_name": "Python 3",
   "language": "python",
   "name": "python3"
  },
  "language_info": {
   "codemirror_mode": {
    "name": "ipython",
    "version": 3
   },
   "file_extension": ".py",
   "mimetype": "text/x-python",
   "name": "python",
   "nbconvert_exporter": "python",
   "pygments_lexer": "ipython3",
   "version": "3.7.3"
  }
 },
 "nbformat": 4,
 "nbformat_minor": 2
}
