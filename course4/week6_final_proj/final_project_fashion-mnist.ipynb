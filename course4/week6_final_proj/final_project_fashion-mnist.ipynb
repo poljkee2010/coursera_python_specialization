{
 "cells": [
  {
   "cell_type": "markdown",
   "metadata": {},
   "source": [
    "# <center>Итоговый проект: Fashion-MNIST"
   ]
  },
  {
   "cell_type": "markdown",
   "metadata": {},
   "source": [
    "Fashion-MNIST – это датасет состоящий из 70000 черно-белых изображений одежды 28х28 пикселей каждое. 60000 из них содержатся в тренировочной выборке, и 10000 – в тестовой. Этот набор данных представляет из себя альтернативу обычному датасету рукописных цифр MNIST. Существовало несколько предпосылок для создания такого набора данных.\n",
    "\n",
    "Большинство исследователей в области машинного и глубинного обучения используют MNIST при первой проверки своих моделей, что не всегда является хорошей идеей. Если какая-то модель не работает на датасете MNIST – это не значит, что она не работает в принципе. Если какая-то модель прекрасно работает на датасете MNIST – это не означает, что она так же хорошо будет работать на других датасетах. Известны случаи в отказе публикации некоторых статей из-за недостаточно хорошего качества модели на MNIST. Поэтому Zalando Research предложили альтернативу.\n",
    "\n",
    "В Fashion-MNIST содержится 10 классов разной одежды по аналогии с 10 цифрами из MNIST. Скачать датасет и найти его подробное описание можно найти здесь\n",
    "\n",
    "- [Fashion-MNIST](https://www.kaggle.com/zalando-research/fashionmnist)"
   ]
  },
  {
   "cell_type": "code",
   "execution_count": 1,
   "metadata": {},
   "outputs": [],
   "source": [
    "import os\n",
    "import pandas as pd\n",
    "import tensorflow as tf\n",
    "\n",
    "import matplotlib.pyplot as plt"
   ]
  },
  {
   "cell_type": "code",
   "execution_count": 14,
   "metadata": {},
   "outputs": [],
   "source": [
    "from sklearn.model_selection import train_test_split\n",
    "import random"
   ]
  },
  {
   "cell_type": "code",
   "execution_count": 2,
   "metadata": {},
   "outputs": [],
   "source": [
    "# plt.style.use('ggplot')"
   ]
  },
  {
   "cell_type": "code",
   "execution_count": 3,
   "metadata": {},
   "outputs": [],
   "source": [
    "path_to_data = \"data\""
   ]
  },
  {
   "cell_type": "markdown",
   "metadata": {},
   "source": [
    "### Загрузка данных"
   ]
  },
  {
   "cell_type": "code",
   "execution_count": 4,
   "metadata": {},
   "outputs": [
    {
     "data": {
      "text/plain": [
       "(10000, 785)"
      ]
     },
     "execution_count": 4,
     "metadata": {},
     "output_type": "execute_result"
    }
   ],
   "source": [
    "data_test = pd.read_csv(os.path.join(path_to_data, \"fashion-mnist_test.csv\"))\n",
    "data_test.shape"
   ]
  },
  {
   "cell_type": "code",
   "execution_count": 5,
   "metadata": {},
   "outputs": [
    {
     "data": {
      "text/html": [
       "<div>\n",
       "<style scoped>\n",
       "    .dataframe tbody tr th:only-of-type {\n",
       "        vertical-align: middle;\n",
       "    }\n",
       "\n",
       "    .dataframe tbody tr th {\n",
       "        vertical-align: top;\n",
       "    }\n",
       "\n",
       "    .dataframe thead th {\n",
       "        text-align: right;\n",
       "    }\n",
       "</style>\n",
       "<table border=\"1\" class=\"dataframe\">\n",
       "  <thead>\n",
       "    <tr style=\"text-align: right;\">\n",
       "      <th></th>\n",
       "      <th>label</th>\n",
       "      <th>pixel1</th>\n",
       "      <th>pixel2</th>\n",
       "      <th>pixel3</th>\n",
       "      <th>pixel4</th>\n",
       "      <th>pixel5</th>\n",
       "      <th>pixel6</th>\n",
       "      <th>pixel7</th>\n",
       "      <th>pixel8</th>\n",
       "      <th>pixel9</th>\n",
       "      <th>...</th>\n",
       "      <th>pixel775</th>\n",
       "      <th>pixel776</th>\n",
       "      <th>pixel777</th>\n",
       "      <th>pixel778</th>\n",
       "      <th>pixel779</th>\n",
       "      <th>pixel780</th>\n",
       "      <th>pixel781</th>\n",
       "      <th>pixel782</th>\n",
       "      <th>pixel783</th>\n",
       "      <th>pixel784</th>\n",
       "    </tr>\n",
       "  </thead>\n",
       "  <tbody>\n",
       "    <tr>\n",
       "      <td>0</td>\n",
       "      <td>0</td>\n",
       "      <td>0</td>\n",
       "      <td>0</td>\n",
       "      <td>0</td>\n",
       "      <td>0</td>\n",
       "      <td>0</td>\n",
       "      <td>0</td>\n",
       "      <td>0</td>\n",
       "      <td>9</td>\n",
       "      <td>8</td>\n",
       "      <td>...</td>\n",
       "      <td>103</td>\n",
       "      <td>87</td>\n",
       "      <td>56</td>\n",
       "      <td>0</td>\n",
       "      <td>0</td>\n",
       "      <td>0</td>\n",
       "      <td>0</td>\n",
       "      <td>0</td>\n",
       "      <td>0</td>\n",
       "      <td>0</td>\n",
       "    </tr>\n",
       "    <tr>\n",
       "      <td>1</td>\n",
       "      <td>1</td>\n",
       "      <td>0</td>\n",
       "      <td>0</td>\n",
       "      <td>0</td>\n",
       "      <td>0</td>\n",
       "      <td>0</td>\n",
       "      <td>0</td>\n",
       "      <td>0</td>\n",
       "      <td>0</td>\n",
       "      <td>0</td>\n",
       "      <td>...</td>\n",
       "      <td>34</td>\n",
       "      <td>0</td>\n",
       "      <td>0</td>\n",
       "      <td>0</td>\n",
       "      <td>0</td>\n",
       "      <td>0</td>\n",
       "      <td>0</td>\n",
       "      <td>0</td>\n",
       "      <td>0</td>\n",
       "      <td>0</td>\n",
       "    </tr>\n",
       "    <tr>\n",
       "      <td>2</td>\n",
       "      <td>2</td>\n",
       "      <td>0</td>\n",
       "      <td>0</td>\n",
       "      <td>0</td>\n",
       "      <td>0</td>\n",
       "      <td>0</td>\n",
       "      <td>0</td>\n",
       "      <td>14</td>\n",
       "      <td>53</td>\n",
       "      <td>99</td>\n",
       "      <td>...</td>\n",
       "      <td>0</td>\n",
       "      <td>0</td>\n",
       "      <td>0</td>\n",
       "      <td>0</td>\n",
       "      <td>63</td>\n",
       "      <td>53</td>\n",
       "      <td>31</td>\n",
       "      <td>0</td>\n",
       "      <td>0</td>\n",
       "      <td>0</td>\n",
       "    </tr>\n",
       "    <tr>\n",
       "      <td>3</td>\n",
       "      <td>2</td>\n",
       "      <td>0</td>\n",
       "      <td>0</td>\n",
       "      <td>0</td>\n",
       "      <td>0</td>\n",
       "      <td>0</td>\n",
       "      <td>0</td>\n",
       "      <td>0</td>\n",
       "      <td>0</td>\n",
       "      <td>0</td>\n",
       "      <td>...</td>\n",
       "      <td>137</td>\n",
       "      <td>126</td>\n",
       "      <td>140</td>\n",
       "      <td>0</td>\n",
       "      <td>133</td>\n",
       "      <td>224</td>\n",
       "      <td>222</td>\n",
       "      <td>56</td>\n",
       "      <td>0</td>\n",
       "      <td>0</td>\n",
       "    </tr>\n",
       "    <tr>\n",
       "      <td>4</td>\n",
       "      <td>3</td>\n",
       "      <td>0</td>\n",
       "      <td>0</td>\n",
       "      <td>0</td>\n",
       "      <td>0</td>\n",
       "      <td>0</td>\n",
       "      <td>0</td>\n",
       "      <td>0</td>\n",
       "      <td>0</td>\n",
       "      <td>0</td>\n",
       "      <td>...</td>\n",
       "      <td>0</td>\n",
       "      <td>0</td>\n",
       "      <td>0</td>\n",
       "      <td>0</td>\n",
       "      <td>0</td>\n",
       "      <td>0</td>\n",
       "      <td>0</td>\n",
       "      <td>0</td>\n",
       "      <td>0</td>\n",
       "      <td>0</td>\n",
       "    </tr>\n",
       "  </tbody>\n",
       "</table>\n",
       "<p>5 rows × 785 columns</p>\n",
       "</div>"
      ],
      "text/plain": [
       "   label  pixel1  pixel2  pixel3  pixel4  pixel5  pixel6  pixel7  pixel8  \\\n",
       "0      0       0       0       0       0       0       0       0       9   \n",
       "1      1       0       0       0       0       0       0       0       0   \n",
       "2      2       0       0       0       0       0       0      14      53   \n",
       "3      2       0       0       0       0       0       0       0       0   \n",
       "4      3       0       0       0       0       0       0       0       0   \n",
       "\n",
       "   pixel9  ...  pixel775  pixel776  pixel777  pixel778  pixel779  pixel780  \\\n",
       "0       8  ...       103        87        56         0         0         0   \n",
       "1       0  ...        34         0         0         0         0         0   \n",
       "2      99  ...         0         0         0         0        63        53   \n",
       "3       0  ...       137       126       140         0       133       224   \n",
       "4       0  ...         0         0         0         0         0         0   \n",
       "\n",
       "   pixel781  pixel782  pixel783  pixel784  \n",
       "0         0         0         0         0  \n",
       "1         0         0         0         0  \n",
       "2        31         0         0         0  \n",
       "3       222        56         0         0  \n",
       "4         0         0         0         0  \n",
       "\n",
       "[5 rows x 785 columns]"
      ]
     },
     "execution_count": 5,
     "metadata": {},
     "output_type": "execute_result"
    }
   ],
   "source": [
    "data_test.head()"
   ]
  },
  {
   "cell_type": "code",
   "execution_count": 6,
   "metadata": {},
   "outputs": [
    {
     "data": {
      "text/plain": [
       "(60000, 785)"
      ]
     },
     "execution_count": 6,
     "metadata": {},
     "output_type": "execute_result"
    }
   ],
   "source": [
    "data_train = pd.read_csv(os.path.join(path_to_data, \"fashion-mnist_train.csv\"))\n",
    "data_train.shape"
   ]
  },
  {
   "cell_type": "markdown",
   "metadata": {},
   "source": [
    "В данном случае, количество признаков равно 28x28=784, так же мы имеем 60000 объектов в тренировочной выборке."
   ]
  },
  {
   "cell_type": "markdown",
   "metadata": {},
   "source": [
    "### посмотрим на силуэты, с которыми будем работать"
   ]
  },
  {
   "cell_type": "code",
   "execution_count": 7,
   "metadata": {},
   "outputs": [],
   "source": [
    "def picture_show(data, num, ax=plt):\n",
    "    picture = data.drop(\"label\", axis=1).values[num].reshape((28, 28))\n",
    "    ax.imshow(picture, cmap=plt.cm.binary);"
   ]
  },
  {
   "cell_type": "code",
   "execution_count": 8,
   "metadata": {},
   "outputs": [
    {
     "data": {
      "image/png": "[encoded data removed]",
      "text/plain": [
       "<Figure size 432x288 with 1 Axes>"
      ]
     },
     "metadata": {
      "needs_background": "light"
     },
     "output_type": "display_data"
    }
   ],
   "source": [
    "picture_show(data_train, 0)"
   ]
  },
  {
   "cell_type": "code",
   "execution_count": 9,
   "metadata": {},
   "outputs": [
    {
     "data": {
      "image/png": "[encoded data removed]",
      "text/plain": [
       "<Figure size 1440x288 with 20 Axes>"
      ]
     },
     "metadata": {},
     "output_type": "display_data"
    }
   ],
   "source": [
    "nrows, ncols = 2, 10\n",
    "fig, ax = plt.subplots(nrows, ncols, figsize=(2*ncols, 2*nrows))\n",
    "for row in range(nrows):\n",
    "    for col in range(ncols):\n",
    "        num = row * nrows + col\n",
    "        picture_show(data_train, num, ax[row, col])\n",
    "        ax[row, col].set_xticks([])\n",
    "        ax[row, col].set_yticks([])\n",
    "plt.tight_layout()"
   ]
  },
  {
   "cell_type": "markdown",
   "metadata": {},
   "source": [
    "### Подготовим данные"
   ]
  },
  {
   "cell_type": "code",
   "execution_count": 10,
   "metadata": {},
   "outputs": [],
   "source": [
    "def get_x_y(data, num_classes=10):\n",
    "    x = data.drop(\"label\", axis=1).values.reshape(-1, 784).astype(\"float32\") / 255\n",
    "    y = tf.keras.utils.to_categorical(data[\"label\"].values, num_classes)\n",
    "    return x, y"
   ]
  },
  {
   "cell_type": "code",
   "execution_count": 13,
   "metadata": {},
   "outputs": [
    {
     "data": {
      "text/plain": [
       "((45000, 784),\n",
       " (45000, 10),\n",
       " (15000, 784),\n",
       " (15000, 10),\n",
       " (10000, 784),\n",
       " (10000, 10))"
      ]
     },
     "execution_count": 13,
     "metadata": {},
     "output_type": "execute_result"
    }
   ],
   "source": [
    "num_classes = 10 \n",
    "\n",
    "x, y = get_x_y(data_train, num_classes)\n",
    "x_train, x_val, y_train, y_val = train_test_split(x, y, test_size=0.25, random_state=42)\n",
    "\n",
    "x_test, y_test = get_x_y(data_test, num_classes)\n",
    "\n",
    "x_train.shape, y_train.shape, x_val.shape, y_val.shape, x_test.shape, y_test.shape"
   ]
  },
  {
   "cell_type": "markdown",
   "metadata": {},
   "source": [
    "## 1. Логистическая регрессия"
   ]
  },
  {
   "cell_type": "markdown",
   "metadata": {},
   "source": [
    "Для решения задачи классификации предлагается начать с использования логистической регрессии. В данном случае, количество признаков равно 28x28=784, так же мы имеем 60000 объектов в тренировочной выборке. Рекомендуется использовать **tensorflow** или **keras** для выполнения этого задания. Используйте стохастический градиентный спуск (**stochastic gradient descent**) в качестве алгоритма оптимизации.\n",
    "\n",
    "По своей сути, логистическая регрессия может быть реализована как нейронная сеть без скрытых слоев. В выходном слое содержится количество нейронов, равное количеству классов. В качестве функции активации выходного слоя следует использовать **softmax**.\n",
    "\n",
    "Обучите логистическую регрессию на тренировочной выборке и оцените качество на тестовой выборке используя метрику **accuracy**. Постройте график качества модели на валидационной выборке от количества эпох. Для этого вы можете использовать утилиту **tensorboard**\n",
    "- [tensorboard в tensorflow](https://www.tensorflow.org/guide/summaries_and_tensorboard)\n",
    "- [tensorboard в keras](https://keras.io/callbacks/#tensorboard)"
   ]
  },
  {
   "cell_type": "code",
   "execution_count": 15,
   "metadata": {},
   "outputs": [],
   "source": [
    "def create_model():\n",
    "    model = tf.keras.models.Sequential() \n",
    "    model.add(tf.keras.layers.Dense(num_classes, input_shape=(784,), activation=\"softmax\"))\n",
    "\n",
    "    model.compile(\n",
    "        loss=\"categorical_crossentropy\", \n",
    "        optimizer=\"sgd\", \n",
    "        metrics=[\"accuracy\"]\n",
    "    )\n",
    "    return model"
   ]
  },
  {
   "cell_type": "code",
   "execution_count": 16,
   "metadata": {},
   "outputs": [
    {
     "name": "stdout",
     "output_type": "stream",
     "text": [
      "Model: \"sequential\"\n",
      "_________________________________________________________________\n",
      "Layer (type)                 Output Shape              Param #   \n",
      "=================================================================\n",
      "dense (Dense)                (None, 10)                7850      \n",
      "=================================================================\n",
      "Total params: 7,850\n",
      "Trainable params: 7,850\n",
      "Non-trainable params: 0\n",
      "_________________________________________________________________\n"
     ]
    }
   ],
   "source": [
    "model = create_model()\n",
    "model.summary()"
   ]
  },
  {
   "cell_type": "code",
   "execution_count": 17,
   "metadata": {},
   "outputs": [],
   "source": [
    "class AccuracyHistory(tf.keras.callbacks.Callback):\n",
    "    def on_train_begin(self, logs={}):\n",
    "        self.accuracy = []\n",
    "        self.val_accuracy = []\n",
    "\n",
    "    def on_epoch_end (self, epoch, logs={}):\n",
    "        self.accuracy.append(logs.get('accuracy'))\n",
    "        self.val_accuracy.append(logs.get('val_accuracy'))\n",
    "        "
   ]
  },
  {
   "cell_type": "code",
   "execution_count": 18,
   "metadata": {
    "scrolled": true
   },
   "outputs": [
    {
     "name": "stdout",
     "output_type": "stream",
     "text": [
      "Train on 45000 samples, validate on 15000 samples\n",
      "Epoch 1/20\n",
      "45000/45000 [==============================] - 3s 64us/sample - loss: 0.8863 - accuracy: 0.7202 - val_loss: 0.6808 - val_accuracy: 0.7768\n",
      "Epoch 2/20\n",
      "45000/45000 [==============================] - 2s 50us/sample - loss: 0.6265 - accuracy: 0.7983 - val_loss: 0.5952 - val_accuracy: 0.8021\n",
      "Epoch 3/20\n",
      "45000/45000 [==============================] - 2s 49us/sample - loss: 0.5703 - accuracy: 0.8137 - val_loss: 0.5591 - val_accuracy: 0.8116\n",
      "Epoch 4/20\n",
      "45000/45000 [==============================] - 2s 49us/sample - loss: 0.5402 - accuracy: 0.8223 - val_loss: 0.5397 - val_accuracy: 0.8119\n",
      "Epoch 5/20\n",
      "45000/45000 [==============================] - 2s 49us/sample - loss: 0.5203 - accuracy: 0.8283 - val_loss: 0.5229 - val_accuracy: 0.8238\n",
      "Epoch 6/20\n",
      "45000/45000 [==============================] - 2s 49us/sample - loss: 0.5060 - accuracy: 0.8317 - val_loss: 0.5075 - val_accuracy: 0.8270\n",
      "Epoch 7/20\n",
      "45000/45000 [==============================] - 2s 48us/sample - loss: 0.4949 - accuracy: 0.8345 - val_loss: 0.5062 - val_accuracy: 0.8246\n",
      "Epoch 8/20\n",
      "45000/45000 [==============================] - 2s 49us/sample - loss: 0.4858 - accuracy: 0.8366 - val_loss: 0.4891 - val_accuracy: 0.8343\n",
      "Epoch 9/20\n",
      "45000/45000 [==============================] - 2s 50us/sample - loss: 0.4788 - accuracy: 0.8393 - val_loss: 0.4829 - val_accuracy: 0.8353\n",
      "Epoch 10/20\n",
      "45000/45000 [==============================] - 2s 46us/sample - loss: 0.4722 - accuracy: 0.8411 - val_loss: 0.4765 - val_accuracy: 0.8373\n",
      "Epoch 11/20\n",
      "45000/45000 [==============================] - 2s 47us/sample - loss: 0.4669 - accuracy: 0.8420 - val_loss: 0.4722 - val_accuracy: 0.8370\n",
      "Epoch 12/20\n",
      "45000/45000 [==============================] - 2s 48us/sample - loss: 0.4624 - accuracy: 0.8439 - val_loss: 0.4707 - val_accuracy: 0.8377\n",
      "Epoch 13/20\n",
      "45000/45000 [==============================] - 2s 48us/sample - loss: 0.4579 - accuracy: 0.8447 - val_loss: 0.4725 - val_accuracy: 0.8366\n",
      "Epoch 14/20\n",
      "45000/45000 [==============================] - 2s 47us/sample - loss: 0.4541 - accuracy: 0.8462 - val_loss: 0.4667 - val_accuracy: 0.8393\n",
      "Epoch 15/20\n",
      "45000/45000 [==============================] - 2s 52us/sample - loss: 0.4509 - accuracy: 0.8475 - val_loss: 0.4597 - val_accuracy: 0.8415\n",
      "Epoch 16/20\n",
      "45000/45000 [==============================] - 3s 56us/sample - loss: 0.4478 - accuracy: 0.8488 - val_loss: 0.4634 - val_accuracy: 0.8409\n",
      "Epoch 17/20\n",
      "45000/45000 [==============================] - 2s 54us/sample - loss: 0.4448 - accuracy: 0.8489 - val_loss: 0.4555 - val_accuracy: 0.8443\n",
      "Epoch 18/20\n",
      "45000/45000 [==============================] - 3s 56us/sample - loss: 0.4421 - accuracy: 0.8504 - val_loss: 0.4544 - val_accuracy: 0.8430\n",
      "Epoch 19/20\n",
      "45000/45000 [==============================] - 2s 55us/sample - loss: 0.4400 - accuracy: 0.8520 - val_loss: 0.4520 - val_accuracy: 0.8461\n",
      "Epoch 20/20\n",
      "45000/45000 [==============================] - 2s 53us/sample - loss: 0.4376 - accuracy: 0.8511 - val_loss: 0.4543 - val_accuracy: 0.8434\n"
     ]
    },
    {
     "data": {
      "text/plain": [
       "<tensorflow.python.keras.callbacks.History at 0x122fa6fe0b8>"
      ]
     },
     "execution_count": 18,
     "metadata": {},
     "output_type": "execute_result"
    }
   ],
   "source": [
    "random.seed(17)\n",
    "\n",
    "history = AccuracyHistory()\n",
    "model.fit(x_train, y_train, epochs=20, validation_freq=1, verbose=1,  validation_data=(x_val, y_val), callbacks=[history])"
   ]
  },
  {
   "cell_type": "code",
   "execution_count": 19,
   "metadata": {},
   "outputs": [],
   "source": [
    "plt.style.use('ggplot')"
   ]
  },
  {
   "cell_type": "code",
   "execution_count": 20,
   "metadata": {},
   "outputs": [
    {
     "data": {
      "image/png": "[encoded data removed]",
      "text/plain": [
       "<Figure size 432x288 with 1 Axes>"
      ]
     },
     "metadata": {},
     "output_type": "display_data"
    }
   ],
   "source": [
    "plt.plot(range(1, 21), history.accuracy, label=\"train_accuracy\")\n",
    "plt.plot(range(1, 21), history.val_accuracy, label=\"val_accuracy\")\n",
    "plt.legend()\n",
    "plt.xticks(range(1, 21, 2))\n",
    "plt.title(\"Accuracy vs epoch\")\n",
    "plt.ylabel(\"Accuracy\")\n",
    "plt.xlabel(\"Epoch number\");"
   ]
  },
  {
   "cell_type": "code",
   "execution_count": 21,
   "metadata": {},
   "outputs": [
    {
     "name": "stdout",
     "output_type": "stream",
     "text": [
      "Test loss: 0.4530133586883545\n",
      "Test accuracy: 0.8508\n"
     ]
    }
   ],
   "source": [
    "loss, accuracy = model.evaluate(x_test, y_test, verbose=0) \n",
    "print(\"Test loss:\", loss) \n",
    "print(\"Test accuracy:\", accuracy)"
   ]
  },
  {
   "cell_type": "markdown",
   "metadata": {},
   "source": [
    "## 2. Полносвязная нейронная сеть"
   ]
  },
  {
   "cell_type": "markdown",
   "metadata": {},
   "source": [
    "Реализовать полносвязную нейронную сеть с несколькими скрытыми слоями. Обучить модель и посчитать качество на тестовой выборке. Как оно изменилось в сравнении с логистической регрессией? Как вы можете объяснить этот результат?"
   ]
  },
  {
   "cell_type": "code",
   "execution_count": 22,
   "metadata": {},
   "outputs": [],
   "source": [
    "def create_model():\n",
    "    model = tf.keras.models.Sequential() \n",
    "    model.add(tf.keras.layers.Dense(256, activation=\"relu\", input_shape=(784,))) \n",
    "    model.add(tf.keras.layers.Dense(256, activation=\"relu\"))\n",
    "    model.add(tf.keras.layers.Dense(num_classes, activation=\"softmax\"))\n",
    "\n",
    "    model.compile(\n",
    "        loss=\"categorical_crossentropy\", \n",
    "        optimizer=\"sgd\", \n",
    "        metrics=[\"accuracy\"]\n",
    "    )\n",
    "    return model"
   ]
  },
  {
   "cell_type": "code",
   "execution_count": 23,
   "metadata": {},
   "outputs": [
    {
     "name": "stdout",
     "output_type": "stream",
     "text": [
      "Model: \"sequential_1\"\n",
      "_________________________________________________________________\n",
      "Layer (type)                 Output Shape              Param #   \n",
      "=================================================================\n",
      "dense_1 (Dense)              (None, 256)               200960    \n",
      "_________________________________________________________________\n",
      "dense_2 (Dense)              (None, 256)               65792     \n",
      "_________________________________________________________________\n",
      "dense_3 (Dense)              (None, 10)                2570      \n",
      "=================================================================\n",
      "Total params: 269,322\n",
      "Trainable params: 269,322\n",
      "Non-trainable params: 0\n",
      "_________________________________________________________________\n"
     ]
    }
   ],
   "source": [
    "model = create_model()\n",
    "model.summary()"
   ]
  },
  {
   "cell_type": "code",
   "execution_count": 24,
   "metadata": {
    "scrolled": true
   },
   "outputs": [
    {
     "name": "stdout",
     "output_type": "stream",
     "text": [
      "Train on 45000 samples, validate on 15000 samples\n",
      "Epoch 1/20\n",
      "45000/45000 [==============================] - 5s 112us/sample - loss: 0.7706 - accuracy: 0.7454 - val_loss: 0.5603 - val_accuracy: 0.8059\n",
      "Epoch 2/20\n",
      "45000/45000 [==============================] - 5s 101us/sample - loss: 0.5132 - accuracy: 0.8224 - val_loss: 0.5431 - val_accuracy: 0.8114\n",
      "Epoch 3/20\n",
      "45000/45000 [==============================] - 5s 111us/sample - loss: 0.4625 - accuracy: 0.8381 - val_loss: 0.5724 - val_accuracy: 0.7907\n",
      "Epoch 4/20\n",
      "45000/45000 [==============================] - 5s 102us/sample - loss: 0.4325 - accuracy: 0.8505 - val_loss: 0.4274 - val_accuracy: 0.8525\n",
      "Epoch 5/20\n",
      "45000/45000 [==============================] - 5s 104us/sample - loss: 0.4136 - accuracy: 0.8544 - val_loss: 0.4235 - val_accuracy: 0.8503\n",
      "Epoch 6/20\n",
      "45000/45000 [==============================] - 5s 106us/sample - loss: 0.3964 - accuracy: 0.8613 - val_loss: 0.4114 - val_accuracy: 0.8534\n",
      "Epoch 7/20\n",
      "45000/45000 [==============================] - 4s 98us/sample - loss: 0.3822 - accuracy: 0.8662 - val_loss: 0.5257 - val_accuracy: 0.7980\n",
      "Epoch 8/20\n",
      "45000/45000 [==============================] - 5s 111us/sample - loss: 0.3713 - accuracy: 0.8699 - val_loss: 0.3943 - val_accuracy: 0.8630\n",
      "Epoch 9/20\n",
      "45000/45000 [==============================] - 5s 115us/sample - loss: 0.3604 - accuracy: 0.8721 - val_loss: 0.3899 - val_accuracy: 0.8579\n",
      "Epoch 10/20\n",
      "45000/45000 [==============================] - 5s 110us/sample - loss: 0.3512 - accuracy: 0.8759 - val_loss: 0.3863 - val_accuracy: 0.8647\n",
      "Epoch 11/20\n",
      "45000/45000 [==============================] - 5s 109us/sample - loss: 0.3421 - accuracy: 0.8789 - val_loss: 0.3674 - val_accuracy: 0.8710\n",
      "Epoch 12/20\n",
      "45000/45000 [==============================] - 4s 98us/sample - loss: 0.3354 - accuracy: 0.8813 - val_loss: 0.3803 - val_accuracy: 0.8645\n",
      "Epoch 13/20\n",
      "45000/45000 [==============================] - 4s 98us/sample - loss: 0.3274 - accuracy: 0.8843 - val_loss: 0.3590 - val_accuracy: 0.8714\n",
      "Epoch 14/20\n",
      "45000/45000 [==============================] - 5s 101us/sample - loss: 0.3199 - accuracy: 0.8872 - val_loss: 0.3553 - val_accuracy: 0.8727\n",
      "Epoch 15/20\n",
      "45000/45000 [==============================] - 4s 99us/sample - loss: 0.3138 - accuracy: 0.8878 - val_loss: 0.3552 - val_accuracy: 0.8696\n",
      "Epoch 16/20\n",
      "45000/45000 [==============================] - 5s 100us/sample - loss: 0.3078 - accuracy: 0.8891 - val_loss: 0.3618 - val_accuracy: 0.8657\n",
      "Epoch 17/20\n",
      "45000/45000 [==============================] - 4s 99us/sample - loss: 0.3026 - accuracy: 0.8920 - val_loss: 0.3506 - val_accuracy: 0.8786\n",
      "Epoch 18/20\n",
      "45000/45000 [==============================] - 5s 102us/sample - loss: 0.2978 - accuracy: 0.8932 - val_loss: 0.3316 - val_accuracy: 0.8811\n",
      "Epoch 19/20\n",
      "45000/45000 [==============================] - 4s 97us/sample - loss: 0.2913 - accuracy: 0.8956 - val_loss: 0.3469 - val_accuracy: 0.8745\n",
      "Epoch 20/20\n",
      "45000/45000 [==============================] - 5s 103us/sample - loss: 0.2855 - accuracy: 0.8975 - val_loss: 0.3291 - val_accuracy: 0.8819\n"
     ]
    },
    {
     "data": {
      "text/plain": [
       "<tensorflow.python.keras.callbacks.History at 0x122df6cc4e0>"
      ]
     },
     "execution_count": 24,
     "metadata": {},
     "output_type": "execute_result"
    }
   ],
   "source": [
    "random.seed(17)\n",
    "\n",
    "history = AccuracyHistory()\n",
    "model.fit(x_train, y_train, epochs=20, validation_freq=1, verbose=1,  validation_data=(x_val, y_val), callbacks=[history])"
   ]
  },
  {
   "cell_type": "code",
   "execution_count": 25,
   "metadata": {},
   "outputs": [
    {
     "data": {
      "image/png": "[encoded data removed]",
      "text/plain": [
       "<Figure size 432x288 with 1 Axes>"
      ]
     },
     "metadata": {},
     "output_type": "display_data"
    }
   ],
   "source": [
    "plt.plot(range(1, 21), history.accuracy, label=\"train_accuracy\")\n",
    "plt.plot(range(1, 21), history.val_accuracy, label=\"val_accuracy\")\n",
    "plt.legend()\n",
    "plt.xticks(range(1, 21, 2))\n",
    "plt.title(\"Accuracy vs epoch\")\n",
    "plt.ylabel(\"Accuracy\")\n",
    "plt.xlabel(\"Epoch number\");"
   ]
  },
  {
   "cell_type": "code",
   "execution_count": 26,
   "metadata": {},
   "outputs": [
    {
     "name": "stdout",
     "output_type": "stream",
     "text": [
      "Test loss: 0.3225673417329788\n",
      "Test accuracy: 0.8862\n"
     ]
    }
   ],
   "source": [
    "loss, accuracy = model.evaluate(x_test, y_test, verbose=0) \n",
    "print(\"Test loss:\", loss) \n",
    "print(\"Test accuracy:\", accuracy)"
   ]
  },
  {
   "cell_type": "markdown",
   "metadata": {},
   "source": [
    "#### Анализ:    \n",
    "Качество по **accuracy** на тестовой выборке выросло. Объяснить можно наличием скрытых слоев с нелинейными функциями активации"
   ]
  },
  {
   "cell_type": "markdown",
   "metadata": {},
   "source": [
    "## 3. Сверточная нейронная сеть"
   ]
  },
  {
   "cell_type": "markdown",
   "metadata": {},
   "source": [
    "Реализовать сверточную нейронную сеть. В данном случае лучше использовать готовые слои, которые предоставляют **keras** или **tensorflow**."
   ]
  },
  {
   "cell_type": "markdown",
   "metadata": {},
   "source": [
    "#### подготовим данные (переформатируем под сверточные сети)"
   ]
  },
  {
   "cell_type": "code",
   "execution_count": 31,
   "metadata": {},
   "outputs": [],
   "source": [
    "x_train = x_train.reshape(-1, 28, 28, 1) \n",
    "x_val = x_val.reshape(-1, 28, 28, 1) \n",
    "x_test = x_test.reshape(-1, 28, 28, 1)"
   ]
  },
  {
   "cell_type": "markdown",
   "metadata": {},
   "source": [
    "Начните с модели с несколькими сверточными слоями. Так же рекомендуется использовать слои суб-дискретизации, например **Max Pooling** слои. Они понижают размерность сходных данных и выделяют наиболее важные признаки из данных. Посчитайте качество получившейся модели на тестовой выборке. Сравните полученные результаты с результатами полносвязной нейронной сети."
   ]
  },
  {
   "cell_type": "code",
   "execution_count": 32,
   "metadata": {},
   "outputs": [],
   "source": [
    "def create_model():\n",
    "    model = tf.keras.models.Sequential() \n",
    "    model.add(tf.keras.layers.Convolution2D(filters=32, input_shape=(28, 28, 1), kernel_size=(3, 3), activation='relu'))\n",
    "    model.add(tf.keras.layers.MaxPooling2D(pool_size=(2, 2)))\n",
    "    model.add(tf.keras.layers.Convolution2D(filters=64, kernel_size=(3, 3), activation='relu'))\n",
    "    model.add(tf.keras.layers.MaxPooling2D(pool_size=(2, 2)))\n",
    "    model.add(tf.keras.layers.Flatten())\n",
    "    model.add(tf.keras.layers.Dense(64, activation=\"relu\"))\n",
    "    model.add(tf.keras.layers.Dense(num_classes, activation=\"softmax\"))\n",
    "\n",
    "    model.compile(\n",
    "        loss=\"categorical_crossentropy\", \n",
    "        optimizer=\"sgd\", \n",
    "        metrics=[\"accuracy\"]\n",
    "    )\n",
    "    return model"
   ]
  },
  {
   "cell_type": "code",
   "execution_count": 33,
   "metadata": {},
   "outputs": [
    {
     "name": "stdout",
     "output_type": "stream",
     "text": [
      "Model: \"sequential_3\"\n",
      "_________________________________________________________________\n",
      "Layer (type)                 Output Shape              Param #   \n",
      "=================================================================\n",
      "conv2d_2 (Conv2D)            (None, 26, 26, 32)        320       \n",
      "_________________________________________________________________\n",
      "max_pooling2d_2 (MaxPooling2 (None, 13, 13, 32)        0         \n",
      "_________________________________________________________________\n",
      "conv2d_3 (Conv2D)            (None, 11, 11, 64)        18496     \n",
      "_________________________________________________________________\n",
      "max_pooling2d_3 (MaxPooling2 (None, 5, 5, 64)          0         \n",
      "_________________________________________________________________\n",
      "flatten_1 (Flatten)          (None, 1600)              0         \n",
      "_________________________________________________________________\n",
      "dense_6 (Dense)              (None, 64)                102464    \n",
      "_________________________________________________________________\n",
      "dense_7 (Dense)              (None, 10)                650       \n",
      "=================================================================\n",
      "Total params: 121,930\n",
      "Trainable params: 121,930\n",
      "Non-trainable params: 0\n",
      "_________________________________________________________________\n"
     ]
    }
   ],
   "source": [
    "model = create_model()\n",
    "model.summary()"
   ]
  },
  {
   "cell_type": "code",
   "execution_count": 34,
   "metadata": {
    "scrolled": true
   },
   "outputs": [
    {
     "name": "stdout",
     "output_type": "stream",
     "text": [
      "Train on 45000 samples, validate on 15000 samples\n",
      "Epoch 1/20\n",
      "45000/45000 [==============================] - 30s 677us/sample - loss: 0.9748 - accuracy: 0.6544 - val_loss: 0.6638 - val_accuracy: 0.7518\n",
      "Epoch 2/20\n",
      "45000/45000 [==============================] - 33s 727us/sample - loss: 0.5828 - accuracy: 0.7832 - val_loss: 0.5565 - val_accuracy: 0.7911\n",
      "Epoch 3/20\n",
      "45000/45000 [==============================] - 32s 701us/sample - loss: 0.4958 - accuracy: 0.8177 - val_loss: 0.4646 - val_accuracy: 0.8313\n",
      "Epoch 4/20\n",
      "45000/45000 [==============================] - 29s 650us/sample - loss: 0.4481 - accuracy: 0.8375 - val_loss: 0.4442 - val_accuracy: 0.8385\n",
      "Epoch 5/20\n",
      "45000/45000 [==============================] - 31s 690us/sample - loss: 0.4182 - accuracy: 0.8483 - val_loss: 0.4930 - val_accuracy: 0.8209\n",
      "Epoch 6/20\n",
      "45000/45000 [==============================] - 32s 716us/sample - loss: 0.3939 - accuracy: 0.8584 - val_loss: 0.4129 - val_accuracy: 0.8480\n",
      "Epoch 7/20\n",
      "45000/45000 [==============================] - 31s 694us/sample - loss: 0.3761 - accuracy: 0.8640 - val_loss: 0.3797 - val_accuracy: 0.8622\n",
      "Epoch 8/20\n",
      "45000/45000 [==============================] - 31s 686us/sample - loss: 0.3616 - accuracy: 0.8683 - val_loss: 0.4093 - val_accuracy: 0.8453\n",
      "Epoch 9/20\n",
      "45000/45000 [==============================] - 30s 658us/sample - loss: 0.3493 - accuracy: 0.8740 - val_loss: 0.4206 - val_accuracy: 0.8421\n",
      "Epoch 10/20\n",
      "45000/45000 [==============================] - 31s 688us/sample - loss: 0.3398 - accuracy: 0.8762 - val_loss: 0.3614 - val_accuracy: 0.8693\n",
      "Epoch 11/20\n",
      "45000/45000 [==============================] - 29s 653us/sample - loss: 0.3317 - accuracy: 0.8800 - val_loss: 0.3454 - val_accuracy: 0.8755\n",
      "Epoch 12/20\n",
      "45000/45000 [==============================] - 29s 646us/sample - loss: 0.3234 - accuracy: 0.8829 - val_loss: 0.3332 - val_accuracy: 0.8813\n",
      "Epoch 13/20\n",
      "45000/45000 [==============================] - 29s 653us/sample - loss: 0.3148 - accuracy: 0.8854 - val_loss: 0.3514 - val_accuracy: 0.8673\n",
      "Epoch 14/20\n",
      "45000/45000 [==============================] - 31s 684us/sample - loss: 0.3078 - accuracy: 0.8879 - val_loss: 0.3600 - val_accuracy: 0.8729\n",
      "Epoch 15/20\n",
      "45000/45000 [==============================] - 30s 660us/sample - loss: 0.3009 - accuracy: 0.8915 - val_loss: 0.4253 - val_accuracy: 0.8463\n",
      "Epoch 16/20\n",
      "45000/45000 [==============================] - 30s 657us/sample - loss: 0.2960 - accuracy: 0.8925 - val_loss: 0.3453 - val_accuracy: 0.8764\n",
      "Epoch 17/20\n",
      "45000/45000 [==============================] - 30s 665us/sample - loss: 0.2892 - accuracy: 0.8954 - val_loss: 0.3242 - val_accuracy: 0.8811\n",
      "Epoch 18/20\n",
      "45000/45000 [==============================] - 33s 738us/sample - loss: 0.2827 - accuracy: 0.8973 - val_loss: 0.3154 - val_accuracy: 0.8872\n",
      "Epoch 19/20\n",
      "45000/45000 [==============================] - 30s 671us/sample - loss: 0.2761 - accuracy: 0.8988 - val_loss: 0.3287 - val_accuracy: 0.8813\n",
      "Epoch 20/20\n",
      "45000/45000 [==============================] - 30s 661us/sample - loss: 0.2712 - accuracy: 0.9006 - val_loss: 0.3260 - val_accuracy: 0.8782\n"
     ]
    },
    {
     "data": {
      "text/plain": [
       "<tensorflow.python.keras.callbacks.History at 0x122a992dda0>"
      ]
     },
     "execution_count": 34,
     "metadata": {},
     "output_type": "execute_result"
    }
   ],
   "source": [
    "random.seed(17)\n",
    "\n",
    "history = AccuracyHistory()\n",
    "model.fit(x_train, y_train, epochs=20, validation_freq=1, verbose=1,  validation_data=(x_val, y_val), callbacks=[history])"
   ]
  },
  {
   "cell_type": "code",
   "execution_count": 35,
   "metadata": {},
   "outputs": [
    {
     "data": {
      "image/png": "[encoded data removed]",
      "text/plain": [
       "<Figure size 432x288 with 1 Axes>"
      ]
     },
     "metadata": {},
     "output_type": "display_data"
    }
   ],
   "source": [
    "plt.plot(range(1, 21), history.accuracy, label=\"train_accuracy\")\n",
    "plt.plot(range(1, 21), history.val_accuracy, label=\"val_accuracy\")\n",
    "plt.legend()\n",
    "plt.xticks(range(1, 21, 2))\n",
    "plt.title(\"Accuracy vs epoch\")\n",
    "plt.ylabel(\"Accuracy\")\n",
    "plt.xlabel(\"Epoch number\");"
   ]
  },
  {
   "cell_type": "code",
   "execution_count": 36,
   "metadata": {},
   "outputs": [
    {
     "name": "stdout",
     "output_type": "stream",
     "text": [
      "Test loss: 0.3240526438474655\n",
      "Test accuracy: 0.8797\n"
     ]
    }
   ],
   "source": [
    "loss, accuracy = model.evaluate(x_test, y_test, verbose=0) \n",
    "print(\"Test loss:\", loss) \n",
    "print(\"Test accuracy:\", accuracy)"
   ]
  },
  {
   "cell_type": "markdown",
   "metadata": {},
   "source": [
    "Далее, попробуйте увеличить количество слоев в вашей нейронной сети. Достаточно добавить несколько новых сверточных слоев. Проанализируете, как изменилось качество в этом случае."
   ]
  },
  {
   "cell_type": "markdown",
   "metadata": {},
   "source": [
    "Добавим два **Convolution** слоя (без пуллинга, уже маловато разрешения для этого)"
   ]
  },
  {
   "cell_type": "code",
   "execution_count": 37,
   "metadata": {},
   "outputs": [],
   "source": [
    "def create_model():\n",
    "    model = tf.keras.models.Sequential() \n",
    "    model.add(tf.keras.layers.Convolution2D(filters=32, input_shape=(28, 28, 1), kernel_size=(3, 3), activation='relu'))\n",
    "    model.add(tf.keras.layers.MaxPooling2D(pool_size=(2, 2)))\n",
    "    model.add(tf.keras.layers.Convolution2D(filters=64, kernel_size=(3, 3), activation='relu'))\n",
    "    model.add(tf.keras.layers.MaxPooling2D(pool_size=(2, 2)))\n",
    "    model.add(tf.keras.layers.Convolution2D(filters=64, kernel_size=(3, 3), activation='relu'))\n",
    "    model.add(tf.keras.layers.Convolution2D(filters=64, kernel_size=(3, 3), activation='relu'))\n",
    "    model.add(tf.keras.layers.Flatten())\n",
    "    model.add(tf.keras.layers.Dense(64, activation=\"relu\"))\n",
    "    model.add(tf.keras.layers.Dense(num_classes, activation=\"softmax\"))\n",
    "\n",
    "    model.compile(\n",
    "        loss=\"categorical_crossentropy\", \n",
    "        optimizer=\"sgd\", \n",
    "        metrics=[\"accuracy\"]\n",
    "    )\n",
    "    return model"
   ]
  },
  {
   "cell_type": "code",
   "execution_count": 38,
   "metadata": {},
   "outputs": [
    {
     "name": "stdout",
     "output_type": "stream",
     "text": [
      "Model: \"sequential_4\"\n",
      "_________________________________________________________________\n",
      "Layer (type)                 Output Shape              Param #   \n",
      "=================================================================\n",
      "conv2d_4 (Conv2D)            (None, 26, 26, 32)        320       \n",
      "_________________________________________________________________\n",
      "max_pooling2d_4 (MaxPooling2 (None, 13, 13, 32)        0         \n",
      "_________________________________________________________________\n",
      "conv2d_5 (Conv2D)            (None, 11, 11, 64)        18496     \n",
      "_________________________________________________________________\n",
      "max_pooling2d_5 (MaxPooling2 (None, 5, 5, 64)          0         \n",
      "_________________________________________________________________\n",
      "conv2d_6 (Conv2D)            (None, 3, 3, 64)          36928     \n",
      "_________________________________________________________________\n",
      "conv2d_7 (Conv2D)            (None, 1, 1, 64)          36928     \n",
      "_________________________________________________________________\n",
      "flatten_2 (Flatten)          (None, 64)                0         \n",
      "_________________________________________________________________\n",
      "dense_8 (Dense)              (None, 64)                4160      \n",
      "_________________________________________________________________\n",
      "dense_9 (Dense)              (None, 10)                650       \n",
      "=================================================================\n",
      "Total params: 97,482\n",
      "Trainable params: 97,482\n",
      "Non-trainable params: 0\n",
      "_________________________________________________________________\n"
     ]
    }
   ],
   "source": [
    "model = create_model()\n",
    "model.summary()"
   ]
  },
  {
   "cell_type": "code",
   "execution_count": 39,
   "metadata": {},
   "outputs": [
    {
     "name": "stdout",
     "output_type": "stream",
     "text": [
      "Train on 45000 samples, validate on 15000 samples\n",
      "Epoch 1/20\n",
      "45000/45000 [==============================] - 33s 741us/sample - loss: 1.1656 - accuracy: 0.5820 - val_loss: 1.1658 - val_accuracy: 0.5275\n",
      "Epoch 2/20\n",
      "45000/45000 [==============================] - 34s 752us/sample - loss: 0.6551 - accuracy: 0.7524 - val_loss: 0.6543 - val_accuracy: 0.7257\n",
      "Epoch 3/20\n",
      "45000/45000 [==============================] - 32s 715us/sample - loss: 0.5563 - accuracy: 0.7917 - val_loss: 0.5892 - val_accuracy: 0.7739\n",
      "Epoch 4/20\n",
      "45000/45000 [==============================] - 32s 721us/sample - loss: 0.4971 - accuracy: 0.8162 - val_loss: 0.5082 - val_accuracy: 0.8071\n",
      "Epoch 5/20\n",
      "45000/45000 [==============================] - 33s 733us/sample - loss: 0.4565 - accuracy: 0.8315 - val_loss: 0.4475 - val_accuracy: 0.8305\n",
      "Epoch 6/20\n",
      "45000/45000 [==============================] - 34s 750us/sample - loss: 0.4253 - accuracy: 0.8449 - val_loss: 0.4106 - val_accuracy: 0.8504\n",
      "Epoch 7/20\n",
      "45000/45000 [==============================] - 32s 717us/sample - loss: 0.4009 - accuracy: 0.8538 - val_loss: 0.5548 - val_accuracy: 0.7648\n",
      "Epoch 8/20\n",
      "45000/45000 [==============================] - 33s 725us/sample - loss: 0.3821 - accuracy: 0.8599 - val_loss: 0.3773 - val_accuracy: 0.8606\n",
      "Epoch 9/20\n",
      "45000/45000 [==============================] - 34s 759us/sample - loss: 0.3657 - accuracy: 0.8660 - val_loss: 0.3902 - val_accuracy: 0.8537\n",
      "Epoch 10/20\n",
      "45000/45000 [==============================] - 33s 743us/sample - loss: 0.3519 - accuracy: 0.8719 - val_loss: 0.4507 - val_accuracy: 0.8365\n",
      "Epoch 11/20\n",
      "45000/45000 [==============================] - 33s 724us/sample - loss: 0.3401 - accuracy: 0.8750 - val_loss: 0.3777 - val_accuracy: 0.8575\n",
      "Epoch 12/20\n",
      "45000/45000 [==============================] - 33s 742us/sample - loss: 0.3264 - accuracy: 0.8810 - val_loss: 0.3694 - val_accuracy: 0.8575\n",
      "Epoch 13/20\n",
      "45000/45000 [==============================] - 34s 754us/sample - loss: 0.3169 - accuracy: 0.8830 - val_loss: 0.3786 - val_accuracy: 0.8634\n",
      "Epoch 14/20\n",
      "45000/45000 [==============================] - 33s 725us/sample - loss: 0.3076 - accuracy: 0.8873 - val_loss: 0.3260 - val_accuracy: 0.8817\n",
      "Epoch 15/20\n",
      "45000/45000 [==============================] - 33s 725us/sample - loss: 0.2985 - accuracy: 0.8910 - val_loss: 0.3164 - val_accuracy: 0.8856\n",
      "Epoch 16/20\n",
      "45000/45000 [==============================] - 33s 743us/sample - loss: 0.2904 - accuracy: 0.8926 - val_loss: 0.3234 - val_accuracy: 0.8849\n",
      "Epoch 17/20\n",
      "45000/45000 [==============================] - 33s 737us/sample - loss: 0.2813 - accuracy: 0.8958 - val_loss: 0.3091 - val_accuracy: 0.8890\n",
      "Epoch 18/20\n",
      "45000/45000 [==============================] - 32s 720us/sample - loss: 0.2744 - accuracy: 0.8999 - val_loss: 0.3305 - val_accuracy: 0.8787\n",
      "Epoch 19/20\n",
      "45000/45000 [==============================] - 33s 728us/sample - loss: 0.2673 - accuracy: 0.9011 - val_loss: 0.2989 - val_accuracy: 0.8911\n",
      "Epoch 20/20\n",
      "45000/45000 [==============================] - 34s 753us/sample - loss: 0.2609 - accuracy: 0.9047 - val_loss: 0.4067 - val_accuracy: 0.8549\n"
     ]
    },
    {
     "data": {
      "text/plain": [
       "<tensorflow.python.keras.callbacks.History at 0x122e08ee320>"
      ]
     },
     "execution_count": 39,
     "metadata": {},
     "output_type": "execute_result"
    }
   ],
   "source": [
    "random.seed(17)\n",
    "\n",
    "history = AccuracyHistory()\n",
    "model.fit(x_train, y_train, epochs=20, validation_freq=1, verbose=1,  validation_data=(x_val, y_val), callbacks=[history])"
   ]
  },
  {
   "cell_type": "code",
   "execution_count": 40,
   "metadata": {},
   "outputs": [
    {
     "data": {
      "image/png": "[encoded data removed]",
      "text/plain": [
       "<Figure size 432x288 with 1 Axes>"
      ]
     },
     "metadata": {},
     "output_type": "display_data"
    }
   ],
   "source": [
    "plt.plot(range(1, 21), history.accuracy, label=\"train_accuracy\")\n",
    "plt.plot(range(1, 21), history.val_accuracy, label=\"val_accuracy\")\n",
    "plt.legend()\n",
    "plt.xticks(range(1, 21, 2))\n",
    "plt.title(\"Accuracy vs epoch\")\n",
    "plt.ylabel(\"Accuracy\")\n",
    "plt.xlabel(\"Epoch number\");"
   ]
  },
  {
   "cell_type": "code",
   "execution_count": 41,
   "metadata": {},
   "outputs": [
    {
     "name": "stdout",
     "output_type": "stream",
     "text": [
      "Test loss: 0.39342151937484743\n",
      "Test accuracy: 0.8589\n"
     ]
    }
   ],
   "source": [
    "loss, accuracy = model.evaluate(x_test, y_test, verbose=0) \n",
    "print(\"Test loss:\", loss) \n",
    "print(\"Test accuracy:\", accuracy)"
   ]
  },
  {
   "cell_type": "markdown",
   "metadata": {},
   "source": [
    "#### Анализ:\n",
    "Добавление сверточных слоев качество на трейне увеличило, на валидации и тесте качество даже уменьшилось. Все указывает на переобучение, похоже - требуется усиление регуляризации."
   ]
  },
  {
   "cell_type": "markdown",
   "metadata": {},
   "source": [
    "В заключение, рекомендуется попробовать добавить **Batch Normalization** слои. Обычно они располагаются после сверточных слоев или слоев полносвязной нейронной сети. Обычно они улучшают качество модели, этим объясняется их популярность использования в современных архитектурах нейронных сетей. Однако, это требует проверки для конкретной модели и конкретного набора данных."
   ]
  },
  {
   "cell_type": "code",
   "execution_count": 42,
   "metadata": {},
   "outputs": [],
   "source": [
    "def create_model():\n",
    "    model = tf.keras.models.Sequential() \n",
    "    model.add(tf.keras.layers.Convolution2D(filters=32, input_shape=(28, 28, 1), kernel_size=(3, 3), activation='relu'))\n",
    "    model.add(tf.keras.layers.MaxPooling2D(pool_size=(2, 2)))\n",
    "    model.add(tf.keras.layers.Convolution2D(filters=64, kernel_size=(3, 3), activation='relu'))\n",
    "    model.add(tf.keras.layers.BatchNormalization())\n",
    "    model.add(tf.keras.layers.MaxPooling2D(pool_size=(2, 2)))\n",
    "    model.add(tf.keras.layers.Convolution2D(filters=64, kernel_size=(3, 3), activation='relu'))\n",
    "    model.add(tf.keras.layers.BatchNormalization())\n",
    "    model.add(tf.keras.layers.Convolution2D(filters=64, kernel_size=(3, 3), activation='relu'))\n",
    "    model.add(tf.keras.layers.Flatten())\n",
    "    model.add(tf.keras.layers.Dense(64, activation=\"relu\"))\n",
    "    model.add(tf.keras.layers.BatchNormalization())\n",
    "    model.add(tf.keras.layers.Dense(num_classes, activation=\"softmax\"))\n",
    "\n",
    "    model.compile(\n",
    "        loss=\"categorical_crossentropy\", \n",
    "        optimizer=\"sgd\", \n",
    "        metrics=[\"accuracy\"]\n",
    "    )\n",
    "    return model"
   ]
  },
  {
   "cell_type": "code",
   "execution_count": 43,
   "metadata": {},
   "outputs": [
    {
     "name": "stdout",
     "output_type": "stream",
     "text": [
      "Model: \"sequential_5\"\n",
      "_________________________________________________________________\n",
      "Layer (type)                 Output Shape              Param #   \n",
      "=================================================================\n",
      "conv2d_8 (Conv2D)            (None, 26, 26, 32)        320       \n",
      "_________________________________________________________________\n",
      "max_pooling2d_6 (MaxPooling2 (None, 13, 13, 32)        0         \n",
      "_________________________________________________________________\n",
      "conv2d_9 (Conv2D)            (None, 11, 11, 64)        18496     \n",
      "_________________________________________________________________\n",
      "batch_normalization (BatchNo (None, 11, 11, 64)        256       \n",
      "_________________________________________________________________\n",
      "max_pooling2d_7 (MaxPooling2 (None, 5, 5, 64)          0         \n",
      "_________________________________________________________________\n",
      "conv2d_10 (Conv2D)           (None, 3, 3, 64)          36928     \n",
      "_________________________________________________________________\n",
      "batch_normalization_1 (Batch (None, 3, 3, 64)          256       \n",
      "_________________________________________________________________\n",
      "conv2d_11 (Conv2D)           (None, 1, 1, 64)          36928     \n",
      "_________________________________________________________________\n",
      "flatten_3 (Flatten)          (None, 64)                0         \n",
      "_________________________________________________________________\n",
      "dense_10 (Dense)             (None, 64)                4160      \n",
      "_________________________________________________________________\n",
      "batch_normalization_2 (Batch (None, 64)                256       \n",
      "_________________________________________________________________\n",
      "dense_11 (Dense)             (None, 10)                650       \n",
      "=================================================================\n",
      "Total params: 98,250\n",
      "Trainable params: 97,866\n",
      "Non-trainable params: 384\n",
      "_________________________________________________________________\n"
     ]
    }
   ],
   "source": [
    "model = create_model()\n",
    "model.summary()"
   ]
  },
  {
   "cell_type": "code",
   "execution_count": 44,
   "metadata": {},
   "outputs": [
    {
     "name": "stdout",
     "output_type": "stream",
     "text": [
      "Train on 45000 samples, validate on 15000 samples\n",
      "Epoch 1/20\n",
      "45000/45000 [==============================] - 40s 880us/sample - loss: 0.5262 - accuracy: 0.8160 - val_loss: 0.4877 - val_accuracy: 0.8213\n",
      "Epoch 2/20\n",
      "45000/45000 [==============================] - 34s 755us/sample - loss: 0.3560 - accuracy: 0.8731 - val_loss: 0.3965 - val_accuracy: 0.8521\n",
      "Epoch 3/20\n",
      "45000/45000 [==============================] - 35s 781us/sample - loss: 0.3083 - accuracy: 0.8883 - val_loss: 0.3055 - val_accuracy: 0.8905\n",
      "Epoch 4/20\n",
      "45000/45000 [==============================] - 34s 755us/sample - loss: 0.2783 - accuracy: 0.9017 - val_loss: 0.4090 - val_accuracy: 0.8427\n",
      "Epoch 5/20\n",
      "45000/45000 [==============================] - 34s 745us/sample - loss: 0.2562 - accuracy: 0.9072 - val_loss: 0.3534 - val_accuracy: 0.8697\n",
      "Epoch 6/20\n",
      "45000/45000 [==============================] - 34s 762us/sample - loss: 0.2405 - accuracy: 0.9125 - val_loss: 0.2996 - val_accuracy: 0.8946\n",
      "Epoch 7/20\n",
      "45000/45000 [==============================] - 34s 765us/sample - loss: 0.2227 - accuracy: 0.9187 - val_loss: 0.4124 - val_accuracy: 0.8477\n",
      "Epoch 8/20\n",
      "45000/45000 [==============================] - 34s 746us/sample - loss: 0.2104 - accuracy: 0.9232 - val_loss: 0.3698 - val_accuracy: 0.8595\n",
      "Epoch 9/20\n",
      "45000/45000 [==============================] - 34s 749us/sample - loss: 0.1980 - accuracy: 0.9281 - val_loss: 0.2879 - val_accuracy: 0.8999\n",
      "Epoch 10/20\n",
      "45000/45000 [==============================] - 35s 780us/sample - loss: 0.1853 - accuracy: 0.9336 - val_loss: 0.3417 - val_accuracy: 0.8784\n",
      "Epoch 11/20\n",
      "45000/45000 [==============================] - 34s 753us/sample - loss: 0.1753 - accuracy: 0.9368 - val_loss: 0.3247 - val_accuracy: 0.8887\n",
      "Epoch 12/20\n",
      "45000/45000 [==============================] - 34s 752us/sample - loss: 0.1646 - accuracy: 0.9402 - val_loss: 0.2827 - val_accuracy: 0.9005\n",
      "Epoch 13/20\n",
      "45000/45000 [==============================] - 35s 770us/sample - loss: 0.1560 - accuracy: 0.9436 - val_loss: 0.3472 - val_accuracy: 0.8837\n",
      "Epoch 14/20\n",
      "45000/45000 [==============================] - 35s 775us/sample - loss: 0.1447 - accuracy: 0.9477 - val_loss: 0.8055 - val_accuracy: 0.8175\n",
      "Epoch 15/20\n",
      "45000/45000 [==============================] - 42s 931us/sample - loss: 0.1405 - accuracy: 0.9482 - val_loss: 0.3218 - val_accuracy: 0.8953\n",
      "Epoch 16/20\n",
      "45000/45000 [==============================] - 44s 975us/sample - loss: 0.1298 - accuracy: 0.9530 - val_loss: 0.3731 - val_accuracy: 0.8767\n",
      "Epoch 17/20\n",
      "45000/45000 [==============================] - 43s 952us/sample - loss: 0.1220 - accuracy: 0.9564 - val_loss: 0.6800 - val_accuracy: 0.7948\n",
      "Epoch 18/20\n",
      "45000/45000 [==============================] - 43s 958us/sample - loss: 0.1176 - accuracy: 0.9578 - val_loss: 0.4212 - val_accuracy: 0.8740\n",
      "Epoch 19/20\n",
      "45000/45000 [==============================] - 43s 962us/sample - loss: 0.1099 - accuracy: 0.9611 - val_loss: 0.3482 - val_accuracy: 0.8923\n",
      "Epoch 20/20\n",
      "45000/45000 [==============================] - 43s 962us/sample - loss: 0.1014 - accuracy: 0.9641 - val_loss: 0.9988 - val_accuracy: 0.7803\n"
     ]
    },
    {
     "data": {
      "text/plain": [
       "<tensorflow.python.keras.callbacks.History at 0x122e1366da0>"
      ]
     },
     "execution_count": 44,
     "metadata": {},
     "output_type": "execute_result"
    }
   ],
   "source": [
    "random.seed(17)\n",
    "\n",
    "history = AccuracyHistory()\n",
    "model.fit(x_train, y_train, epochs=20, validation_freq=1, verbose=1,  validation_data=(x_val, y_val), callbacks=[history])"
   ]
  },
  {
   "cell_type": "code",
   "execution_count": 45,
   "metadata": {},
   "outputs": [
    {
     "data": {
      "image/png": "[encoded data removed]",
      "text/plain": [
       "<Figure size 432x288 with 1 Axes>"
      ]
     },
     "metadata": {},
     "output_type": "display_data"
    }
   ],
   "source": [
    "plt.plot(range(1, 21), history.accuracy, label=\"train_accuracy\")\n",
    "plt.plot(range(1, 21), history.val_accuracy, label=\"val_accuracy\")\n",
    "plt.legend()\n",
    "plt.xticks(range(1, 21, 2))\n",
    "plt.title(\"Accuracy vs epoch\")\n",
    "plt.ylabel(\"Accuracy\")\n",
    "plt.xlabel(\"Epoch number\");"
   ]
  },
  {
   "cell_type": "code",
   "execution_count": 46,
   "metadata": {},
   "outputs": [
    {
     "name": "stdout",
     "output_type": "stream",
     "text": [
      "Test loss: 0.9806315941572189\n",
      "Test accuracy: 0.7791\n"
     ]
    }
   ],
   "source": [
    "loss, accuracy = model.evaluate(x_test, y_test, verbose=0) \n",
    "print(\"Test loss:\", loss) \n",
    "print(\"Test accuracy:\", accuracy)"
   ]
  },
  {
   "cell_type": "markdown",
   "metadata": {},
   "source": [
    "### Анализ:    \n",
    "Качество на трейне растет, на валидации и тесте - падает. Явное переобучение. Необходима дальнейшая работа над оптимизацией архитектуры сети. Возможно, недостаточно данных.\n",
    "\n",
    "Как было заявлено -   \n",
    "\"цель – научиться работать с различными моделями машинного обучения. Вам необязательно строить самую лучшую модель и получать лучшее качество на тестовых данных. Самое важное – это научиться обучать модели и анализировать полученные результаты\"\n",
    "\n",
    "Поэтому оптимизировать дальше не будем, ограничимся процессом опробования и анализа различных архитектур."
   ]
  }
 ],
 "metadata": {
  "kernelspec": {
   "display_name": "Python 3",
   "language": "python",
   "name": "python3"
  },
  "language_info": {
   "codemirror_mode": {
    "name": "ipython",
    "version": 3
   },
   "file_extension": ".py",
   "mimetype": "text/x-python",
   "name": "python",
   "nbconvert_exporter": "python",
   "pygments_lexer": "ipython3",
   "version": "3.7.3"
  }
 },
 "nbformat": 4,
 "nbformat_minor": 2
}
